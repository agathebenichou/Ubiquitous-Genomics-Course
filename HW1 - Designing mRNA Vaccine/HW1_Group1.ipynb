{
  "nbformat": 4,
  "nbformat_minor": 0,
  "metadata": {
    "colab": {
      "name": "HW1_Group1",
      "provenance": [],
      "machine_shape": "hm",
      "collapsed_sections": []
    },
    "kernelspec": {
      "name": "python3",
      "display_name": "Python 3"
    },
    "language_info": {
      "name": "python"
    },
    "accelerator": "GPU"
  },
  "cells": [
    {
      "cell_type": "markdown",
      "source": [
        "# Exercise 1: Designing an mRNA vaccine against SARS-CoV-2 variants"
      ],
      "metadata": {
        "id": "my-ZlnsIQPWv"
      }
    },
    {
      "cell_type": "markdown",
      "source": [
        "Gil Ayache 200358612\n",
        "\n",
        "Joel Liurner 346243579\n",
        "\n",
        "Benjamin Kramek 200208957\n",
        "\n",
        "Agathe Benichou 345428312"
      ],
      "metadata": {
        "id": "u9VY5IpttRTJ"
      }
    },
    {
      "cell_type": "markdown",
      "source": [
        "### Prerequisites:"
      ],
      "metadata": {
        "id": "3YxEIxYIQVbk"
      }
    },
    {
      "cell_type": "markdown",
      "source": [
        "Step 1: Install BioPython Package"
      ],
      "metadata": {
        "id": "FNjgkke2Qe1d"
      }
    },
    {
      "cell_type": "code",
      "execution_count": null,
      "metadata": {
        "id": "WdX8cw6IDTNc",
        "colab": {
          "base_uri": "https://localhost:8080/"
        },
        "outputId": "69f2092d-6c4c-4710-d7d4-f999e408fa6e"
      },
      "outputs": [
        {
          "output_type": "stream",
          "name": "stdout",
          "text": [
            "\u001b[?25l\r\u001b[K     |▏                               | 10 kB 17.0 MB/s eta 0:00:01\r\u001b[K     |▎                               | 20 kB 22.9 MB/s eta 0:00:01\r\u001b[K     |▍                               | 30 kB 14.0 MB/s eta 0:00:01\r\u001b[K     |▋                               | 40 kB 10.0 MB/s eta 0:00:01\r\u001b[K     |▊                               | 51 kB 3.9 MB/s eta 0:00:01\r\u001b[K     |▉                               | 61 kB 4.6 MB/s eta 0:00:01\r\u001b[K     |█                               | 71 kB 4.7 MB/s eta 0:00:01\r\u001b[K     |█▏                              | 81 kB 4.5 MB/s eta 0:00:01\r\u001b[K     |█▎                              | 92 kB 5.0 MB/s eta 0:00:01\r\u001b[K     |█▍                              | 102 kB 4.5 MB/s eta 0:00:01\r\u001b[K     |█▋                              | 112 kB 4.5 MB/s eta 0:00:01\r\u001b[K     |█▊                              | 122 kB 4.5 MB/s eta 0:00:01\r\u001b[K     |█▉                              | 133 kB 4.5 MB/s eta 0:00:01\r\u001b[K     |██                              | 143 kB 4.5 MB/s eta 0:00:01\r\u001b[K     |██▏                             | 153 kB 4.5 MB/s eta 0:00:01\r\u001b[K     |██▎                             | 163 kB 4.5 MB/s eta 0:00:01\r\u001b[K     |██▍                             | 174 kB 4.5 MB/s eta 0:00:01\r\u001b[K     |██▋                             | 184 kB 4.5 MB/s eta 0:00:01\r\u001b[K     |██▊                             | 194 kB 4.5 MB/s eta 0:00:01\r\u001b[K     |██▉                             | 204 kB 4.5 MB/s eta 0:00:01\r\u001b[K     |███                             | 215 kB 4.5 MB/s eta 0:00:01\r\u001b[K     |███▏                            | 225 kB 4.5 MB/s eta 0:00:01\r\u001b[K     |███▎                            | 235 kB 4.5 MB/s eta 0:00:01\r\u001b[K     |███▌                            | 245 kB 4.5 MB/s eta 0:00:01\r\u001b[K     |███▋                            | 256 kB 4.5 MB/s eta 0:00:01\r\u001b[K     |███▊                            | 266 kB 4.5 MB/s eta 0:00:01\r\u001b[K     |███▉                            | 276 kB 4.5 MB/s eta 0:00:01\r\u001b[K     |████                            | 286 kB 4.5 MB/s eta 0:00:01\r\u001b[K     |████▏                           | 296 kB 4.5 MB/s eta 0:00:01\r\u001b[K     |████▎                           | 307 kB 4.5 MB/s eta 0:00:01\r\u001b[K     |████▌                           | 317 kB 4.5 MB/s eta 0:00:01\r\u001b[K     |████▋                           | 327 kB 4.5 MB/s eta 0:00:01\r\u001b[K     |████▊                           | 337 kB 4.5 MB/s eta 0:00:01\r\u001b[K     |████▉                           | 348 kB 4.5 MB/s eta 0:00:01\r\u001b[K     |█████                           | 358 kB 4.5 MB/s eta 0:00:01\r\u001b[K     |█████▏                          | 368 kB 4.5 MB/s eta 0:00:01\r\u001b[K     |█████▎                          | 378 kB 4.5 MB/s eta 0:00:01\r\u001b[K     |█████▌                          | 389 kB 4.5 MB/s eta 0:00:01\r\u001b[K     |█████▋                          | 399 kB 4.5 MB/s eta 0:00:01\r\u001b[K     |█████▊                          | 409 kB 4.5 MB/s eta 0:00:01\r\u001b[K     |██████                          | 419 kB 4.5 MB/s eta 0:00:01\r\u001b[K     |██████                          | 430 kB 4.5 MB/s eta 0:00:01\r\u001b[K     |██████▏                         | 440 kB 4.5 MB/s eta 0:00:01\r\u001b[K     |██████▎                         | 450 kB 4.5 MB/s eta 0:00:01\r\u001b[K     |██████▌                         | 460 kB 4.5 MB/s eta 0:00:01\r\u001b[K     |██████▋                         | 471 kB 4.5 MB/s eta 0:00:01\r\u001b[K     |██████▊                         | 481 kB 4.5 MB/s eta 0:00:01\r\u001b[K     |███████                         | 491 kB 4.5 MB/s eta 0:00:01\r\u001b[K     |███████                         | 501 kB 4.5 MB/s eta 0:00:01\r\u001b[K     |███████▏                        | 512 kB 4.5 MB/s eta 0:00:01\r\u001b[K     |███████▎                        | 522 kB 4.5 MB/s eta 0:00:01\r\u001b[K     |███████▌                        | 532 kB 4.5 MB/s eta 0:00:01\r\u001b[K     |███████▋                        | 542 kB 4.5 MB/s eta 0:00:01\r\u001b[K     |███████▊                        | 552 kB 4.5 MB/s eta 0:00:01\r\u001b[K     |████████                        | 563 kB 4.5 MB/s eta 0:00:01\r\u001b[K     |████████                        | 573 kB 4.5 MB/s eta 0:00:01\r\u001b[K     |████████▏                       | 583 kB 4.5 MB/s eta 0:00:01\r\u001b[K     |████████▍                       | 593 kB 4.5 MB/s eta 0:00:01\r\u001b[K     |████████▌                       | 604 kB 4.5 MB/s eta 0:00:01\r\u001b[K     |████████▋                       | 614 kB 4.5 MB/s eta 0:00:01\r\u001b[K     |████████▊                       | 624 kB 4.5 MB/s eta 0:00:01\r\u001b[K     |█████████                       | 634 kB 4.5 MB/s eta 0:00:01\r\u001b[K     |█████████                       | 645 kB 4.5 MB/s eta 0:00:01\r\u001b[K     |█████████▏                      | 655 kB 4.5 MB/s eta 0:00:01\r\u001b[K     |█████████▍                      | 665 kB 4.5 MB/s eta 0:00:01\r\u001b[K     |█████████▌                      | 675 kB 4.5 MB/s eta 0:00:01\r\u001b[K     |█████████▋                      | 686 kB 4.5 MB/s eta 0:00:01\r\u001b[K     |█████████▊                      | 696 kB 4.5 MB/s eta 0:00:01\r\u001b[K     |██████████                      | 706 kB 4.5 MB/s eta 0:00:01\r\u001b[K     |██████████                      | 716 kB 4.5 MB/s eta 0:00:01\r\u001b[K     |██████████▏                     | 727 kB 4.5 MB/s eta 0:00:01\r\u001b[K     |██████████▍                     | 737 kB 4.5 MB/s eta 0:00:01\r\u001b[K     |██████████▌                     | 747 kB 4.5 MB/s eta 0:00:01\r\u001b[K     |██████████▋                     | 757 kB 4.5 MB/s eta 0:00:01\r\u001b[K     |██████████▉                     | 768 kB 4.5 MB/s eta 0:00:01\r\u001b[K     |███████████                     | 778 kB 4.5 MB/s eta 0:00:01\r\u001b[K     |███████████                     | 788 kB 4.5 MB/s eta 0:00:01\r\u001b[K     |███████████▏                    | 798 kB 4.5 MB/s eta 0:00:01\r\u001b[K     |███████████▍                    | 808 kB 4.5 MB/s eta 0:00:01\r\u001b[K     |███████████▌                    | 819 kB 4.5 MB/s eta 0:00:01\r\u001b[K     |███████████▋                    | 829 kB 4.5 MB/s eta 0:00:01\r\u001b[K     |███████████▉                    | 839 kB 4.5 MB/s eta 0:00:01\r\u001b[K     |████████████                    | 849 kB 4.5 MB/s eta 0:00:01\r\u001b[K     |████████████                    | 860 kB 4.5 MB/s eta 0:00:01\r\u001b[K     |████████████▏                   | 870 kB 4.5 MB/s eta 0:00:01\r\u001b[K     |████████████▍                   | 880 kB 4.5 MB/s eta 0:00:01\r\u001b[K     |████████████▌                   | 890 kB 4.5 MB/s eta 0:00:01\r\u001b[K     |████████████▋                   | 901 kB 4.5 MB/s eta 0:00:01\r\u001b[K     |████████████▉                   | 911 kB 4.5 MB/s eta 0:00:01\r\u001b[K     |█████████████                   | 921 kB 4.5 MB/s eta 0:00:01\r\u001b[K     |█████████████                   | 931 kB 4.5 MB/s eta 0:00:01\r\u001b[K     |█████████████▎                  | 942 kB 4.5 MB/s eta 0:00:01\r\u001b[K     |█████████████▍                  | 952 kB 4.5 MB/s eta 0:00:01\r\u001b[K     |█████████████▌                  | 962 kB 4.5 MB/s eta 0:00:01\r\u001b[K     |█████████████▋                  | 972 kB 4.5 MB/s eta 0:00:01\r\u001b[K     |█████████████▉                  | 983 kB 4.5 MB/s eta 0:00:01\r\u001b[K     |██████████████                  | 993 kB 4.5 MB/s eta 0:00:01\r\u001b[K     |██████████████                  | 1.0 MB 4.5 MB/s eta 0:00:01\r\u001b[K     |██████████████▎                 | 1.0 MB 4.5 MB/s eta 0:00:01\r\u001b[K     |██████████████▍                 | 1.0 MB 4.5 MB/s eta 0:00:01\r\u001b[K     |██████████████▌                 | 1.0 MB 4.5 MB/s eta 0:00:01\r\u001b[K     |██████████████▋                 | 1.0 MB 4.5 MB/s eta 0:00:01\r\u001b[K     |██████████████▉                 | 1.1 MB 4.5 MB/s eta 0:00:01\r\u001b[K     |███████████████                 | 1.1 MB 4.5 MB/s eta 0:00:01\r\u001b[K     |███████████████                 | 1.1 MB 4.5 MB/s eta 0:00:01\r\u001b[K     |███████████████▎                | 1.1 MB 4.5 MB/s eta 0:00:01\r\u001b[K     |███████████████▍                | 1.1 MB 4.5 MB/s eta 0:00:01\r\u001b[K     |███████████████▌                | 1.1 MB 4.5 MB/s eta 0:00:01\r\u001b[K     |███████████████▊                | 1.1 MB 4.5 MB/s eta 0:00:01\r\u001b[K     |███████████████▉                | 1.1 MB 4.5 MB/s eta 0:00:01\r\u001b[K     |████████████████                | 1.1 MB 4.5 MB/s eta 0:00:01\r\u001b[K     |████████████████                | 1.1 MB 4.5 MB/s eta 0:00:01\r\u001b[K     |████████████████▎               | 1.2 MB 4.5 MB/s eta 0:00:01\r\u001b[K     |████████████████▍               | 1.2 MB 4.5 MB/s eta 0:00:01\r\u001b[K     |████████████████▌               | 1.2 MB 4.5 MB/s eta 0:00:01\r\u001b[K     |████████████████▊               | 1.2 MB 4.5 MB/s eta 0:00:01\r\u001b[K     |████████████████▉               | 1.2 MB 4.5 MB/s eta 0:00:01\r\u001b[K     |█████████████████               | 1.2 MB 4.5 MB/s eta 0:00:01\r\u001b[K     |█████████████████               | 1.2 MB 4.5 MB/s eta 0:00:01\r\u001b[K     |█████████████████▎              | 1.2 MB 4.5 MB/s eta 0:00:01\r\u001b[K     |█████████████████▍              | 1.2 MB 4.5 MB/s eta 0:00:01\r\u001b[K     |█████████████████▌              | 1.2 MB 4.5 MB/s eta 0:00:01\r\u001b[K     |█████████████████▊              | 1.3 MB 4.5 MB/s eta 0:00:01\r\u001b[K     |█████████████████▉              | 1.3 MB 4.5 MB/s eta 0:00:01\r\u001b[K     |██████████████████              | 1.3 MB 4.5 MB/s eta 0:00:01\r\u001b[K     |██████████████████▏             | 1.3 MB 4.5 MB/s eta 0:00:01\r\u001b[K     |██████████████████▎             | 1.3 MB 4.5 MB/s eta 0:00:01\r\u001b[K     |██████████████████▍             | 1.3 MB 4.5 MB/s eta 0:00:01\r\u001b[K     |██████████████████▌             | 1.3 MB 4.5 MB/s eta 0:00:01\r\u001b[K     |██████████████████▊             | 1.3 MB 4.5 MB/s eta 0:00:01\r\u001b[K     |██████████████████▉             | 1.3 MB 4.5 MB/s eta 0:00:01\r\u001b[K     |███████████████████             | 1.4 MB 4.5 MB/s eta 0:00:01\r\u001b[K     |███████████████████▏            | 1.4 MB 4.5 MB/s eta 0:00:01\r\u001b[K     |███████████████████▎            | 1.4 MB 4.5 MB/s eta 0:00:01\r\u001b[K     |███████████████████▍            | 1.4 MB 4.5 MB/s eta 0:00:01\r\u001b[K     |███████████████████▌            | 1.4 MB 4.5 MB/s eta 0:00:01\r\u001b[K     |███████████████████▊            | 1.4 MB 4.5 MB/s eta 0:00:01\r\u001b[K     |███████████████████▉            | 1.4 MB 4.5 MB/s eta 0:00:01\r\u001b[K     |████████████████████            | 1.4 MB 4.5 MB/s eta 0:00:01\r\u001b[K     |████████████████████▏           | 1.4 MB 4.5 MB/s eta 0:00:01\r\u001b[K     |████████████████████▎           | 1.4 MB 4.5 MB/s eta 0:00:01\r\u001b[K     |████████████████████▍           | 1.5 MB 4.5 MB/s eta 0:00:01\r\u001b[K     |████████████████████▋           | 1.5 MB 4.5 MB/s eta 0:00:01\r\u001b[K     |████████████████████▊           | 1.5 MB 4.5 MB/s eta 0:00:01\r\u001b[K     |████████████████████▉           | 1.5 MB 4.5 MB/s eta 0:00:01\r\u001b[K     |█████████████████████           | 1.5 MB 4.5 MB/s eta 0:00:01\r\u001b[K     |█████████████████████▏          | 1.5 MB 4.5 MB/s eta 0:00:01\r\u001b[K     |█████████████████████▎          | 1.5 MB 4.5 MB/s eta 0:00:01\r\u001b[K     |█████████████████████▍          | 1.5 MB 4.5 MB/s eta 0:00:01\r\u001b[K     |█████████████████████▋          | 1.5 MB 4.5 MB/s eta 0:00:01\r\u001b[K     |█████████████████████▊          | 1.5 MB 4.5 MB/s eta 0:00:01\r\u001b[K     |█████████████████████▉          | 1.6 MB 4.5 MB/s eta 0:00:01\r\u001b[K     |██████████████████████          | 1.6 MB 4.5 MB/s eta 0:00:01\r\u001b[K     |██████████████████████▏         | 1.6 MB 4.5 MB/s eta 0:00:01\r\u001b[K     |██████████████████████▎         | 1.6 MB 4.5 MB/s eta 0:00:01\r\u001b[K     |██████████████████████▍         | 1.6 MB 4.5 MB/s eta 0:00:01\r\u001b[K     |██████████████████████▋         | 1.6 MB 4.5 MB/s eta 0:00:01\r\u001b[K     |██████████████████████▊         | 1.6 MB 4.5 MB/s eta 0:00:01\r\u001b[K     |██████████████████████▉         | 1.6 MB 4.5 MB/s eta 0:00:01\r\u001b[K     |███████████████████████         | 1.6 MB 4.5 MB/s eta 0:00:01\r\u001b[K     |███████████████████████▏        | 1.6 MB 4.5 MB/s eta 0:00:01\r\u001b[K     |███████████████████████▎        | 1.7 MB 4.5 MB/s eta 0:00:01\r\u001b[K     |███████████████████████▍        | 1.7 MB 4.5 MB/s eta 0:00:01\r\u001b[K     |███████████████████████▋        | 1.7 MB 4.5 MB/s eta 0:00:01\r\u001b[K     |███████████████████████▊        | 1.7 MB 4.5 MB/s eta 0:00:01\r\u001b[K     |███████████████████████▉        | 1.7 MB 4.5 MB/s eta 0:00:01\r\u001b[K     |████████████████████████        | 1.7 MB 4.5 MB/s eta 0:00:01\r\u001b[K     |████████████████████████▏       | 1.7 MB 4.5 MB/s eta 0:00:01\r\u001b[K     |████████████████████████▎       | 1.7 MB 4.5 MB/s eta 0:00:01\r\u001b[K     |████████████████████████▍       | 1.7 MB 4.5 MB/s eta 0:00:01\r\u001b[K     |████████████████████████▋       | 1.8 MB 4.5 MB/s eta 0:00:01\r\u001b[K     |████████████████████████▊       | 1.8 MB 4.5 MB/s eta 0:00:01\r\u001b[K     |████████████████████████▉       | 1.8 MB 4.5 MB/s eta 0:00:01\r\u001b[K     |█████████████████████████       | 1.8 MB 4.5 MB/s eta 0:00:01\r\u001b[K     |█████████████████████████▏      | 1.8 MB 4.5 MB/s eta 0:00:01\r\u001b[K     |█████████████████████████▎      | 1.8 MB 4.5 MB/s eta 0:00:01\r\u001b[K     |█████████████████████████▌      | 1.8 MB 4.5 MB/s eta 0:00:01\r\u001b[K     |█████████████████████████▋      | 1.8 MB 4.5 MB/s eta 0:00:01\r\u001b[K     |█████████████████████████▊      | 1.8 MB 4.5 MB/s eta 0:00:01\r\u001b[K     |█████████████████████████▉      | 1.8 MB 4.5 MB/s eta 0:00:01\r\u001b[K     |██████████████████████████      | 1.9 MB 4.5 MB/s eta 0:00:01\r\u001b[K     |██████████████████████████▏     | 1.9 MB 4.5 MB/s eta 0:00:01\r\u001b[K     |██████████████████████████▎     | 1.9 MB 4.5 MB/s eta 0:00:01\r\u001b[K     |██████████████████████████▌     | 1.9 MB 4.5 MB/s eta 0:00:01\r\u001b[K     |██████████████████████████▋     | 1.9 MB 4.5 MB/s eta 0:00:01\r\u001b[K     |██████████████████████████▊     | 1.9 MB 4.5 MB/s eta 0:00:01\r\u001b[K     |██████████████████████████▉     | 1.9 MB 4.5 MB/s eta 0:00:01\r\u001b[K     |███████████████████████████     | 1.9 MB 4.5 MB/s eta 0:00:01\r\u001b[K     |███████████████████████████▏    | 1.9 MB 4.5 MB/s eta 0:00:01\r\u001b[K     |███████████████████████████▎    | 1.9 MB 4.5 MB/s eta 0:00:01\r\u001b[K     |███████████████████████████▌    | 2.0 MB 4.5 MB/s eta 0:00:01\r\u001b[K     |███████████████████████████▋    | 2.0 MB 4.5 MB/s eta 0:00:01\r\u001b[K     |███████████████████████████▊    | 2.0 MB 4.5 MB/s eta 0:00:01\r\u001b[K     |████████████████████████████    | 2.0 MB 4.5 MB/s eta 0:00:01\r\u001b[K     |████████████████████████████    | 2.0 MB 4.5 MB/s eta 0:00:01\r\u001b[K     |████████████████████████████▏   | 2.0 MB 4.5 MB/s eta 0:00:01\r\u001b[K     |████████████████████████████▎   | 2.0 MB 4.5 MB/s eta 0:00:01\r\u001b[K     |████████████████████████████▌   | 2.0 MB 4.5 MB/s eta 0:00:01\r\u001b[K     |████████████████████████████▋   | 2.0 MB 4.5 MB/s eta 0:00:01\r\u001b[K     |████████████████████████████▊   | 2.0 MB 4.5 MB/s eta 0:00:01\r\u001b[K     |█████████████████████████████   | 2.1 MB 4.5 MB/s eta 0:00:01\r\u001b[K     |█████████████████████████████   | 2.1 MB 4.5 MB/s eta 0:00:01\r\u001b[K     |█████████████████████████████▏  | 2.1 MB 4.5 MB/s eta 0:00:01\r\u001b[K     |█████████████████████████████▎  | 2.1 MB 4.5 MB/s eta 0:00:01\r\u001b[K     |█████████████████████████████▌  | 2.1 MB 4.5 MB/s eta 0:00:01\r\u001b[K     |█████████████████████████████▋  | 2.1 MB 4.5 MB/s eta 0:00:01\r\u001b[K     |█████████████████████████████▊  | 2.1 MB 4.5 MB/s eta 0:00:01\r\u001b[K     |██████████████████████████████  | 2.1 MB 4.5 MB/s eta 0:00:01\r\u001b[K     |██████████████████████████████  | 2.1 MB 4.5 MB/s eta 0:00:01\r\u001b[K     |██████████████████████████████▏ | 2.2 MB 4.5 MB/s eta 0:00:01\r\u001b[K     |██████████████████████████████▍ | 2.2 MB 4.5 MB/s eta 0:00:01\r\u001b[K     |██████████████████████████████▌ | 2.2 MB 4.5 MB/s eta 0:00:01\r\u001b[K     |██████████████████████████████▋ | 2.2 MB 4.5 MB/s eta 0:00:01\r\u001b[K     |██████████████████████████████▊ | 2.2 MB 4.5 MB/s eta 0:00:01\r\u001b[K     |███████████████████████████████ | 2.2 MB 4.5 MB/s eta 0:00:01\r\u001b[K     |███████████████████████████████ | 2.2 MB 4.5 MB/s eta 0:00:01\r\u001b[K     |███████████████████████████████▏| 2.2 MB 4.5 MB/s eta 0:00:01\r\u001b[K     |███████████████████████████████▍| 2.2 MB 4.5 MB/s eta 0:00:01\r\u001b[K     |███████████████████████████████▌| 2.2 MB 4.5 MB/s eta 0:00:01\r\u001b[K     |███████████████████████████████▋| 2.3 MB 4.5 MB/s eta 0:00:01\r\u001b[K     |███████████████████████████████▊| 2.3 MB 4.5 MB/s eta 0:00:01\r\u001b[K     |████████████████████████████████| 2.3 MB 4.5 MB/s eta 0:00:01\r\u001b[K     |████████████████████████████████| 2.3 MB 4.5 MB/s \n",
            "\u001b[?25h"
          ]
        }
      ],
      "source": [
        "!pip install -q biopython"
      ]
    },
    {
      "cell_type": "markdown",
      "source": [
        "Step 2: Download the mRNA design of the Pfizer and Moderna vaccines"
      ],
      "metadata": {
        "id": "31MODaH5QiW3"
      }
    },
    {
      "cell_type": "code",
      "source": [
        "from google.colab import drive\n",
        "drive.mount('/content/gdrive')\n",
        "%cd 'gdrive/My Drive/Ubiquitous Genomics/HW1/data/'\n",
        "!ls"
      ],
      "metadata": {
        "id": "JouKCIxO8vfH",
        "colab": {
          "base_uri": "https://localhost:8080/"
        },
        "outputId": "3e5a5c77-0a89-4735-fe19-f9157a721238"
      },
      "execution_count": null,
      "outputs": [
        {
          "output_type": "stream",
          "name": "stdout",
          "text": [
            "Mounted at /content/gdrive\n",
            "/content/gdrive/.shortcut-targets-by-id/1TtDvxh-tLpS8yfoSfrU6tQVO83L7UAIs/Ubiquitous Genomics/HW1/data\n",
            "ba1_sequences.fasta  mRNA_design_032321.fasta.txt  wuhan_1_fasta.txt\n",
            "ba2_sequences.fasta  NC_045512.2.fasta\n"
          ]
        }
      ]
    },
    {
      "cell_type": "code",
      "source": [
        "with open('mRNA_design_032321.fasta.txt') as f:\n",
        "    lines = f.readlines()\n",
        "print(lines)"
      ],
      "metadata": {
        "id": "gtx_lkNlQYGi",
        "colab": {
          "base_uri": "https://localhost:8080/"
        },
        "outputId": "57caf9e8-2b60-4b4f-97bc-5b190fae9066"
      },
      "execution_count": null,
      "outputs": [
        {
          "output_type": "stream",
          "name": "stdout",
          "text": [
            "['>Figure1_032321_Spike-encoding_contig_assembled_from_BioNTech/Pfizer_BNT-162b2_vaccine\\n', 'GAGAATAAACTAGTATTCTTCTGGTCCCCACAGACTCAGAGAGAACCCGCCACCATGTTCGTGTTCCTGGTGCTGCTGCC\\n', 'TCTGGTGTCCAGCCAGTGTGTGAACCTGACCACCAGAACACAGCTGCCTCCAGCCTACACCAACAGCTTTACCAGAGGCG\\n', 'TGTACTACCCCGACAAGGTGTTCAGATCCAGCGTGCTGCACTCTACCCAGGACCTGTTCCTGCCTTTCTTCAGCAACGTG\\n', 'ACCTGGTTCCACGCCATCCACGTGTCCGGCACCAATGGCACCAAGAGATTCGACAACCCCGTGCTGCCCTTCAACGACGG\\n', 'GGTGTACTTTGCCAGCACCGAGAAGTCCAACATCATCAGAGGCTGGATCTTCGGCACCACACTGGACAGCAAGACCCAGA\\n', 'GCCTGCTGATCGTGAACAACGCCACCAACGTGGTCATCAAAGTGTGCGAGTTCCAGTTCTGCAACGACCCCTTCCTGGGC\\n', 'GTCTACTACCACAAGAACAACAAGAGCTGGATGGAAAGCGAGTTCCGGGTGTACAGCAGCGCCAACAACTGCACCTTCGA\\n', 'GTACGTGTCCCAGCCTTTCCTGATGGACCTGGAAGGCAAGCAGGGCAACTTCAAGAACCTGCGCGAGTTCGTGTTTAAGA\\n', 'ACATCGACGGCTACTTCAAGATCTACAGCAAGCACACCCCTATCAACCTCGTGCGGGATCTGCCTCAGGGCTTCTCTGCT\\n', 'CTGGAACCCCTGGTGGATCTGCCCATCGGCATCAACATCACCCGGTTTCAGACACTGCTGGCCCTGCACAGAAGCTACCT\\n', 'GACACCTGGCGATAGCAGCAGCGGATGGACAGCTGGTGCCGCCGCTTACTATGTGGGCTACCTGCAGCCTAGAACCTTCC\\n', 'TGCTGAAGTACAACGAGAACGGCACCATCACCGACGCCGTGGATTGTGCTCTGGATCCTCTGAGCGAGACAAAGTGCACC\\n', 'CTGAAGTCCTTCACCGTGGAAAAGGGCATCTACCAGACCAGCAACTTCCGGGTGCAGCCCACCGAATCCATCGTGCGGTT\\n', 'CCCCAATATCACCAATCTGTGCCCCTTCGGCGAGGTGTTCAATGCCACCAGATTCGCCTCTGTGTACGCCTGGAACCGGA\\n', 'AGCGGATCAGCAATTGCGTGGCCGACTACTCCGTGCTGTACAACTCCGCCAGCTTCAGCACCTTCAAGTGCTACGGCGTG\\n', 'TCCCCTACCAAGCTGAACGACCTGTGCTTCACAAACGTGTACGCCGACAGCTTCGTGATCCGGGGAGATGAAGTGCGGCA\\n', 'GATTGCCCCTGGACAGACAGGCAAGATCGCCGACTACAACTACAAGCTGCCCGACGACTTCACCGGCTGTGTGATTGCCT\\n', 'GGAACAGCAACAACCTGGACTCCAAAGTCGGCGGCAACTACAATTACCTGTACCGGCTGTTCCGGAAGTCCAATCTGAAG\\n', 'CCCTTCGAGCGGGACATCTCCACCGAGATCTATCAGGCCGGCAGCACCCCTTGTAACGGCGTGGAAGGCTTCAACTGCTA\\n', 'CTTCCCACTGCAGTCCTACGGCTTTCAGCCCACAAATGGCGTGGGCTATCAGCCCTACAGAGTGGTGGTGCTGAGCTTCG\\n', 'AACTGCTGCATGCCCCTGCCACAGTGTGCGGCCCTAAGAAAAGCACCAATCTCGTGAAGAACAAATGCGTGAACTTCAAC\\n', 'TTCAACGGCCTGACCGGCACCGGCGTGCTGACAGAGAGCAACAAGAAGTTCCTGCCATTCCAGCAGTTTGGCCGGGATAT\\n', 'CGCCGATACCACAGACGCCGTTAGAGATCCCCAGACACTGGAAATCCTGGACATCACCCCTTGCAGCTTCGGCGGAGTGT\\n', 'CTGTGATCACCCCTGGCACCAACACCAGCAATCAGGTGGCAGTGCTGTACCAGGACGTGAACTGTACCGAAGTGCCCGTG\\n', 'GCCATTCACGCCGATCAGCTGACACCTACATGGCGGGTGTACTCCACCGGCAGCAATGTGTTTCAGACCAGAGCCGGCTG\\n', 'TCTGATCGGAGCCGAGCACGTGAACAATAGCTACGAGTGCGACATCCCCATCGGCGCTGGAATCTGCGCCAGCTACCAGA\\n', 'CACAGACAAACAGCCCTCGGAGAGCCAGAAGCGTGGCCAGCCAGAGCATCATTGCCTACACAATGTCTCTGGGCGCCGAG\\n', 'AACAGCGTGGCCTACTCCAACAACTCTATCGCTATCCCCACCAACTTCACCATCAGCGTGACCACAGAGATCCTGCCTGT\\n', 'GTCCATGACCAAGACCAGCGTGGACTGCACCATGTACATCTGCGGCGATTCCACCGAGTGCTCCAACCTGCTGCTGCAGT\\n', 'ACGGCAGCTTCTGCACCCAGCTGAATAGAGCCCTGACAGGGATCGCCGTGGAACAGGACAAGAACACCCAAGAGGTGTTC\\n', 'GCCCAAGTGAAGCAGATCTACAAGACCCCTCCTATCAAGGACTTCGGCGGCTTCAATTTCAGCCAGATTCTGCCCGATCC\\n', 'TAGCAAGCCCAGCAAGCGGAGCTTCATCGAGGACCTGCTGTTCAACAAAGTGACACTGGCCGACGCCGGCTTCATCAAGC\\n', 'AGTATGGCGATTGTCTGGGCGACATTGCCGCCAGGGATCTGATTTGCGCCCAGAAGTTTAACGGACTGACAGTGCTGCCT\\n', 'CCTCTGCTGACCGATGAGATGATCGCCCAGTACACATCTGCCCTGCTGGCCGGCACAATCACAAGCGGCTGGACATTTGG\\n', 'AGCAGGCGCCGCTCTGCAGATCCCCTTTGCTATGCAGATGGCCTACCGGTTCAACGGCATCGGAGTGACCCAGAATGTGC\\n', 'TGTACGAGAACCAGAAGCTGATCGCCAACCAGTTCAACAGCGCCATCGGCAAGATCCAGGACAGCCTGAGCAGCACAGCA\\n', 'AGCGCCCTGGGAAAGCTGCAGGACGTGGTCAACCAGAATGCCCAGGCACTGAACACCCTGGTCAAGCAGCTGTCCTCCAA\\n', 'CTTCGGCGCCATCAGCTCTGTGCTGAACGATATCCTGAGCAGACTGGACCCTCCTGAGGCCGAGGTGCAGATCGACAGAC\\n', 'TGATCACAGGCAGACTGCAGAGCCTCCAGACATACGTGACCCAGCAGCTGATCAGAGCCGCCGAGATTAGAGCCTCTGCC\\n', 'AATCTGGCCGCCACCAAGATGTCTGAGTGTGTGCTGGGCCAGAGCAAGAGAGTGGACTTTTGCGGCAAGGGCTACCACCT\\n', 'GATGAGCTTCCCTCAGTCTGCCCCTCACGGCGTGGTGTTTCTGCACGTGACATATGTGCCCGCTCAAGAGAAGAATTTCA\\n', 'CCACCGCTCCAGCCATCTGCCACGACGGCAAAGCCCACTTTCCTAGAGAAGGCGTGTTCGTGTCCAACGGCACCCATTGG\\n', 'TTCGTGACACAGCGGAACTTCTACGAGCCCCAGATCATCACCACCGACAACACCTTCGTGTCTGGCAACTGCGACGTCGT\\n', 'GATCGGCATTGTGAACAATACCGTGTACGACCCTCTGCAGCCCGAGCTGGACAGCTTCAAAGAGGAACTGGACAAGTACT\\n', 'TTAAGAACCACACAAGCCCCGACGTGGACCTGGGCGATATCAGCGGAATCAATGCCAGCGTCGTGAACATCCAGAAAGAG\\n', 'ATCGACCGGCTGAACGAGGTGGCCAAGAATCTGAACGAGAGCCTGATCGACCTGCAAGAACTGGGGAAGTACGAGCAGTA\\n', 'CATCAAGTGGCCCTGGTACATCTGGCTGGGCTTTATCGCCGGACTGATTGCCATCGTGATGGTCACAATCATGCTGTGTT\\n', 'GCATGACCAGCTGCTGTAGCTGCCTGAAGGGCTGTTGTAGCTGTGGCAGCTGCTGCAAGTTCGACGAGGACGATTCTGAG\\n', 'CCCGTGCTGAAGGGCGTGAAACTGCACTACACATGATGACTCGAGCTGGTACTGCATGCACGCAATGCTAGCTGCCCCTT\\n', 'TCCCGTCCTGGGTACCCCGAGTCTCCCCCGACCTCGGGTCCCAGGTATGCTCCCACCTCCACCTGCCCCACTCACCACCT\\n', 'CTGCTAGTTCCAGACACCTCCCAAGCACGCAGCAATGCAGCTCAAAACGCTTAGCCTAGCCACACCCCCACGGGAAACAG\\n', 'CAGTGATTAACCTTTAGCAATAAACGAAAGTTTAACTAAGCTATACTAACCCCAGGGTTGGTCAATTTCGTGCCAGCCAC\\n', 'ACCCTGGAGCTAGCA\\n', '\\n', '>Figure_2_32321_Spike-encoding_contig_assembled_from_Moderna_mRNA-1273_vaccine\\n', 'GGGAAATAAGAGAGAAAAGAAGAGTAAGAAGAAATATAAGACCCCGGCGCCGCCACCATGTTCGTGTTCCTGGTGCTGCT\\n', 'GCCCCTGGTGAGCAGCCAGTGCGTGAACCTGACCACCCGGACCCAGCTGCCACCAGCCTACACCAACAGCTTCACCCGGG\\n', 'GCGTCTACTACCCCGACAAGGTGTTCCGGAGCAGCGTCCTGCACAGCACCCAGGACCTGTTCCTGCCCTTCTTCAGCAAC\\n', 'GTGACCTGGTTCCACGCCATCCACGTGAGCGGCACCAACGGCACCAAGCGGTTCGACAACCCCGTGCTGCCCTTCAACGA\\n', 'CGGCGTGTACTTCGCCAGCACCGAGAAGAGCAACATCATCCGGGGCTGGATCTTCGGCACCACCCTGGACAGCAAGACCC\\n', 'AGAGCCTGCTGATCGTGAATAACGCCACCAACGTGGTGATCAAGGTGTGCGAGTTCCAGTTCTGCAACGACCCCTTCCTG\\n', 'GGCGTGTACTACCACAAGAACAACAAGAGCTGGATGGAGAGCGAGTTCCGGGTGTACAGCAGCGCCAACAACTGCACCTT\\n', 'CGAGTACGTGAGCCAGCCCTTCCTGATGGACCTGGAGGGCAAGCAGGGCAACTTCAAGAACCTGCGGGAGTTCGTGTTCA\\n', 'AGAACATCGACGGCTACTTCAAGATCTACAGCAAGCACACCCCAATCAACCTGGTGCGGGATCTGCCCCAGGGCTTCTCA\\n', 'GCCCTGGAGCCCCTGGTGGACCTGCCCATCGGCATCAACATCACCCGGTTCCAGACCCTGCTGGCCCTGCACCGGAGCTA\\n', 'CCTGACCCCAGGCGACAGCAGCAGCGGGTGGACAGCAGGCGCGGCTGCTTACTACGTGGGCTACCTGCAGCCCCGGACCT\\n', 'TCCTGCTGAAGTACAACGAGAACGGCACCATCACCGACGCCGTGGACTGCGCCCTGGACCCTCTGAGCGAGACCAAGTGC\\n', 'ACCCTGAAGAGCTTCACCGTGGAGAAGGGCATCTACCAGACCAGCAACTTCCGGGTGCAGCCCACCGAGAGCATCGTGCG\\n', 'GTTCCCCAACATCACCAACCTGTGCCCCTTCGGCGAGGTGTTCAACGCCACCCGGTTCGCCAGCGTGTACGCCTGGAACC\\n', 'GGAAGCGGATCAGCAACTGCGTGGCCGACTACAGCGTGCTGTACAACAGCGCCAGCTTCAGCACCTTCAAGTGCTACGGC\\n', 'GTGAGCCCCACCAAGCTGAACGACCTGTGCTTCACCAACGTGTACGCCGACAGCTTCGTGATCCGTGGCGACGAGGTGCG\\n', 'GCAGATCGCACCCGGCCAGACAGGCAAGATCGCCGACTACAACTACAAGCTGCCCGACGACTTCACCGGCTGCGTGATCG\\n', 'CCTGGAACAGCAACAACCTCGACAGCAAGGTGGGCGGCAACTACAACTACCTGTACCGGCTGTTCCGGAAGAGCAACCTG\\n', 'AAGCCCTTCGAGCGGGACATCAGCACCGAGATCTACCAAGCCGGCTCCACCCCTTGCAACGGCGTGGAGGGCTTCAACTG\\n', 'CTACTTCCCTCTGCAGAGCTACGGCTTCCAGCCCACCAACGGCGTGGGCTACCAGCCCTACCGGGTGGTGGTGCTGAGCT\\n', 'TCGAGCTGCTGCACGCCCCAGCCACCGTGTGTGGCCCCAAGAAGAGCACCAACCTGGTGAAGAACAAGTGCGTGAACTTC\\n', 'AACTTCAACGGCCTTACCGGCACCGGCGTGCTGACCGAGAGCAACAAGAAATTCCTGCCCTTTCAGCAGTTCGGCCGGGA\\n', 'CATCGCCGACACCACCGACGCTGTGCGGGATCCCCAGACCCTGGAGATCCTGGACATCACCCCTTGCAGCTTCGGCGGCG\\n', 'TGAGCGTGATCACCCCAGGCACCAACACCAGCAACCAGGTGGCCGTGCTGTACCAGGACGTGAACTGCACCGAGGTGCCC\\n', 'GTGGCCATCCACGCCGACCAGCTGACACCCACCTGGCGGGTCTACAGCACCGGCAGCAACGTGTTCCAGACCCGGGCCGG\\n', 'TTGCCTGATCGGCGCCGAGCACGTGAACAACAGCTACGAGTGCGACATCCCCATCGGCGCCGGCATCTGTGCCAGCTACC\\n', 'AGACCCAGACCAATTCACCCCGGAGGGCAAGGAGCGTGGCCAGCCAGAGCATCATCGCCTACACCATGAGCCTGGGCGCC\\n', 'GAGAACAGCGTGGCCTACAGCAACAACAGCATCGCCATCCCCACCAACTTCACCATCAGCGTGACCACCGAGATTCTGCC\\n', 'CGTGAGCATGACCAAGACCAGCGTGGACTGCACCATGTACATCTGCGGCGACAGCACCGAGTGCAGCAACCTGCTGCTGC\\n', 'AGTACGGCAGCTTCTGCACCCAGCTGAACCGGGCCCTGACCGGCATCGCCGTGGAGCAGGACAAGAACACCCAGGAGGTG\\n', 'TTCGCCCAGGTGAAGCAGATCTACAAGACCCCTCCCATCAAGGACTTCGGCGGCTTCAACTTCAGCCAGATCCTGCCCGA\\n', 'CCCCAGCAAGCCCAGCAAGCGGAGCTTCATCGAGGACCTGCTGTTCAACAAGGTGACCCTAGCCGACGCCGGCTTCATCA\\n', 'AGCAGTACGGCGACTGCCTCGGCGACATAGCCGCCCGGGACCTGATCTGCGCCCAGAAGTTCAACGGCCTGACCGTGCTG\\n', 'CCTCCCCTGCTGACCGACGAGATGATCGCCCAGTACACCAGCGCCCTGTTAGCCGGAACCATCACCAGCGGCTGGACTTT\\n', 'CGGCGCTGGAGCCGCTCTGCAGATCCCCTTCGCCATGCAGATGGCCTACCGGTTCAACGGCATCGGCGTGACCCAGAACG\\n', 'TGCTGTACGAGAACCAGAAGCTGATCGCCAACCAGTTCAACAGCGCCATCGGCAAGATCCAGGACAGCCTGAGCAGCACC\\n', 'GCTAGCGCCCTGGGCAAGCTGCAGGACGTGGTGAACCAGAACGCCCAGGCCCTGAACACCCTGGTGAAGCAGCTGAGCAG\\n', 'CAACTTCGGCGCCATCAGCAGCGTGCTGAACGACATCCTGAGCCGGCTGGACCCTCCCGAGGCCGAGGTGCAGATCGACC\\n', 'GGCTGATCACTGGCCGGCTGCAGAGCCTGCAGACCTACGTGACCCAGCAGCTGATCCGGGCCGCCGAGATTCGGGCCAGC\\n', 'GCCAACCTGGCCGCCACCAAGATGAGCGAGTGCGTGCTGGGCCAGAGCAAGCGGGTGGACTTCTGCGGCAAGGGCTACCA\\n', 'CCTGATGAGCTTTCCCCAGAGCGCACCCCACGGAGTGGTGTTCCTGCACGTGACCTACGTGCCCGCCCAGGAGAAGAACT\\n', 'TCACCACCGCCCCAGCCATCTGCCACGACGGCAAGGCCCACTTTCCCCGGGAGGGCGTGTTCGTGAGCAACGGCACCCAC\\n', 'TGGTTCGTGACCCAGCGGAACTTCTACGAGCCCCAGATCATCACCACCGACAACACCTTCGTGAGCGGCAACTGCGACGT\\n', 'GGTGATCGGCATCGTGAACAACACCGTGTACGATCCCCTGCAGCCCGAGCTGGACAGCTTCAAGGAGGAGCTGGACAAGT\\n', 'ACTTCAAGAATCACACCAGCCCCGACGTGGACCTGGGCGACATCAGCGGCATCAACGCCAGCGTGGTGAACATCCAGAAG\\n', 'GAGATCGATCGGCTGAACGAGGTGGCCAAGAACCTGAACGAGAGCCTGATCGACCTGCAGGAGCTGGGCAAGTACGAGCA\\n', 'GTACATCAAGTGGCCCTGGTACATCTGGCTGGGCTTCATCGCCGGCCTGATCGCCATCGTGATGGTGACCATCATGCTGT\\n', 'GCTGCATGACCAGCTGCTGCAGCTGCCTGAAGGGCTGTTGCAGCTGCGGCAGCTGCTGCAAGTTCGACGAGGACGACAGC\\n', 'GAGCCCGTGCTGAAGGGCGTGAAGCTGCACTACACCTGATAATAGGCTGGAGCCTCGGTGGCCTAGCTTCTTGCCCCTTG\\n', 'GGCCTCCCCCCAGCCCCTCCTCCCCTTCCTGCACCCGTACCCCCGTGGTCTTTGAATAAAGTCTGAGTGGGCGGCAAAAA\\n', 'AAAA\\n', '\\n']\n"
          ]
        }
      ]
    },
    {
      "cell_type": "markdown",
      "source": [
        "Step 3: Download the sequence of “Wuhan” SARS-CoV-2 sequence from NCBI Genbank accession number NC_045512.2."
      ],
      "metadata": {
        "id": "w-Zk2MxXQOLp"
      }
    },
    {
      "cell_type": "code",
      "source": [
        "# Imported as NC_045512.2.fasta in drive"
      ],
      "metadata": {
        "id": "XpMnf6M3Dc_m"
      },
      "execution_count": null,
      "outputs": []
    },
    {
      "cell_type": "markdown",
      "source": [
        "Step 4: Download all complete sequences of SARS-CoV-2 BA.2 in a FASTA format."
      ],
      "metadata": {
        "id": "eJj1msKWUBpJ"
      }
    },
    {
      "cell_type": "code",
      "source": [
        "# Exists in drive as ba2_sequences.fasta"
      ],
      "metadata": {
        "id": "QDsdITCZUI25"
      },
      "execution_count": null,
      "outputs": []
    },
    {
      "cell_type": "code",
      "source": [
        "from Bio.Seq import Seq\n",
        "from Bio import SeqIO\n",
        "from Bio.SeqUtils import GC\n",
        "from math import inf\n",
        "import sys\n",
        "import numpy\n",
        "import matplotlib.pyplot as plt\n",
        "import plotly.express as px\n",
        "import pandas as pd\n",
        "from Bio import pairwise2\n",
        "from Bio.pairwise2 import format_alignment\n",
        "import random\n",
        "from collections import Counter"
      ],
      "metadata": {
        "id": "tIYFth8KWFap"
      },
      "execution_count": null,
      "outputs": []
    },
    {
      "cell_type": "markdown",
      "source": [
        "### Questions"
      ],
      "metadata": {
        "id": "m_WFVQsiUWup"
      }
    },
    {
      "cell_type": "markdown",
      "source": [
        "#### Basics"
      ],
      "metadata": {
        "id": "bX9OLIG6UYga"
      }
    },
    {
      "cell_type": "markdown",
      "source": [
        "1. Create a function that takes mRNA as an input and returns the translated coding region (Hint 1: you need to find the initiation codon and the stop codon. Hint 2: use BioPython!)."
      ],
      "metadata": {
        "id": "FZhQZ8VCUfDX"
      }
    },
    {
      "cell_type": "code",
      "source": [
        "def generate_translated_coding_region(mRNASeq):\n",
        "\n",
        "  start_codon = 'AUG'\n",
        "  start_index = mRNASeq.find(start_codon)\n",
        "\n",
        "  end_codons = ['UGA', 'UAG', 'UAA']\n",
        "  end_codon = False\n",
        "  end_index = start_index\n",
        "  while not end_codon :\n",
        "    codon = mRNASeq[end_index:end_index+3]\n",
        "    if codon in end_codons:\n",
        "      end_codon = codon\n",
        "    end_index += 3\n",
        "\n",
        "  # forcing to be within region\n",
        "  translated_sequence = mRNASeq[start_index:end_index+3].translate(stop_symbol=\"@\", to_stop=True, cds=False)\n",
        "  return translated_sequence, start_index, end_index, end_codon\n",
        "\n",
        "# load in datta from both vaccines\n",
        "mRNA_sequence_dictionary = {}\n",
        "for record in SeqIO.parse(\"mRNA_design_032321.fasta.txt\", \"fasta\"):\n",
        "  mRNA_sequence_dictionary[record.id] = {}\n",
        "  mRNA_sequence_dictionary[record.id]['DNA Sequence'] = record.seq\n",
        "  mRNA_sequence_dictionary[record.id]['RNA Sequence'] = record.seq.transcribe()\n",
        "\n",
        "# for both vaccines, extract translated coding region \n",
        "for id, vaccine_components in mRNA_sequence_dictionary.items():\n",
        "  translated_sequence, start_index, end_index, end_codon = generate_translated_coding_region(vaccine_components['RNA Sequence'])\n",
        "\n",
        "  mRNA_sequence_dictionary[id]['Amino Acid Sequence'] = translated_sequence\n",
        "  mRNA_sequence_dictionary[id]['Nucleotide Sequence'] = mRNA_sequence_dictionary[id]['RNA Sequence'][start_index:end_index+3]\n",
        "  mRNA_sequence_dictionary[id]['Start Index'] = start_index\n",
        "  mRNA_sequence_dictionary[id]['End Index'] = end_index\n",
        "  mRNA_sequence_dictionary[id]['End Codon'] = end_codon"
      ],
      "metadata": {
        "id": "ctApcrx-Ujnv"
      },
      "execution_count": null,
      "outputs": []
    },
    {
      "cell_type": "code",
      "source": [
        "print('Pfizer Vaccine details:')\n",
        "print(mRNA_sequence_dictionary[list(mRNA_sequence_dictionary.keys())[0]])\n",
        "\n",
        "print('Moderna Vaccine details:')\n",
        "print(mRNA_sequence_dictionary[list(mRNA_sequence_dictionary.keys())[1]])"
      ],
      "metadata": {
        "colab": {
          "base_uri": "https://localhost:8080/"
        },
        "id": "fKiOsixZjfbB",
        "outputId": "cb8624b6-b513-4164-dc2a-1ca9d4ef4b01"
      },
      "execution_count": null,
      "outputs": [
        {
          "output_type": "stream",
          "name": "stdout",
          "text": [
            "Pfizer Vaccine details:\n",
            "{'DNA Sequence': Seq('GAGAATAAACTAGTATTCTTCTGGTCCCCACAGACTCAGAGAGAACCCGCCACC...GCA'), 'RNA Sequence': Seq('GAGAAUAAACUAGUAUUCUUCUGGUCCCCACAGACUCAGAGAGAACCCGCCACC...GCA'), 'Amino Acid Sequence': Seq('MFVFLVLLPLVSSQCVNLTTRTQLPPAYTNSFTRGVYYPDKVFRSSVLHSTQDL...HYT'), 'Nucleotide Sequence': Seq('AUGUUCGUGUUCCUGGUGCUGCUGCCUCUGGUGUCCAGCCAGUGUGUGAACCUG...UGA'), 'Start Index': 54, 'End Index': 3876, 'End Codon': Seq('UGA')}\n",
            "Moderna Vaccine details:\n",
            "{'DNA Sequence': Seq('GGGAAATAAGAGAGAAAAGAAGAGTAAGAAGAAATATAAGACCCCGGCGCCGCC...AAA'), 'RNA Sequence': Seq('GGGAAAUAAGAGAGAAAAGAAGAGUAAGAAGAAAUAUAAGACCCCGGCGCCGCC...AAA'), 'Amino Acid Sequence': Seq('MFVFLVLLPLVSSQCVNLTTRTQLPPAYTNSFTRGVYYPDKVFRSSVLHSTQDL...HYT'), 'Nucleotide Sequence': Seq('AUGUUCGUGUUCCUGGUGCUGCUGCCCCUGGUGAGCAGCCAGUGCGUGAACCUG...UAA'), 'Start Index': 57, 'End Index': 3879, 'End Codon': Seq('UGA')}\n"
          ]
        }
      ]
    },
    {
      "cell_type": "markdown",
      "source": [
        "2. For each vaccine:\n",
        "\n",
        "  a. What’s the position of the initiation codon (“AUG”)?\n",
        "\n",
        "  b. What’s the position of the termination codon? All positions should be reported as zero based\n",
        "\n",
        "  c. What sequence did each company use for the stop codon?\n",
        "\n",
        "  d. Please suggest another stop codon sequence.\n",
        "\n",
        "  e. How would you call the area between the first nucleotide and the “AUG” site?\n",
        "  \n",
        "  f. How would you call the area between the termination codon and the last\n",
        "nucleotide?"
      ],
      "metadata": {
        "id": "dALY72gydBXm"
      }
    },
    {
      "cell_type": "code",
      "source": [
        "def vaccine_analysis(id, vaccine_components):\n",
        "\n",
        "  print(f\"For vaccine: {id}\") \n",
        "  print(f\"The position of the initiation codon is: {vaccine_components['Start Index']}\")\n",
        "\n",
        "  print(f\"The position of the termination codon is: {vaccine_components['End Index']}\") \n",
        "  print(f\"The sequence used for the stop codon is: {vaccine_components['End Codon']}\")\n",
        "\n",
        "  print(\"Another stop codon sequence could be: UAG or UAA\")\n",
        "  print(\"The area between the first nucleotide and the 'AUG' site is called 5UTR\")\n",
        "  print(\"The area between the termination codon and the last nucleotide is called 3UTR\")\n",
        "  print()\n",
        "\n",
        "for id, vaccine_components in mRNA_sequence_dictionary.items():\n",
        "  vaccine_analysis(id, vaccine_components)"
      ],
      "metadata": {
        "id": "wULzKKk8dbHS",
        "colab": {
          "base_uri": "https://localhost:8080/"
        },
        "outputId": "c7bf5f10-e25b-4ecf-8822-2817e4fcef8f"
      },
      "execution_count": null,
      "outputs": [
        {
          "output_type": "stream",
          "name": "stdout",
          "text": [
            "For vaccine: Figure1_032321_Spike-encoding_contig_assembled_from_BioNTech/Pfizer_BNT-162b2_vaccine\n",
            "The position of the initiation codon is: 54\n",
            "The position of the termination codon is: 3876\n",
            "The sequence used for the stop codon is: UGA\n",
            "Another stop codon sequence could be: UAG or UAA\n",
            "The area between the first nucleotide and the 'AUG' site is called 5UTR\n",
            "The area between the termination codon and the last nucleotide is called 3UTR\n",
            "\n",
            "For vaccine: Figure_2_32321_Spike-encoding_contig_assembled_from_Moderna_mRNA-1273_vaccine\n",
            "The position of the initiation codon is: 57\n",
            "The position of the termination codon is: 3879\n",
            "The sequence used for the stop codon is: UGA\n",
            "Another stop codon sequence could be: UAG or UAA\n",
            "The area between the first nucleotide and the 'AUG' site is called 5UTR\n",
            "The area between the termination codon and the last nucleotide is called 3UTR\n",
            "\n"
          ]
        }
      ]
    },
    {
      "cell_type": "markdown",
      "source": [
        "3. Using your function, translate the coding area into protein. What’s the length of each coding sequence?"
      ],
      "metadata": {
        "id": "czLPbpkkjLIz"
      }
    },
    {
      "cell_type": "code",
      "source": [
        "# extract keys for pfizer and moderna\n",
        "pfizer = list(mRNA_sequence_dictionary.keys())[0]\n",
        "moderna = list(mRNA_sequence_dictionary.keys())[1]\n",
        "\n",
        "# find length of vaccines\n",
        "pfizer_length = mRNA_sequence_dictionary[pfizer]['End Index'] - mRNA_sequence_dictionary[pfizer]['Start Index'] \n",
        "pfizer_amino_acids = pfizer_length/3\n",
        "moderna_length = mRNA_sequence_dictionary[moderna]['End Index'] - mRNA_sequence_dictionary[moderna]['Start Index'] \n",
        "moderna_amino_acids = moderna_length/3\n",
        "\n",
        "print(f\"The length of the Pfizer vaccine is {pfizer_length} nucleotides ({pfizer_amino_acids} amino acids)\")\n",
        "print(f\"The length of the Moderna vaccine is {moderna_length} nucleotides ({moderna_amino_acids} amino acids)\")"
      ],
      "metadata": {
        "id": "6Sqagh5wjN_L",
        "colab": {
          "base_uri": "https://localhost:8080/"
        },
        "outputId": "e5e76956-9807-4baa-bd6a-e976534f53ae"
      },
      "execution_count": null,
      "outputs": [
        {
          "output_type": "stream",
          "name": "stdout",
          "text": [
            "The length of the Pfizer vaccine is 3822 nucleotides (1274.0 amino acids)\n",
            "The length of the Moderna vaccine is 3822 nucleotides (1274.0 amino acids)\n"
          ]
        }
      ]
    },
    {
      "cell_type": "markdown",
      "source": [
        "4. Are the coding regions of the vaccines identical in the protein level?"
      ],
      "metadata": {
        "id": "Nd5uZ9rAoSTJ"
      }
    },
    {
      "cell_type": "code",
      "source": [
        "pfizer_translated_sequence = mRNA_sequence_dictionary[pfizer]['Amino Acid Sequence']\n",
        "moderna_translated_sequence = mRNA_sequence_dictionary[moderna]['Amino Acid Sequence']\n",
        "\n",
        "pfizer_translated_sequence == moderna_translated_sequence"
      ],
      "metadata": {
        "id": "o0FmB7zQ8dio",
        "colab": {
          "base_uri": "https://localhost:8080/"
        },
        "outputId": "d340df67-18df-4fbf-cc00-96550899e668"
      },
      "execution_count": null,
      "outputs": [
        {
          "output_type": "execute_result",
          "data": {
            "text/plain": [
              "True"
            ]
          },
          "metadata": {},
          "execution_count": 82
        }
      ]
    },
    {
      "cell_type": "markdown",
      "source": [
        "5. Are the coding regions of the vaccines identical in the nucleotide level?"
      ],
      "metadata": {
        "id": "mVAhOQ5coTOH"
      }
    },
    {
      "cell_type": "code",
      "source": [
        "pfizer_sequence = mRNA_sequence_dictionary[pfizer]['Nucleotide Sequence']\n",
        "modern_sequence = mRNA_sequence_dictionary[moderna]['Nucleotide Sequence']\n",
        "\n",
        "pfizer_sequence == modern_sequence"
      ],
      "metadata": {
        "id": "hFL2AlhW8eAQ",
        "colab": {
          "base_uri": "https://localhost:8080/"
        },
        "outputId": "29bc144d-8a1a-446e-c5e6-a2a39bb9fb1c"
      },
      "execution_count": null,
      "outputs": [
        {
          "output_type": "execute_result",
          "data": {
            "text/plain": [
              "False"
            ]
          },
          "metadata": {},
          "execution_count": 83
        }
      ]
    },
    {
      "cell_type": "markdown",
      "source": [
        "### Codon usage"
      ],
      "metadata": {
        "id": "KCaiXzCboZ3h"
      }
    },
    {
      "cell_type": "markdown",
      "source": [
        "6. Create a histogram of amino-acids usage for the Pfizer vaccine"
      ],
      "metadata": {
        "id": "eToCsSLYoazi"
      }
    },
    {
      "cell_type": "code",
      "source": [
        "pfizer_translated_sequence = mRNA_sequence_dictionary[pfizer]['Amino Acid Sequence']\n",
        "\n",
        "amino_acids = numpy.array(pfizer_translated_sequence)\n",
        "unique, counts = numpy.unique(amino_acids, return_counts=True)\n",
        "\n",
        "plt.figure(figsize=(8, 6))\n",
        "plt.bar(unique, counts)\n",
        "plt.title(\"Amino Acid Usage for Pfizer Vaccine\")\n",
        "plt.ylabel(\"Number of occurences\")\n",
        "plt.xlabel(\"Amino Acid\")\n",
        "plt.show()"
      ],
      "metadata": {
        "id": "FvT5ubuJ__ie",
        "colab": {
          "base_uri": "https://localhost:8080/",
          "height": 404
        },
        "outputId": "165da3bd-b3e8-4c02-aa9a-a63f18e660d1"
      },
      "execution_count": null,
      "outputs": [
        {
          "output_type": "display_data",
          "data": {
            "text/plain": [
              "<Figure size 576x432 with 1 Axes>"
            ],
            "image/png": "[encoded data removed]"
          },
          "metadata": {
            "needs_background": "light"
          }
        }
      ]
    },
    {
      "cell_type": "markdown",
      "source": [
        "7. Create the same histogram but color each codon within the amino-acid (i.e. create a\n",
        "stacked histogram)"
      ],
      "metadata": {
        "id": "R6P3InlFodGy"
      }
    },
    {
      "cell_type": "code",
      "source": [
        "pfizer_nucleotide_sequence = mRNA_sequence_dictionary[pfizer]['Nucleotide Sequence']\n",
        "\n",
        "pfizer_amino_codon_dict = {}\n",
        "nucleotide_index = 0\n",
        "# iterate through the pfizer vaccine to see which codon each amino acid is associated with\n",
        "for amino_acid in mRNA_sequence_dictionary[pfizer]['Amino Acid Sequence']:\n",
        "\n",
        "  if not amino_acid in pfizer_amino_codon_dict.keys():\n",
        "    pfizer_amino_codon_dict[amino_acid] = {}\n",
        "\n",
        "  codon = str(pfizer_nucleotide_sequence[nucleotide_index:nucleotide_index+3])\n",
        "  if codon in pfizer_amino_codon_dict[amino_acid].keys():\n",
        "    pfizer_amino_codon_dict[amino_acid][codon] += 1\n",
        "  else:\n",
        "    pfizer_amino_codon_dict[amino_acid][codon] = 1\n",
        "  nucleotide_index += 3\n",
        "\n",
        "# plot graph of codon per amino acid\n",
        "pfizer_amino_codon_df = pd.DataFrame(pfizer_amino_codon_dict)\n",
        "stack_hist = pfizer_amino_codon_df.T\n",
        "stack_hist = stack_hist.fillna(0)\n",
        "fig = px.bar(stack_hist, x=stack_hist.index, y=stack_hist.columns, title=\"Stacked codons per Amino Acid\")\n",
        "fig.show()"
      ],
      "metadata": {
        "id": "Vx6ya-VYE3wk",
        "colab": {
          "base_uri": "https://localhost:8080/",
          "height": 542
        },
        "outputId": "4b2e007c-86d5-41dd-b64b-35dd9ef914b8"
      },
      "execution_count": null,
      "outputs": [
        {
          "output_type": "display_data",
          "data": {
            "text/html": [
              "<html>\n",
              "<head><meta charset=\"utf-8\" /></head>\n",
              "<body>\n",
              "    <div>            <script src=\"https://cdnjs.cloudflare.com/ajax/libs/mathjax/2.7.5/MathJax.js?config=TeX-AMS-MML_SVG\"></script><script type=\"text/javascript\">if (window.MathJax) {MathJax.Hub.Config({SVG: {font: \"STIX-Web\"}});}</script>                <script type=\"text/javascript\">window.PlotlyConfig = {MathJaxConfig: 'local'};</script>\n",
              "        <script src=\"https://cdn.plot.ly/plotly-2.8.3.min.js\"></script>                <div id=\"8cfa5f71-2150-47ba-ab23-7077bb4ac165\" class=\"plotly-graph-div\" style=\"height:525px; width:100%;\"></div>            <script type=\"text/javascript\">                                    window.PLOTLYENV=window.PLOTLYENV || {};                                    if (document.getElementById(\"8cfa5f71-2150-47ba-ab23-7077bb4ac165\")) {                    Plotly.newPlot(                        \"8cfa5f71-2150-47ba-ab23-7077bb4ac165\",                        [{\"alignmentgroup\":\"True\",\"hovertemplate\":\"variable=AUG<br>index=%{x}<br>value=%{y}<extra></extra>\",\"legendgroup\":\"AUG\",\"marker\":{\"color\":\"#636efa\",\"pattern\":{\"shape\":\"\"}},\"name\":\"AUG\",\"offsetgroup\":\"AUG\",\"orientation\":\"v\",\"showlegend\":true,\"textposition\":\"auto\",\"x\":[\"M\",\"F\",\"V\",\"L\",\"P\",\"S\",\"Q\",\"C\",\"N\",\"T\",\"R\",\"A\",\"Y\",\"G\",\"D\",\"K\",\"H\",\"W\",\"I\",\"E\"],\"xaxis\":\"x\",\"y\":[14.0,0.0,0.0,0.0,0.0,0.0,0.0,0.0,0.0,0.0,0.0,0.0,0.0,0.0,0.0,0.0,0.0,0.0,0.0,0.0],\"yaxis\":\"y\",\"type\":\"bar\"},{\"alignmentgroup\":\"True\",\"hovertemplate\":\"variable=UUC<br>index=%{x}<br>value=%{y}<extra></extra>\",\"legendgroup\":\"UUC\",\"marker\":{\"color\":\"#EF553B\",\"pattern\":{\"shape\":\"\"}},\"name\":\"UUC\",\"offsetgroup\":\"UUC\",\"orientation\":\"v\",\"showlegend\":true,\"textposition\":\"auto\",\"x\":[\"M\",\"F\",\"V\",\"L\",\"P\",\"S\",\"Q\",\"C\",\"N\",\"T\",\"R\",\"A\",\"Y\",\"G\",\"D\",\"K\",\"H\",\"W\",\"I\",\"E\"],\"xaxis\":\"x\",\"y\":[0.0,62.0,0.0,0.0,0.0,0.0,0.0,0.0,0.0,0.0,0.0,0.0,0.0,0.0,0.0,0.0,0.0,0.0,0.0,0.0],\"yaxis\":\"y\",\"type\":\"bar\"},{\"alignmentgroup\":\"True\",\"hovertemplate\":\"variable=UUU<br>index=%{x}<br>value=%{y}<extra></extra>\",\"legendgroup\":\"UUU\",\"marker\":{\"color\":\"#00cc96\",\"pattern\":{\"shape\":\"\"}},\"name\":\"UUU\",\"offsetgroup\":\"UUU\",\"orientation\":\"v\",\"showlegend\":true,\"textposition\":\"auto\",\"x\":[\"M\",\"F\",\"V\",\"L\",\"P\",\"S\",\"Q\",\"C\",\"N\",\"T\",\"R\",\"A\",\"Y\",\"G\",\"D\",\"K\",\"H\",\"W\",\"I\",\"E\"],\"xaxis\":\"x\",\"y\":[0.0,15.0,0.0,0.0,0.0,0.0,0.0,0.0,0.0,0.0,0.0,0.0,0.0,0.0,0.0,0.0,0.0,0.0,0.0,0.0],\"yaxis\":\"y\",\"type\":\"bar\"},{\"alignmentgroup\":\"True\",\"hovertemplate\":\"variable=GUG<br>index=%{x}<br>value=%{y}<extra></extra>\",\"legendgroup\":\"GUG\",\"marker\":{\"color\":\"#ab63fa\",\"pattern\":{\"shape\":\"\"}},\"name\":\"GUG\",\"offsetgroup\":\"GUG\",\"orientation\":\"v\",\"showlegend\":true,\"textposition\":\"auto\",\"x\":[\"M\",\"F\",\"V\",\"L\",\"P\",\"S\",\"Q\",\"C\",\"N\",\"T\",\"R\",\"A\",\"Y\",\"G\",\"D\",\"K\",\"H\",\"W\",\"I\",\"E\"],\"xaxis\":\"x\",\"y\":[0.0,0.0,87.0,0.0,0.0,0.0,0.0,0.0,0.0,0.0,0.0,0.0,0.0,0.0,0.0,0.0,0.0,0.0,0.0,0.0],\"yaxis\":\"y\",\"type\":\"bar\"},{\"alignmentgroup\":\"True\",\"hovertemplate\":\"variable=GUC<br>index=%{x}<br>value=%{y}<extra></extra>\",\"legendgroup\":\"GUC\",\"marker\":{\"color\":\"#FFA15A\",\"pattern\":{\"shape\":\"\"}},\"name\":\"GUC\",\"offsetgroup\":\"GUC\",\"orientation\":\"v\",\"showlegend\":true,\"textposition\":\"auto\",\"x\":[\"M\",\"F\",\"V\",\"L\",\"P\",\"S\",\"Q\",\"C\",\"N\",\"T\",\"R\",\"A\",\"Y\",\"G\",\"D\",\"K\",\"H\",\"W\",\"I\",\"E\"],\"xaxis\":\"x\",\"y\":[0.0,0.0,8.0,0.0,0.0,0.0,0.0,0.0,0.0,0.0,0.0,0.0,0.0,0.0,0.0,0.0,0.0,0.0,0.0,0.0],\"yaxis\":\"y\",\"type\":\"bar\"},{\"alignmentgroup\":\"True\",\"hovertemplate\":\"variable=GUU<br>index=%{x}<br>value=%{y}<extra></extra>\",\"legendgroup\":\"GUU\",\"marker\":{\"color\":\"#19d3f3\",\"pattern\":{\"shape\":\"\"}},\"name\":\"GUU\",\"offsetgroup\":\"GUU\",\"orientation\":\"v\",\"showlegend\":true,\"textposition\":\"auto\",\"x\":[\"M\",\"F\",\"V\",\"L\",\"P\",\"S\",\"Q\",\"C\",\"N\",\"T\",\"R\",\"A\",\"Y\",\"G\",\"D\",\"K\",\"H\",\"W\",\"I\",\"E\"],\"xaxis\":\"x\",\"y\":[0.0,0.0,1.0,0.0,0.0,0.0,0.0,0.0,0.0,0.0,0.0,0.0,0.0,0.0,0.0,0.0,0.0,0.0,0.0,0.0],\"yaxis\":\"y\",\"type\":\"bar\"},{\"alignmentgroup\":\"True\",\"hovertemplate\":\"variable=CUG<br>index=%{x}<br>value=%{y}<extra></extra>\",\"legendgroup\":\"CUG\",\"marker\":{\"color\":\"#FF6692\",\"pattern\":{\"shape\":\"\"}},\"name\":\"CUG\",\"offsetgroup\":\"CUG\",\"orientation\":\"v\",\"showlegend\":true,\"textposition\":\"auto\",\"x\":[\"M\",\"F\",\"V\",\"L\",\"P\",\"S\",\"Q\",\"C\",\"N\",\"T\",\"R\",\"A\",\"Y\",\"G\",\"D\",\"K\",\"H\",\"W\",\"I\",\"E\"],\"xaxis\":\"x\",\"y\":[0.0,0.0,0.0,105.0,0.0,0.0,0.0,0.0,0.0,0.0,0.0,0.0,0.0,0.0,0.0,0.0,0.0,0.0,0.0,0.0],\"yaxis\":\"y\",\"type\":\"bar\"},{\"alignmentgroup\":\"True\",\"hovertemplate\":\"variable=CUC<br>index=%{x}<br>value=%{y}<extra></extra>\",\"legendgroup\":\"CUC\",\"marker\":{\"color\":\"#B6E880\",\"pattern\":{\"shape\":\"\"}},\"name\":\"CUC\",\"offsetgroup\":\"CUC\",\"orientation\":\"v\",\"showlegend\":true,\"textposition\":\"auto\",\"x\":[\"M\",\"F\",\"V\",\"L\",\"P\",\"S\",\"Q\",\"C\",\"N\",\"T\",\"R\",\"A\",\"Y\",\"G\",\"D\",\"K\",\"H\",\"W\",\"I\",\"E\"],\"xaxis\":\"x\",\"y\":[0.0,0.0,0.0,3.0,0.0,0.0,0.0,0.0,0.0,0.0,0.0,0.0,0.0,0.0,0.0,0.0,0.0,0.0,0.0,0.0],\"yaxis\":\"y\",\"type\":\"bar\"},{\"alignmentgroup\":\"True\",\"hovertemplate\":\"variable=CCU<br>index=%{x}<br>value=%{y}<extra></extra>\",\"legendgroup\":\"CCU\",\"marker\":{\"color\":\"#FF97FF\",\"pattern\":{\"shape\":\"\"}},\"name\":\"CCU\",\"offsetgroup\":\"CCU\",\"orientation\":\"v\",\"showlegend\":true,\"textposition\":\"auto\",\"x\":[\"M\",\"F\",\"V\",\"L\",\"P\",\"S\",\"Q\",\"C\",\"N\",\"T\",\"R\",\"A\",\"Y\",\"G\",\"D\",\"K\",\"H\",\"W\",\"I\",\"E\"],\"xaxis\":\"x\",\"y\":[0.0,0.0,0.0,0.0,30.0,0.0,0.0,0.0,0.0,0.0,0.0,0.0,0.0,0.0,0.0,0.0,0.0,0.0,0.0,0.0],\"yaxis\":\"y\",\"type\":\"bar\"},{\"alignmentgroup\":\"True\",\"hovertemplate\":\"variable=CCA<br>index=%{x}<br>value=%{y}<extra></extra>\",\"legendgroup\":\"CCA\",\"marker\":{\"color\":\"#FECB52\",\"pattern\":{\"shape\":\"\"}},\"name\":\"CCA\",\"offsetgroup\":\"CCA\",\"orientation\":\"v\",\"showlegend\":true,\"textposition\":\"auto\",\"x\":[\"M\",\"F\",\"V\",\"L\",\"P\",\"S\",\"Q\",\"C\",\"N\",\"T\",\"R\",\"A\",\"Y\",\"G\",\"D\",\"K\",\"H\",\"W\",\"I\",\"E\"],\"xaxis\":\"x\",\"y\":[0.0,0.0,0.0,0.0,4.0,0.0,0.0,0.0,0.0,0.0,0.0,0.0,0.0,0.0,0.0,0.0,0.0,0.0,0.0,0.0],\"yaxis\":\"y\",\"type\":\"bar\"},{\"alignmentgroup\":\"True\",\"hovertemplate\":\"variable=CCC<br>index=%{x}<br>value=%{y}<extra></extra>\",\"legendgroup\":\"CCC\",\"marker\":{\"color\":\"#636efa\",\"pattern\":{\"shape\":\"\"}},\"name\":\"CCC\",\"offsetgroup\":\"CCC\",\"orientation\":\"v\",\"showlegend\":true,\"textposition\":\"auto\",\"x\":[\"M\",\"F\",\"V\",\"L\",\"P\",\"S\",\"Q\",\"C\",\"N\",\"T\",\"R\",\"A\",\"Y\",\"G\",\"D\",\"K\",\"H\",\"W\",\"I\",\"E\"],\"xaxis\":\"x\",\"y\":[0.0,0.0,0.0,0.0,26.0,0.0,0.0,0.0,0.0,0.0,0.0,0.0,0.0,0.0,0.0,0.0,0.0,0.0,0.0,0.0],\"yaxis\":\"y\",\"type\":\"bar\"},{\"alignmentgroup\":\"True\",\"hovertemplate\":\"variable=UCC<br>index=%{x}<br>value=%{y}<extra></extra>\",\"legendgroup\":\"UCC\",\"marker\":{\"color\":\"#EF553B\",\"pattern\":{\"shape\":\"\"}},\"name\":\"UCC\",\"offsetgroup\":\"UCC\",\"orientation\":\"v\",\"showlegend\":true,\"textposition\":\"auto\",\"x\":[\"M\",\"F\",\"V\",\"L\",\"P\",\"S\",\"Q\",\"C\",\"N\",\"T\",\"R\",\"A\",\"Y\",\"G\",\"D\",\"K\",\"H\",\"W\",\"I\",\"E\"],\"xaxis\":\"x\",\"y\":[0.0,0.0,0.0,0.0,0.0,22.0,0.0,0.0,0.0,0.0,0.0,0.0,0.0,0.0,0.0,0.0,0.0,0.0,0.0,0.0],\"yaxis\":\"y\",\"type\":\"bar\"},{\"alignmentgroup\":\"True\",\"hovertemplate\":\"variable=AGC<br>index=%{x}<br>value=%{y}<extra></extra>\",\"legendgroup\":\"AGC\",\"marker\":{\"color\":\"#00cc96\",\"pattern\":{\"shape\":\"\"}},\"name\":\"AGC\",\"offsetgroup\":\"AGC\",\"orientation\":\"v\",\"showlegend\":true,\"textposition\":\"auto\",\"x\":[\"M\",\"F\",\"V\",\"L\",\"P\",\"S\",\"Q\",\"C\",\"N\",\"T\",\"R\",\"A\",\"Y\",\"G\",\"D\",\"K\",\"H\",\"W\",\"I\",\"E\"],\"xaxis\":\"x\",\"y\":[0.0,0.0,0.0,0.0,0.0,64.0,0.0,0.0,0.0,0.0,0.0,0.0,0.0,0.0,0.0,0.0,0.0,0.0,0.0,0.0],\"yaxis\":\"y\",\"type\":\"bar\"},{\"alignmentgroup\":\"True\",\"hovertemplate\":\"variable=UCU<br>index=%{x}<br>value=%{y}<extra></extra>\",\"legendgroup\":\"UCU\",\"marker\":{\"color\":\"#ab63fa\",\"pattern\":{\"shape\":\"\"}},\"name\":\"UCU\",\"offsetgroup\":\"UCU\",\"orientation\":\"v\",\"showlegend\":true,\"textposition\":\"auto\",\"x\":[\"M\",\"F\",\"V\",\"L\",\"P\",\"S\",\"Q\",\"C\",\"N\",\"T\",\"R\",\"A\",\"Y\",\"G\",\"D\",\"K\",\"H\",\"W\",\"I\",\"E\"],\"xaxis\":\"x\",\"y\":[0.0,0.0,0.0,0.0,0.0,13.0,0.0,0.0,0.0,0.0,0.0,0.0,0.0,0.0,0.0,0.0,0.0,0.0,0.0,0.0],\"yaxis\":\"y\",\"type\":\"bar\"},{\"alignmentgroup\":\"True\",\"hovertemplate\":\"variable=CAG<br>index=%{x}<br>value=%{y}<extra></extra>\",\"legendgroup\":\"CAG\",\"marker\":{\"color\":\"#FFA15A\",\"pattern\":{\"shape\":\"\"}},\"name\":\"CAG\",\"offsetgroup\":\"CAG\",\"orientation\":\"v\",\"showlegend\":true,\"textposition\":\"auto\",\"x\":[\"M\",\"F\",\"V\",\"L\",\"P\",\"S\",\"Q\",\"C\",\"N\",\"T\",\"R\",\"A\",\"Y\",\"G\",\"D\",\"K\",\"H\",\"W\",\"I\",\"E\"],\"xaxis\":\"x\",\"y\":[0.0,0.0,0.0,0.0,0.0,0.0,58.0,0.0,0.0,0.0,0.0,0.0,0.0,0.0,0.0,0.0,0.0,0.0,0.0,0.0],\"yaxis\":\"y\",\"type\":\"bar\"},{\"alignmentgroup\":\"True\",\"hovertemplate\":\"variable=CAA<br>index=%{x}<br>value=%{y}<extra></extra>\",\"legendgroup\":\"CAA\",\"marker\":{\"color\":\"#19d3f3\",\"pattern\":{\"shape\":\"\"}},\"name\":\"CAA\",\"offsetgroup\":\"CAA\",\"orientation\":\"v\",\"showlegend\":true,\"textposition\":\"auto\",\"x\":[\"M\",\"F\",\"V\",\"L\",\"P\",\"S\",\"Q\",\"C\",\"N\",\"T\",\"R\",\"A\",\"Y\",\"G\",\"D\",\"K\",\"H\",\"W\",\"I\",\"E\"],\"xaxis\":\"x\",\"y\":[0.0,0.0,0.0,0.0,0.0,0.0,4.0,0.0,0.0,0.0,0.0,0.0,0.0,0.0,0.0,0.0,0.0,0.0,0.0,0.0],\"yaxis\":\"y\",\"type\":\"bar\"},{\"alignmentgroup\":\"True\",\"hovertemplate\":\"variable=UGU<br>index=%{x}<br>value=%{y}<extra></extra>\",\"legendgroup\":\"UGU\",\"marker\":{\"color\":\"#FF6692\",\"pattern\":{\"shape\":\"\"}},\"name\":\"UGU\",\"offsetgroup\":\"UGU\",\"orientation\":\"v\",\"showlegend\":true,\"textposition\":\"auto\",\"x\":[\"M\",\"F\",\"V\",\"L\",\"P\",\"S\",\"Q\",\"C\",\"N\",\"T\",\"R\",\"A\",\"Y\",\"G\",\"D\",\"K\",\"H\",\"W\",\"I\",\"E\"],\"xaxis\":\"x\",\"y\":[0.0,0.0,0.0,0.0,0.0,0.0,0.0,13.0,0.0,0.0,0.0,0.0,0.0,0.0,0.0,0.0,0.0,0.0,0.0,0.0],\"yaxis\":\"y\",\"type\":\"bar\"},{\"alignmentgroup\":\"True\",\"hovertemplate\":\"variable=UGC<br>index=%{x}<br>value=%{y}<extra></extra>\",\"legendgroup\":\"UGC\",\"marker\":{\"color\":\"#B6E880\",\"pattern\":{\"shape\":\"\"}},\"name\":\"UGC\",\"offsetgroup\":\"UGC\",\"orientation\":\"v\",\"showlegend\":true,\"textposition\":\"auto\",\"x\":[\"M\",\"F\",\"V\",\"L\",\"P\",\"S\",\"Q\",\"C\",\"N\",\"T\",\"R\",\"A\",\"Y\",\"G\",\"D\",\"K\",\"H\",\"W\",\"I\",\"E\"],\"xaxis\":\"x\",\"y\":[0.0,0.0,0.0,0.0,0.0,0.0,0.0,27.0,0.0,0.0,0.0,0.0,0.0,0.0,0.0,0.0,0.0,0.0,0.0,0.0],\"yaxis\":\"y\",\"type\":\"bar\"},{\"alignmentgroup\":\"True\",\"hovertemplate\":\"variable=AAC<br>index=%{x}<br>value=%{y}<extra></extra>\",\"legendgroup\":\"AAC\",\"marker\":{\"color\":\"#FF97FF\",\"pattern\":{\"shape\":\"\"}},\"name\":\"AAC\",\"offsetgroup\":\"AAC\",\"orientation\":\"v\",\"showlegend\":true,\"textposition\":\"auto\",\"x\":[\"M\",\"F\",\"V\",\"L\",\"P\",\"S\",\"Q\",\"C\",\"N\",\"T\",\"R\",\"A\",\"Y\",\"G\",\"D\",\"K\",\"H\",\"W\",\"I\",\"E\"],\"xaxis\":\"x\",\"y\":[0.0,0.0,0.0,0.0,0.0,0.0,0.0,0.0,67.0,0.0,0.0,0.0,0.0,0.0,0.0,0.0,0.0,0.0,0.0,0.0],\"yaxis\":\"y\",\"type\":\"bar\"},{\"alignmentgroup\":\"True\",\"hovertemplate\":\"variable=AAU<br>index=%{x}<br>value=%{y}<extra></extra>\",\"legendgroup\":\"AAU\",\"marker\":{\"color\":\"#FECB52\",\"pattern\":{\"shape\":\"\"}},\"name\":\"AAU\",\"offsetgroup\":\"AAU\",\"orientation\":\"v\",\"showlegend\":true,\"textposition\":\"auto\",\"x\":[\"M\",\"F\",\"V\",\"L\",\"P\",\"S\",\"Q\",\"C\",\"N\",\"T\",\"R\",\"A\",\"Y\",\"G\",\"D\",\"K\",\"H\",\"W\",\"I\",\"E\"],\"xaxis\":\"x\",\"y\":[0.0,0.0,0.0,0.0,0.0,0.0,0.0,0.0,21.0,0.0,0.0,0.0,0.0,0.0,0.0,0.0,0.0,0.0,0.0,0.0],\"yaxis\":\"y\",\"type\":\"bar\"},{\"alignmentgroup\":\"True\",\"hovertemplate\":\"variable=ACC<br>index=%{x}<br>value=%{y}<extra></extra>\",\"legendgroup\":\"ACC\",\"marker\":{\"color\":\"#636efa\",\"pattern\":{\"shape\":\"\"}},\"name\":\"ACC\",\"offsetgroup\":\"ACC\",\"orientation\":\"v\",\"showlegend\":true,\"textposition\":\"auto\",\"x\":[\"M\",\"F\",\"V\",\"L\",\"P\",\"S\",\"Q\",\"C\",\"N\",\"T\",\"R\",\"A\",\"Y\",\"G\",\"D\",\"K\",\"H\",\"W\",\"I\",\"E\"],\"xaxis\":\"x\",\"y\":[0.0,0.0,0.0,0.0,0.0,0.0,0.0,0.0,0.0,63.0,0.0,0.0,0.0,0.0,0.0,0.0,0.0,0.0,0.0,0.0],\"yaxis\":\"y\",\"type\":\"bar\"},{\"alignmentgroup\":\"True\",\"hovertemplate\":\"variable=ACA<br>index=%{x}<br>value=%{y}<extra></extra>\",\"legendgroup\":\"ACA\",\"marker\":{\"color\":\"#EF553B\",\"pattern\":{\"shape\":\"\"}},\"name\":\"ACA\",\"offsetgroup\":\"ACA\",\"orientation\":\"v\",\"showlegend\":true,\"textposition\":\"auto\",\"x\":[\"M\",\"F\",\"V\",\"L\",\"P\",\"S\",\"Q\",\"C\",\"N\",\"T\",\"R\",\"A\",\"Y\",\"G\",\"D\",\"K\",\"H\",\"W\",\"I\",\"E\"],\"xaxis\":\"x\",\"y\":[0.0,0.0,0.0,0.0,0.0,0.0,0.0,0.0,0.0,34.0,0.0,0.0,0.0,0.0,0.0,0.0,0.0,0.0,0.0,0.0],\"yaxis\":\"y\",\"type\":\"bar\"},{\"alignmentgroup\":\"True\",\"hovertemplate\":\"variable=AGA<br>index=%{x}<br>value=%{y}<extra></extra>\",\"legendgroup\":\"AGA\",\"marker\":{\"color\":\"#00cc96\",\"pattern\":{\"shape\":\"\"}},\"name\":\"AGA\",\"offsetgroup\":\"AGA\",\"orientation\":\"v\",\"showlegend\":true,\"textposition\":\"auto\",\"x\":[\"M\",\"F\",\"V\",\"L\",\"P\",\"S\",\"Q\",\"C\",\"N\",\"T\",\"R\",\"A\",\"Y\",\"G\",\"D\",\"K\",\"H\",\"W\",\"I\",\"E\"],\"xaxis\":\"x\",\"y\":[0.0,0.0,0.0,0.0,0.0,0.0,0.0,0.0,0.0,0.0,21.0,0.0,0.0,0.0,0.0,0.0,0.0,0.0,0.0,0.0],\"yaxis\":\"y\",\"type\":\"bar\"},{\"alignmentgroup\":\"True\",\"hovertemplate\":\"variable=CGG<br>index=%{x}<br>value=%{y}<extra></extra>\",\"legendgroup\":\"CGG\",\"marker\":{\"color\":\"#ab63fa\",\"pattern\":{\"shape\":\"\"}},\"name\":\"CGG\",\"offsetgroup\":\"CGG\",\"orientation\":\"v\",\"showlegend\":true,\"textposition\":\"auto\",\"x\":[\"M\",\"F\",\"V\",\"L\",\"P\",\"S\",\"Q\",\"C\",\"N\",\"T\",\"R\",\"A\",\"Y\",\"G\",\"D\",\"K\",\"H\",\"W\",\"I\",\"E\"],\"xaxis\":\"x\",\"y\":[0.0,0.0,0.0,0.0,0.0,0.0,0.0,0.0,0.0,0.0,19.0,0.0,0.0,0.0,0.0,0.0,0.0,0.0,0.0,0.0],\"yaxis\":\"y\",\"type\":\"bar\"},{\"alignmentgroup\":\"True\",\"hovertemplate\":\"variable=CGC<br>index=%{x}<br>value=%{y}<extra></extra>\",\"legendgroup\":\"CGC\",\"marker\":{\"color\":\"#FFA15A\",\"pattern\":{\"shape\":\"\"}},\"name\":\"CGC\",\"offsetgroup\":\"CGC\",\"orientation\":\"v\",\"showlegend\":true,\"textposition\":\"auto\",\"x\":[\"M\",\"F\",\"V\",\"L\",\"P\",\"S\",\"Q\",\"C\",\"N\",\"T\",\"R\",\"A\",\"Y\",\"G\",\"D\",\"K\",\"H\",\"W\",\"I\",\"E\"],\"xaxis\":\"x\",\"y\":[0.0,0.0,0.0,0.0,0.0,0.0,0.0,0.0,0.0,0.0,1.0,0.0,0.0,0.0,0.0,0.0,0.0,0.0,0.0,0.0],\"yaxis\":\"y\",\"type\":\"bar\"},{\"alignmentgroup\":\"True\",\"hovertemplate\":\"variable=AGG<br>index=%{x}<br>value=%{y}<extra></extra>\",\"legendgroup\":\"AGG\",\"marker\":{\"color\":\"#19d3f3\",\"pattern\":{\"shape\":\"\"}},\"name\":\"AGG\",\"offsetgroup\":\"AGG\",\"orientation\":\"v\",\"showlegend\":true,\"textposition\":\"auto\",\"x\":[\"M\",\"F\",\"V\",\"L\",\"P\",\"S\",\"Q\",\"C\",\"N\",\"T\",\"R\",\"A\",\"Y\",\"G\",\"D\",\"K\",\"H\",\"W\",\"I\",\"E\"],\"xaxis\":\"x\",\"y\":[0.0,0.0,0.0,0.0,0.0,0.0,0.0,0.0,0.0,0.0,1.0,0.0,0.0,0.0,0.0,0.0,0.0,0.0,0.0,0.0],\"yaxis\":\"y\",\"type\":\"bar\"},{\"alignmentgroup\":\"True\",\"hovertemplate\":\"variable=GCC<br>index=%{x}<br>value=%{y}<extra></extra>\",\"legendgroup\":\"GCC\",\"marker\":{\"color\":\"#FF6692\",\"pattern\":{\"shape\":\"\"}},\"name\":\"GCC\",\"offsetgroup\":\"GCC\",\"orientation\":\"v\",\"showlegend\":true,\"textposition\":\"auto\",\"x\":[\"M\",\"F\",\"V\",\"L\",\"P\",\"S\",\"Q\",\"C\",\"N\",\"T\",\"R\",\"A\",\"Y\",\"G\",\"D\",\"K\",\"H\",\"W\",\"I\",\"E\"],\"xaxis\":\"x\",\"y\":[0.0,0.0,0.0,0.0,0.0,0.0,0.0,0.0,0.0,0.0,0.0,65.0,0.0,0.0,0.0,0.0,0.0,0.0,0.0,0.0],\"yaxis\":\"y\",\"type\":\"bar\"},{\"alignmentgroup\":\"True\",\"hovertemplate\":\"variable=GCU<br>index=%{x}<br>value=%{y}<extra></extra>\",\"legendgroup\":\"GCU\",\"marker\":{\"color\":\"#B6E880\",\"pattern\":{\"shape\":\"\"}},\"name\":\"GCU\",\"offsetgroup\":\"GCU\",\"orientation\":\"v\",\"showlegend\":true,\"textposition\":\"auto\",\"x\":[\"M\",\"F\",\"V\",\"L\",\"P\",\"S\",\"Q\",\"C\",\"N\",\"T\",\"R\",\"A\",\"Y\",\"G\",\"D\",\"K\",\"H\",\"W\",\"I\",\"E\"],\"xaxis\":\"x\",\"y\":[0.0,0.0,0.0,0.0,0.0,0.0,0.0,0.0,0.0,0.0,0.0,10.0,0.0,0.0,0.0,0.0,0.0,0.0,0.0,0.0],\"yaxis\":\"y\",\"type\":\"bar\"},{\"alignmentgroup\":\"True\",\"hovertemplate\":\"variable=GCA<br>index=%{x}<br>value=%{y}<extra></extra>\",\"legendgroup\":\"GCA\",\"marker\":{\"color\":\"#FF97FF\",\"pattern\":{\"shape\":\"\"}},\"name\":\"GCA\",\"offsetgroup\":\"GCA\",\"orientation\":\"v\",\"showlegend\":true,\"textposition\":\"auto\",\"x\":[\"M\",\"F\",\"V\",\"L\",\"P\",\"S\",\"Q\",\"C\",\"N\",\"T\",\"R\",\"A\",\"Y\",\"G\",\"D\",\"K\",\"H\",\"W\",\"I\",\"E\"],\"xaxis\":\"x\",\"y\":[0.0,0.0,0.0,0.0,0.0,0.0,0.0,0.0,0.0,0.0,0.0,4.0,0.0,0.0,0.0,0.0,0.0,0.0,0.0,0.0],\"yaxis\":\"y\",\"type\":\"bar\"},{\"alignmentgroup\":\"True\",\"hovertemplate\":\"variable=UAC<br>index=%{x}<br>value=%{y}<extra></extra>\",\"legendgroup\":\"UAC\",\"marker\":{\"color\":\"#FECB52\",\"pattern\":{\"shape\":\"\"}},\"name\":\"UAC\",\"offsetgroup\":\"UAC\",\"orientation\":\"v\",\"showlegend\":true,\"textposition\":\"auto\",\"x\":[\"M\",\"F\",\"V\",\"L\",\"P\",\"S\",\"Q\",\"C\",\"N\",\"T\",\"R\",\"A\",\"Y\",\"G\",\"D\",\"K\",\"H\",\"W\",\"I\",\"E\"],\"xaxis\":\"x\",\"y\":[0.0,0.0,0.0,0.0,0.0,0.0,0.0,0.0,0.0,0.0,0.0,0.0,49.0,0.0,0.0,0.0,0.0,0.0,0.0,0.0],\"yaxis\":\"y\",\"type\":\"bar\"},{\"alignmentgroup\":\"True\",\"hovertemplate\":\"variable=UAU<br>index=%{x}<br>value=%{y}<extra></extra>\",\"legendgroup\":\"UAU\",\"marker\":{\"color\":\"#636efa\",\"pattern\":{\"shape\":\"\"}},\"name\":\"UAU\",\"offsetgroup\":\"UAU\",\"orientation\":\"v\",\"showlegend\":true,\"textposition\":\"auto\",\"x\":[\"M\",\"F\",\"V\",\"L\",\"P\",\"S\",\"Q\",\"C\",\"N\",\"T\",\"R\",\"A\",\"Y\",\"G\",\"D\",\"K\",\"H\",\"W\",\"I\",\"E\"],\"xaxis\":\"x\",\"y\":[0.0,0.0,0.0,0.0,0.0,0.0,0.0,0.0,0.0,0.0,0.0,0.0,5.0,0.0,0.0,0.0,0.0,0.0,0.0,0.0],\"yaxis\":\"y\",\"type\":\"bar\"},{\"alignmentgroup\":\"True\",\"hovertemplate\":\"variable=GGC<br>index=%{x}<br>value=%{y}<extra></extra>\",\"legendgroup\":\"GGC\",\"marker\":{\"color\":\"#EF553B\",\"pattern\":{\"shape\":\"\"}},\"name\":\"GGC\",\"offsetgroup\":\"GGC\",\"orientation\":\"v\",\"showlegend\":true,\"textposition\":\"auto\",\"x\":[\"M\",\"F\",\"V\",\"L\",\"P\",\"S\",\"Q\",\"C\",\"N\",\"T\",\"R\",\"A\",\"Y\",\"G\",\"D\",\"K\",\"H\",\"W\",\"I\",\"E\"],\"xaxis\":\"x\",\"y\":[0.0,0.0,0.0,0.0,0.0,0.0,0.0,0.0,0.0,0.0,0.0,0.0,0.0,66.0,0.0,0.0,0.0,0.0,0.0,0.0],\"yaxis\":\"y\",\"type\":\"bar\"},{\"alignmentgroup\":\"True\",\"hovertemplate\":\"variable=GGG<br>index=%{x}<br>value=%{y}<extra></extra>\",\"legendgroup\":\"GGG\",\"marker\":{\"color\":\"#00cc96\",\"pattern\":{\"shape\":\"\"}},\"name\":\"GGG\",\"offsetgroup\":\"GGG\",\"orientation\":\"v\",\"showlegend\":true,\"textposition\":\"auto\",\"x\":[\"M\",\"F\",\"V\",\"L\",\"P\",\"S\",\"Q\",\"C\",\"N\",\"T\",\"R\",\"A\",\"Y\",\"G\",\"D\",\"K\",\"H\",\"W\",\"I\",\"E\"],\"xaxis\":\"x\",\"y\":[0.0,0.0,0.0,0.0,0.0,0.0,0.0,0.0,0.0,0.0,0.0,0.0,0.0,3.0,0.0,0.0,0.0,0.0,0.0,0.0],\"yaxis\":\"y\",\"type\":\"bar\"},{\"alignmentgroup\":\"True\",\"hovertemplate\":\"variable=GGA<br>index=%{x}<br>value=%{y}<extra></extra>\",\"legendgroup\":\"GGA\",\"marker\":{\"color\":\"#ab63fa\",\"pattern\":{\"shape\":\"\"}},\"name\":\"GGA\",\"offsetgroup\":\"GGA\",\"orientation\":\"v\",\"showlegend\":true,\"textposition\":\"auto\",\"x\":[\"M\",\"F\",\"V\",\"L\",\"P\",\"S\",\"Q\",\"C\",\"N\",\"T\",\"R\",\"A\",\"Y\",\"G\",\"D\",\"K\",\"H\",\"W\",\"I\",\"E\"],\"xaxis\":\"x\",\"y\":[0.0,0.0,0.0,0.0,0.0,0.0,0.0,0.0,0.0,0.0,0.0,0.0,0.0,12.0,0.0,0.0,0.0,0.0,0.0,0.0],\"yaxis\":\"y\",\"type\":\"bar\"},{\"alignmentgroup\":\"True\",\"hovertemplate\":\"variable=GGU<br>index=%{x}<br>value=%{y}<extra></extra>\",\"legendgroup\":\"GGU\",\"marker\":{\"color\":\"#FFA15A\",\"pattern\":{\"shape\":\"\"}},\"name\":\"GGU\",\"offsetgroup\":\"GGU\",\"orientation\":\"v\",\"showlegend\":true,\"textposition\":\"auto\",\"x\":[\"M\",\"F\",\"V\",\"L\",\"P\",\"S\",\"Q\",\"C\",\"N\",\"T\",\"R\",\"A\",\"Y\",\"G\",\"D\",\"K\",\"H\",\"W\",\"I\",\"E\"],\"xaxis\":\"x\",\"y\":[0.0,0.0,0.0,0.0,0.0,0.0,0.0,0.0,0.0,0.0,0.0,0.0,0.0,1.0,0.0,0.0,0.0,0.0,0.0,0.0],\"yaxis\":\"y\",\"type\":\"bar\"},{\"alignmentgroup\":\"True\",\"hovertemplate\":\"variable=GAC<br>index=%{x}<br>value=%{y}<extra></extra>\",\"legendgroup\":\"GAC\",\"marker\":{\"color\":\"#19d3f3\",\"pattern\":{\"shape\":\"\"}},\"name\":\"GAC\",\"offsetgroup\":\"GAC\",\"orientation\":\"v\",\"showlegend\":true,\"textposition\":\"auto\",\"x\":[\"M\",\"F\",\"V\",\"L\",\"P\",\"S\",\"Q\",\"C\",\"N\",\"T\",\"R\",\"A\",\"Y\",\"G\",\"D\",\"K\",\"H\",\"W\",\"I\",\"E\"],\"xaxis\":\"x\",\"y\":[0.0,0.0,0.0,0.0,0.0,0.0,0.0,0.0,0.0,0.0,0.0,0.0,0.0,0.0,44.0,0.0,0.0,0.0,0.0,0.0],\"yaxis\":\"y\",\"type\":\"bar\"},{\"alignmentgroup\":\"True\",\"hovertemplate\":\"variable=GAU<br>index=%{x}<br>value=%{y}<extra></extra>\",\"legendgroup\":\"GAU\",\"marker\":{\"color\":\"#FF6692\",\"pattern\":{\"shape\":\"\"}},\"name\":\"GAU\",\"offsetgroup\":\"GAU\",\"orientation\":\"v\",\"showlegend\":true,\"textposition\":\"auto\",\"x\":[\"M\",\"F\",\"V\",\"L\",\"P\",\"S\",\"Q\",\"C\",\"N\",\"T\",\"R\",\"A\",\"Y\",\"G\",\"D\",\"K\",\"H\",\"W\",\"I\",\"E\"],\"xaxis\":\"x\",\"y\":[0.0,0.0,0.0,0.0,0.0,0.0,0.0,0.0,0.0,0.0,0.0,0.0,0.0,0.0,18.0,0.0,0.0,0.0,0.0,0.0],\"yaxis\":\"y\",\"type\":\"bar\"},{\"alignmentgroup\":\"True\",\"hovertemplate\":\"variable=AAG<br>index=%{x}<br>value=%{y}<extra></extra>\",\"legendgroup\":\"AAG\",\"marker\":{\"color\":\"#B6E880\",\"pattern\":{\"shape\":\"\"}},\"name\":\"AAG\",\"offsetgroup\":\"AAG\",\"orientation\":\"v\",\"showlegend\":true,\"textposition\":\"auto\",\"x\":[\"M\",\"F\",\"V\",\"L\",\"P\",\"S\",\"Q\",\"C\",\"N\",\"T\",\"R\",\"A\",\"Y\",\"G\",\"D\",\"K\",\"H\",\"W\",\"I\",\"E\"],\"xaxis\":\"x\",\"y\":[0.0,0.0,0.0,0.0,0.0,0.0,0.0,0.0,0.0,0.0,0.0,0.0,0.0,0.0,0.0,51.0,0.0,0.0,0.0,0.0],\"yaxis\":\"y\",\"type\":\"bar\"},{\"alignmentgroup\":\"True\",\"hovertemplate\":\"variable=AAA<br>index=%{x}<br>value=%{y}<extra></extra>\",\"legendgroup\":\"AAA\",\"marker\":{\"color\":\"#FF97FF\",\"pattern\":{\"shape\":\"\"}},\"name\":\"AAA\",\"offsetgroup\":\"AAA\",\"orientation\":\"v\",\"showlegend\":true,\"textposition\":\"auto\",\"x\":[\"M\",\"F\",\"V\",\"L\",\"P\",\"S\",\"Q\",\"C\",\"N\",\"T\",\"R\",\"A\",\"Y\",\"G\",\"D\",\"K\",\"H\",\"W\",\"I\",\"E\"],\"xaxis\":\"x\",\"y\":[0.0,0.0,0.0,0.0,0.0,0.0,0.0,0.0,0.0,0.0,0.0,0.0,0.0,0.0,0.0,9.0,0.0,0.0,0.0,0.0],\"yaxis\":\"y\",\"type\":\"bar\"},{\"alignmentgroup\":\"True\",\"hovertemplate\":\"variable=CAC<br>index=%{x}<br>value=%{y}<extra></extra>\",\"legendgroup\":\"CAC\",\"marker\":{\"color\":\"#FECB52\",\"pattern\":{\"shape\":\"\"}},\"name\":\"CAC\",\"offsetgroup\":\"CAC\",\"orientation\":\"v\",\"showlegend\":true,\"textposition\":\"auto\",\"x\":[\"M\",\"F\",\"V\",\"L\",\"P\",\"S\",\"Q\",\"C\",\"N\",\"T\",\"R\",\"A\",\"Y\",\"G\",\"D\",\"K\",\"H\",\"W\",\"I\",\"E\"],\"xaxis\":\"x\",\"y\":[0.0,0.0,0.0,0.0,0.0,0.0,0.0,0.0,0.0,0.0,0.0,0.0,0.0,0.0,0.0,0.0,15.0,0.0,0.0,0.0],\"yaxis\":\"y\",\"type\":\"bar\"},{\"alignmentgroup\":\"True\",\"hovertemplate\":\"variable=CAU<br>index=%{x}<br>value=%{y}<extra></extra>\",\"legendgroup\":\"CAU\",\"marker\":{\"color\":\"#636efa\",\"pattern\":{\"shape\":\"\"}},\"name\":\"CAU\",\"offsetgroup\":\"CAU\",\"orientation\":\"v\",\"showlegend\":true,\"textposition\":\"auto\",\"x\":[\"M\",\"F\",\"V\",\"L\",\"P\",\"S\",\"Q\",\"C\",\"N\",\"T\",\"R\",\"A\",\"Y\",\"G\",\"D\",\"K\",\"H\",\"W\",\"I\",\"E\"],\"xaxis\":\"x\",\"y\":[0.0,0.0,0.0,0.0,0.0,0.0,0.0,0.0,0.0,0.0,0.0,0.0,0.0,0.0,0.0,0.0,2.0,0.0,0.0,0.0],\"yaxis\":\"y\",\"type\":\"bar\"},{\"alignmentgroup\":\"True\",\"hovertemplate\":\"variable=UGG<br>index=%{x}<br>value=%{y}<extra></extra>\",\"legendgroup\":\"UGG\",\"marker\":{\"color\":\"#EF553B\",\"pattern\":{\"shape\":\"\"}},\"name\":\"UGG\",\"offsetgroup\":\"UGG\",\"orientation\":\"v\",\"showlegend\":true,\"textposition\":\"auto\",\"x\":[\"M\",\"F\",\"V\",\"L\",\"P\",\"S\",\"Q\",\"C\",\"N\",\"T\",\"R\",\"A\",\"Y\",\"G\",\"D\",\"K\",\"H\",\"W\",\"I\",\"E\"],\"xaxis\":\"x\",\"y\":[0.0,0.0,0.0,0.0,0.0,0.0,0.0,0.0,0.0,0.0,0.0,0.0,0.0,0.0,0.0,0.0,0.0,12.0,0.0,0.0],\"yaxis\":\"y\",\"type\":\"bar\"},{\"alignmentgroup\":\"True\",\"hovertemplate\":\"variable=AUC<br>index=%{x}<br>value=%{y}<extra></extra>\",\"legendgroup\":\"AUC\",\"marker\":{\"color\":\"#00cc96\",\"pattern\":{\"shape\":\"\"}},\"name\":\"AUC\",\"offsetgroup\":\"AUC\",\"orientation\":\"v\",\"showlegend\":true,\"textposition\":\"auto\",\"x\":[\"M\",\"F\",\"V\",\"L\",\"P\",\"S\",\"Q\",\"C\",\"N\",\"T\",\"R\",\"A\",\"Y\",\"G\",\"D\",\"K\",\"H\",\"W\",\"I\",\"E\"],\"xaxis\":\"x\",\"y\":[0.0,0.0,0.0,0.0,0.0,0.0,0.0,0.0,0.0,0.0,0.0,0.0,0.0,0.0,0.0,0.0,0.0,0.0,66.0,0.0],\"yaxis\":\"y\",\"type\":\"bar\"},{\"alignmentgroup\":\"True\",\"hovertemplate\":\"variable=AUU<br>index=%{x}<br>value=%{y}<extra></extra>\",\"legendgroup\":\"AUU\",\"marker\":{\"color\":\"#ab63fa\",\"pattern\":{\"shape\":\"\"}},\"name\":\"AUU\",\"offsetgroup\":\"AUU\",\"orientation\":\"v\",\"showlegend\":true,\"textposition\":\"auto\",\"x\":[\"M\",\"F\",\"V\",\"L\",\"P\",\"S\",\"Q\",\"C\",\"N\",\"T\",\"R\",\"A\",\"Y\",\"G\",\"D\",\"K\",\"H\",\"W\",\"I\",\"E\"],\"xaxis\":\"x\",\"y\":[0.0,0.0,0.0,0.0,0.0,0.0,0.0,0.0,0.0,0.0,0.0,0.0,0.0,0.0,0.0,0.0,0.0,0.0,10.0,0.0],\"yaxis\":\"y\",\"type\":\"bar\"},{\"alignmentgroup\":\"True\",\"hovertemplate\":\"variable=GAG<br>index=%{x}<br>value=%{y}<extra></extra>\",\"legendgroup\":\"GAG\",\"marker\":{\"color\":\"#FFA15A\",\"pattern\":{\"shape\":\"\"}},\"name\":\"GAG\",\"offsetgroup\":\"GAG\",\"orientation\":\"v\",\"showlegend\":true,\"textposition\":\"auto\",\"x\":[\"M\",\"F\",\"V\",\"L\",\"P\",\"S\",\"Q\",\"C\",\"N\",\"T\",\"R\",\"A\",\"Y\",\"G\",\"D\",\"K\",\"H\",\"W\",\"I\",\"E\"],\"xaxis\":\"x\",\"y\":[0.0,0.0,0.0,0.0,0.0,0.0,0.0,0.0,0.0,0.0,0.0,0.0,0.0,0.0,0.0,0.0,0.0,0.0,0.0,34.0],\"yaxis\":\"y\",\"type\":\"bar\"},{\"alignmentgroup\":\"True\",\"hovertemplate\":\"variable=GAA<br>index=%{x}<br>value=%{y}<extra></extra>\",\"legendgroup\":\"GAA\",\"marker\":{\"color\":\"#19d3f3\",\"pattern\":{\"shape\":\"\"}},\"name\":\"GAA\",\"offsetgroup\":\"GAA\",\"orientation\":\"v\",\"showlegend\":true,\"textposition\":\"auto\",\"x\":[\"M\",\"F\",\"V\",\"L\",\"P\",\"S\",\"Q\",\"C\",\"N\",\"T\",\"R\",\"A\",\"Y\",\"G\",\"D\",\"K\",\"H\",\"W\",\"I\",\"E\"],\"xaxis\":\"x\",\"y\":[0.0,0.0,0.0,0.0,0.0,0.0,0.0,0.0,0.0,0.0,0.0,0.0,0.0,0.0,0.0,0.0,0.0,0.0,0.0,14.0],\"yaxis\":\"y\",\"type\":\"bar\"}],                        {\"template\":{\"data\":{\"bar\":[{\"error_x\":{\"color\":\"#2a3f5f\"},\"error_y\":{\"color\":\"#2a3f5f\"},\"marker\":{\"line\":{\"color\":\"#E5ECF6\",\"width\":0.5},\"pattern\":{\"fillmode\":\"overlay\",\"size\":10,\"solidity\":0.2}},\"type\":\"bar\"}],\"barpolar\":[{\"marker\":{\"line\":{\"color\":\"#E5ECF6\",\"width\":0.5},\"pattern\":{\"fillmode\":\"overlay\",\"size\":10,\"solidity\":0.2}},\"type\":\"barpolar\"}],\"carpet\":[{\"aaxis\":{\"endlinecolor\":\"#2a3f5f\",\"gridcolor\":\"white\",\"linecolor\":\"white\",\"minorgridcolor\":\"white\",\"startlinecolor\":\"#2a3f5f\"},\"baxis\":{\"endlinecolor\":\"#2a3f5f\",\"gridcolor\":\"white\",\"linecolor\":\"white\",\"minorgridcolor\":\"white\",\"startlinecolor\":\"#2a3f5f\"},\"type\":\"carpet\"}],\"choropleth\":[{\"colorbar\":{\"outlinewidth\":0,\"ticks\":\"\"},\"type\":\"choropleth\"}],\"contour\":[{\"colorbar\":{\"outlinewidth\":0,\"ticks\":\"\"},\"colorscale\":[[0.0,\"#0d0887\"],[0.1111111111111111,\"#46039f\"],[0.2222222222222222,\"#7201a8\"],[0.3333333333333333,\"#9c179e\"],[0.4444444444444444,\"#bd3786\"],[0.5555555555555556,\"#d8576b\"],[0.6666666666666666,\"#ed7953\"],[0.7777777777777778,\"#fb9f3a\"],[0.8888888888888888,\"#fdca26\"],[1.0,\"#f0f921\"]],\"type\":\"contour\"}],\"contourcarpet\":[{\"colorbar\":{\"outlinewidth\":0,\"ticks\":\"\"},\"type\":\"contourcarpet\"}],\"heatmap\":[{\"colorbar\":{\"outlinewidth\":0,\"ticks\":\"\"},\"colorscale\":[[0.0,\"#0d0887\"],[0.1111111111111111,\"#46039f\"],[0.2222222222222222,\"#7201a8\"],[0.3333333333333333,\"#9c179e\"],[0.4444444444444444,\"#bd3786\"],[0.5555555555555556,\"#d8576b\"],[0.6666666666666666,\"#ed7953\"],[0.7777777777777778,\"#fb9f3a\"],[0.8888888888888888,\"#fdca26\"],[1.0,\"#f0f921\"]],\"type\":\"heatmap\"}],\"heatmapgl\":[{\"colorbar\":{\"outlinewidth\":0,\"ticks\":\"\"},\"colorscale\":[[0.0,\"#0d0887\"],[0.1111111111111111,\"#46039f\"],[0.2222222222222222,\"#7201a8\"],[0.3333333333333333,\"#9c179e\"],[0.4444444444444444,\"#bd3786\"],[0.5555555555555556,\"#d8576b\"],[0.6666666666666666,\"#ed7953\"],[0.7777777777777778,\"#fb9f3a\"],[0.8888888888888888,\"#fdca26\"],[1.0,\"#f0f921\"]],\"type\":\"heatmapgl\"}],\"histogram\":[{\"marker\":{\"pattern\":{\"fillmode\":\"overlay\",\"size\":10,\"solidity\":0.2}},\"type\":\"histogram\"}],\"histogram2d\":[{\"colorbar\":{\"outlinewidth\":0,\"ticks\":\"\"},\"colorscale\":[[0.0,\"#0d0887\"],[0.1111111111111111,\"#46039f\"],[0.2222222222222222,\"#7201a8\"],[0.3333333333333333,\"#9c179e\"],[0.4444444444444444,\"#bd3786\"],[0.5555555555555556,\"#d8576b\"],[0.6666666666666666,\"#ed7953\"],[0.7777777777777778,\"#fb9f3a\"],[0.8888888888888888,\"#fdca26\"],[1.0,\"#f0f921\"]],\"type\":\"histogram2d\"}],\"histogram2dcontour\":[{\"colorbar\":{\"outlinewidth\":0,\"ticks\":\"\"},\"colorscale\":[[0.0,\"#0d0887\"],[0.1111111111111111,\"#46039f\"],[0.2222222222222222,\"#7201a8\"],[0.3333333333333333,\"#9c179e\"],[0.4444444444444444,\"#bd3786\"],[0.5555555555555556,\"#d8576b\"],[0.6666666666666666,\"#ed7953\"],[0.7777777777777778,\"#fb9f3a\"],[0.8888888888888888,\"#fdca26\"],[1.0,\"#f0f921\"]],\"type\":\"histogram2dcontour\"}],\"mesh3d\":[{\"colorbar\":{\"outlinewidth\":0,\"ticks\":\"\"},\"type\":\"mesh3d\"}],\"parcoords\":[{\"line\":{\"colorbar\":{\"outlinewidth\":0,\"ticks\":\"\"}},\"type\":\"parcoords\"}],\"pie\":[{\"automargin\":true,\"type\":\"pie\"}],\"scatter\":[{\"marker\":{\"colorbar\":{\"outlinewidth\":0,\"ticks\":\"\"}},\"type\":\"scatter\"}],\"scatter3d\":[{\"line\":{\"colorbar\":{\"outlinewidth\":0,\"ticks\":\"\"}},\"marker\":{\"colorbar\":{\"outlinewidth\":0,\"ticks\":\"\"}},\"type\":\"scatter3d\"}],\"scattercarpet\":[{\"marker\":{\"colorbar\":{\"outlinewidth\":0,\"ticks\":\"\"}},\"type\":\"scattercarpet\"}],\"scattergeo\":[{\"marker\":{\"colorbar\":{\"outlinewidth\":0,\"ticks\":\"\"}},\"type\":\"scattergeo\"}],\"scattergl\":[{\"marker\":{\"colorbar\":{\"outlinewidth\":0,\"ticks\":\"\"}},\"type\":\"scattergl\"}],\"scattermapbox\":[{\"marker\":{\"colorbar\":{\"outlinewidth\":0,\"ticks\":\"\"}},\"type\":\"scattermapbox\"}],\"scatterpolar\":[{\"marker\":{\"colorbar\":{\"outlinewidth\":0,\"ticks\":\"\"}},\"type\":\"scatterpolar\"}],\"scatterpolargl\":[{\"marker\":{\"colorbar\":{\"outlinewidth\":0,\"ticks\":\"\"}},\"type\":\"scatterpolargl\"}],\"scatterternary\":[{\"marker\":{\"colorbar\":{\"outlinewidth\":0,\"ticks\":\"\"}},\"type\":\"scatterternary\"}],\"surface\":[{\"colorbar\":{\"outlinewidth\":0,\"ticks\":\"\"},\"colorscale\":[[0.0,\"#0d0887\"],[0.1111111111111111,\"#46039f\"],[0.2222222222222222,\"#7201a8\"],[0.3333333333333333,\"#9c179e\"],[0.4444444444444444,\"#bd3786\"],[0.5555555555555556,\"#d8576b\"],[0.6666666666666666,\"#ed7953\"],[0.7777777777777778,\"#fb9f3a\"],[0.8888888888888888,\"#fdca26\"],[1.0,\"#f0f921\"]],\"type\":\"surface\"}],\"table\":[{\"cells\":{\"fill\":{\"color\":\"#EBF0F8\"},\"line\":{\"color\":\"white\"}},\"header\":{\"fill\":{\"color\":\"#C8D4E3\"},\"line\":{\"color\":\"white\"}},\"type\":\"table\"}]},\"layout\":{\"annotationdefaults\":{\"arrowcolor\":\"#2a3f5f\",\"arrowhead\":0,\"arrowwidth\":1},\"autotypenumbers\":\"strict\",\"coloraxis\":{\"colorbar\":{\"outlinewidth\":0,\"ticks\":\"\"}},\"colorscale\":{\"diverging\":[[0,\"#8e0152\"],[0.1,\"#c51b7d\"],[0.2,\"#de77ae\"],[0.3,\"#f1b6da\"],[0.4,\"#fde0ef\"],[0.5,\"#f7f7f7\"],[0.6,\"#e6f5d0\"],[0.7,\"#b8e186\"],[0.8,\"#7fbc41\"],[0.9,\"#4d9221\"],[1,\"#276419\"]],\"sequential\":[[0.0,\"#0d0887\"],[0.1111111111111111,\"#46039f\"],[0.2222222222222222,\"#7201a8\"],[0.3333333333333333,\"#9c179e\"],[0.4444444444444444,\"#bd3786\"],[0.5555555555555556,\"#d8576b\"],[0.6666666666666666,\"#ed7953\"],[0.7777777777777778,\"#fb9f3a\"],[0.8888888888888888,\"#fdca26\"],[1.0,\"#f0f921\"]],\"sequentialminus\":[[0.0,\"#0d0887\"],[0.1111111111111111,\"#46039f\"],[0.2222222222222222,\"#7201a8\"],[0.3333333333333333,\"#9c179e\"],[0.4444444444444444,\"#bd3786\"],[0.5555555555555556,\"#d8576b\"],[0.6666666666666666,\"#ed7953\"],[0.7777777777777778,\"#fb9f3a\"],[0.8888888888888888,\"#fdca26\"],[1.0,\"#f0f921\"]]},\"colorway\":[\"#636efa\",\"#EF553B\",\"#00cc96\",\"#ab63fa\",\"#FFA15A\",\"#19d3f3\",\"#FF6692\",\"#B6E880\",\"#FF97FF\",\"#FECB52\"],\"font\":{\"color\":\"#2a3f5f\"},\"geo\":{\"bgcolor\":\"white\",\"lakecolor\":\"white\",\"landcolor\":\"#E5ECF6\",\"showlakes\":true,\"showland\":true,\"subunitcolor\":\"white\"},\"hoverlabel\":{\"align\":\"left\"},\"hovermode\":\"closest\",\"mapbox\":{\"style\":\"light\"},\"paper_bgcolor\":\"white\",\"plot_bgcolor\":\"#E5ECF6\",\"polar\":{\"angularaxis\":{\"gridcolor\":\"white\",\"linecolor\":\"white\",\"ticks\":\"\"},\"bgcolor\":\"#E5ECF6\",\"radialaxis\":{\"gridcolor\":\"white\",\"linecolor\":\"white\",\"ticks\":\"\"}},\"scene\":{\"xaxis\":{\"backgroundcolor\":\"#E5ECF6\",\"gridcolor\":\"white\",\"gridwidth\":2,\"linecolor\":\"white\",\"showbackground\":true,\"ticks\":\"\",\"zerolinecolor\":\"white\"},\"yaxis\":{\"backgroundcolor\":\"#E5ECF6\",\"gridcolor\":\"white\",\"gridwidth\":2,\"linecolor\":\"white\",\"showbackground\":true,\"ticks\":\"\",\"zerolinecolor\":\"white\"},\"zaxis\":{\"backgroundcolor\":\"#E5ECF6\",\"gridcolor\":\"white\",\"gridwidth\":2,\"linecolor\":\"white\",\"showbackground\":true,\"ticks\":\"\",\"zerolinecolor\":\"white\"}},\"shapedefaults\":{\"line\":{\"color\":\"#2a3f5f\"}},\"ternary\":{\"aaxis\":{\"gridcolor\":\"white\",\"linecolor\":\"white\",\"ticks\":\"\"},\"baxis\":{\"gridcolor\":\"white\",\"linecolor\":\"white\",\"ticks\":\"\"},\"bgcolor\":\"#E5ECF6\",\"caxis\":{\"gridcolor\":\"white\",\"linecolor\":\"white\",\"ticks\":\"\"}},\"title\":{\"x\":0.05},\"xaxis\":{\"automargin\":true,\"gridcolor\":\"white\",\"linecolor\":\"white\",\"ticks\":\"\",\"title\":{\"standoff\":15},\"zerolinecolor\":\"white\",\"zerolinewidth\":2},\"yaxis\":{\"automargin\":true,\"gridcolor\":\"white\",\"linecolor\":\"white\",\"ticks\":\"\",\"title\":{\"standoff\":15},\"zerolinecolor\":\"white\",\"zerolinewidth\":2}}},\"xaxis\":{\"anchor\":\"y\",\"domain\":[0.0,1.0],\"title\":{\"text\":\"index\"}},\"yaxis\":{\"anchor\":\"x\",\"domain\":[0.0,1.0],\"title\":{\"text\":\"value\"}},\"legend\":{\"title\":{\"text\":\"variable\"},\"tracegroupgap\":0},\"title\":{\"text\":\"Stacked codons per Amino Acid\"},\"barmode\":\"relative\"},                        {\"responsive\": true}                    ).then(function(){\n",
              "                            \n",
              "var gd = document.getElementById('8cfa5f71-2150-47ba-ab23-7077bb4ac165');\n",
              "var x = new MutationObserver(function (mutations, observer) {{\n",
              "        var display = window.getComputedStyle(gd).display;\n",
              "        if (!display || display === 'none') {{\n",
              "            console.log([gd, 'removed!']);\n",
              "            Plotly.purge(gd);\n",
              "            observer.disconnect();\n",
              "        }}\n",
              "}});\n",
              "\n",
              "// Listen for the removal of the full notebook cells\n",
              "var notebookContainer = gd.closest('#notebook-container');\n",
              "if (notebookContainer) {{\n",
              "    x.observe(notebookContainer, {childList: true});\n",
              "}}\n",
              "\n",
              "// Listen for the clearing of the current output cell\n",
              "var outputEl = gd.closest('.output');\n",
              "if (outputEl) {{\n",
              "    x.observe(outputEl, {childList: true});\n",
              "}}\n",
              "\n",
              "                        })                };                            </script>        </div>\n",
              "</body>\n",
              "</html>"
            ]
          },
          "metadata": {}
        }
      ]
    },
    {
      "cell_type": "markdown",
      "source": [
        "### Comparison to the Wuhan strain:"
      ],
      "metadata": {
        "id": "FwCOSym4oexp"
      }
    },
    {
      "cell_type": "markdown",
      "source": [
        "8. What’s the length of the Wuhan strain genome?"
      ],
      "metadata": {
        "id": "QWWcS3JHogze"
      }
    },
    {
      "cell_type": "code",
      "source": [
        "wuhan_dictionary = {}\n",
        "\n",
        "print('Wuhan strain details:')\n",
        "print(list(SeqIO.parse('NC_045512.2.fasta', 'fasta'))[0])\n",
        "\n",
        "wuhan_dictionary['DNA Sequence'] = list(SeqIO.parse('NC_045512.2.fasta', 'fasta'))[0].seq\n",
        "wuhan_dictionary['RNA Sequence'] = wuhan_dictionary['DNA Sequence'].transcribe()\n",
        "print()\n",
        "print(f\"The length of the Wuhan strain genome is {len(wuhan_dictionary['DNA Sequence'])}\")"
      ],
      "metadata": {
        "id": "-0hXCIoZNs-4",
        "colab": {
          "base_uri": "https://localhost:8080/"
        },
        "outputId": "45fdb639-c8b3-4a05-c026-a9eed21fa54d"
      },
      "execution_count": null,
      "outputs": [
        {
          "output_type": "stream",
          "name": "stdout",
          "text": [
            "Wuhan strain details:\n",
            "ID: NC_045512.2\n",
            "Name: NC_045512.2\n",
            "Description: NC_045512.2 Severe acute respiratory syndrome coronavirus 2 isolate Wuhan-Hu-1, complete genome\n",
            "Number of features: 0\n",
            "Seq('ATTAAAGGTTTATACCTTCCCAGGTAACAAACCAACCAACTTTCGATCTCTTGT...AAA')\n",
            "\n",
            "The length of the Wuhan strain genome is 29903\n"
          ]
        }
      ]
    },
    {
      "cell_type": "markdown",
      "source": [
        "9. Report the nucleotide sequence of the Spike region of the Wuhan strain from the\n",
        "initiation codon to the termination codon (hint: use the information in the NCBI website\n",
        "about the starting and stopping position of Spike)."
      ],
      "metadata": {
        "id": "h-ZqmD5eoiUT"
      }
    },
    {
      "cell_type": "code",
      "source": [
        "# According to the website, the spike region from initiation codon to termination codon is 21563 to 25384\n",
        "wuhan_dictionary['Spike Region DNA Sequence'] = wuhan_dictionary['DNA Sequence'][21563-1:25384]\n",
        "wuhan_dictionary['Spike Region RNA Sequence'] = wuhan_dictionary['RNA Sequence'][21563-1:25384]\n",
        "print('Wuhan Spike Region RNA Sequence:')\n",
        "print(wuhan_dictionary['Spike Region RNA Sequence'])"
      ],
      "metadata": {
        "id": "fGQYc0IoPfgo",
        "colab": {
          "base_uri": "https://localhost:8080/"
        },
        "outputId": "af1e1fc4-9f5a-4f8f-e7e7-0ff440fc405d"
      },
      "execution_count": null,
      "outputs": [
        {
          "output_type": "stream",
          "name": "stdout",
          "text": [
            "Wuhan Spike Region RNA Sequence:\n",
            "AUGUUUGUUUUUCUUGUUUUAUUGCCACUAGUCUCUAGUCAGUGUGUUAAUCUUACAACCAGAACUCAAUUACCCCCUGCAUACACUAAUUCUUUCACACGUGGUGUUUAUUACCCUGACAAAGUUUUCAGAUCCUCAGUUUUACAUUCAACUCAGGACUUGUUCUUACCUUUCUUUUCCAAUGUUACUUGGUUCCAUGCUAUACAUGUCUCUGGGACCAAUGGUACUAAGAGGUUUGAUAACCCUGUCCUACCAUUUAAUGAUGGUGUUUAUUUUGCUUCCACUGAGAAGUCUAACAUAAUAAGAGGCUGGAUUUUUGGUACUACUUUAGAUUCGAAGACCCAGUCCCUACUUAUUGUUAAUAACGCUACUAAUGUUGUUAUUAAAGUCUGUGAAUUUCAAUUUUGUAAUGAUCCAUUUUUGGGUGUUUAUUACCACAAAAACAACAAAAGUUGGAUGGAAAGUGAGUUCAGAGUUUAUUCUAGUGCGAAUAAUUGCACUUUUGAAUAUGUCUCUCAGCCUUUUCUUAUGGACCUUGAAGGAAAACAGGGUAAUUUCAAAAAUCUUAGGGAAUUUGUGUUUAAGAAUAUUGAUGGUUAUUUUAAAAUAUAUUCUAAGCACACGCCUAUUAAUUUAGUGCGUGAUCUCCCUCAGGGUUUUUCGGCUUUAGAACCAUUGGUAGAUUUGCCAAUAGGUAUUAACAUCACUAGGUUUCAAACUUUACUUGCUUUACAUAGAAGUUAUUUGACUCCUGGUGAUUCUUCUUCAGGUUGGACAGCUGGUGCUGCAGCUUAUUAUGUGGGUUAUCUUCAACCUAGGACUUUUCUAUUAAAAUAUAAUGAAAAUGGAACCAUUACAGAUGCUGUAGACUGUGCACUUGACCCUCUCUCAGAAACAAAGUGUACGUUGAAAUCCUUCACUGUAGAAAAAGGAAUCUAUCAAACUUCUAACUUUAGAGUCCAACCAACAGAAUCUAUUGUUAGAUUUCCUAAUAUUACAAACUUGUGCCCUUUUGGUGAAGUUUUUAACGCCACCAGAUUUGCAUCUGUUUAUGCUUGGAACAGGAAGAGAAUCAGCAACUGUGUUGCUGAUUAUUCUGUCCUAUAUAAUUCCGCAUCAUUUUCCACUUUUAAGUGUUAUGGAGUGUCUCCUACUAAAUUAAAUGAUCUCUGCUUUACUAAUGUCUAUGCAGAUUCAUUUGUAAUUAGAGGUGAUGAAGUCAGACAAAUCGCUCCAGGGCAAACUGGAAAGAUUGCUGAUUAUAAUUAUAAAUUACCAGAUGAUUUUACAGGCUGCGUUAUAGCUUGGAAUUCUAACAAUCUUGAUUCUAAGGUUGGUGGUAAUUAUAAUUACCUGUAUAGAUUGUUUAGGAAGUCUAAUCUCAAACCUUUUGAGAGAGAUAUUUCAACUGAAAUCUAUCAGGCCGGUAGCACACCUUGUAAUGGUGUUGAAGGUUUUAAUUGUUACUUUCCUUUACAAUCAUAUGGUUUCCAACCCACUAAUGGUGUUGGUUACCAACCAUACAGAGUAGUAGUACUUUCUUUUGAACUUCUACAUGCACCAGCAACUGUUUGUGGACCUAAAAAGUCUACUAAUUUGGUUAAAAACAAAUGUGUCAAUUUCAACUUCAAUGGUUUAACAGGCACAGGUGUUCUUACUGAGUCUAACAAAAAGUUUCUGCCUUUCCAACAAUUUGGCAGAGACAUUGCUGACACUACUGAUGCUGUCCGUGAUCCACAGACACUUGAGAUUCUUGACAUUACACCAUGUUCUUUUGGUGGUGUCAGUGUUAUAACACCAGGAACAAAUACUUCUAACCAGGUUGCUGUUCUUUAUCAGGAUGUUAACUGCACAGAAGUCCCUGUUGCUAUUCAUGCAGAUCAACUUACUCCUACUUGGCGUGUUUAUUCUACAGGUUCUAAUGUUUUUCAAACACGUGCAGGCUGUUUAAUAGGGGCUGAACAUGUCAACAACUCAUAUGAGUGUGACAUACCCAUUGGUGCAGGUAUAUGCGCUAGUUAUCAGACUCAGACUAAUUCUCCUCGGCGGGCACGUAGUGUAGCUAGUCAAUCCAUCAUUGCCUACACUAUGUCACUUGGUGCAGAAAAUUCAGUUGCUUACUCUAAUAACUCUAUUGCCAUACCCACAAAUUUUACUAUUAGUGUUACCACAGAAAUUCUACCAGUGUCUAUGACCAAGACAUCAGUAGAUUGUACAAUGUACAUUUGUGGUGAUUCAACUGAAUGCAGCAAUCUUUUGUUGCAAUAUGGCAGUUUUUGUACACAAUUAAACCGUGCUUUAACUGGAAUAGCUGUUGAACAAGACAAAAACACCCAAGAAGUUUUUGCACAAGUCAAACAAAUUUACAAAACACCACCAAUUAAAGAUUUUGGUGGUUUUAAUUUUUCACAAAUAUUACCAGAUCCAUCAAAACCAAGCAAGAGGUCAUUUAUUGAAGAUCUACUUUUCAACAAAGUGACACUUGCAGAUGCUGGCUUCAUCAAACAAUAUGGUGAUUGCCUUGGUGAUAUUGCUGCUAGAGACCUCAUUUGUGCACAAAAGUUUAACGGCCUUACUGUUUUGCCACCUUUGCUCACAGAUGAAAUGAUUGCUCAAUACACUUCUGCACUGUUAGCGGGUACAAUCACUUCUGGUUGGACCUUUGGUGCAGGUGCUGCAUUACAAAUACCAUUUGCUAUGCAAAUGGCUUAUAGGUUUAAUGGUAUUGGAGUUACACAGAAUGUUCUCUAUGAGAACCAAAAAUUGAUUGCCAACCAAUUUAAUAGUGCUAUUGGCAAAAUUCAAGACUCACUUUCUUCCACAGCAAGUGCACUUGGAAAACUUCAAGAUGUGGUCAACCAAAAUGCACAAGCUUUAAACACGCUUGUUAAACAACUUAGCUCCAAUUUUGGUGCAAUUUCAAGUGUUUUAAAUGAUAUCCUUUCACGUCUUGACAAAGUUGAGGCUGAAGUGCAAAUUGAUAGGUUGAUCACAGGCAGACUUCAAAGUUUGCAGACAUAUGUGACUCAACAAUUAAUUAGAGCUGCAGAAAUCAGAGCUUCUGCUAAUCUUGCUGCUACUAAAAUGUCAGAGUGUGUACUUGGACAAUCAAAAAGAGUUGAUUUUUGUGGAAAGGGCUAUCAUCUUAUGUCCUUCCCUCAGUCAGCACCUCAUGGUGUAGUCUUCUUGCAUGUGACUUAUGUCCCUGCACAAGAAAAGAACUUCACAACUGCUCCUGCCAUUUGUCAUGAUGGAAAAGCACACUUUCCUCGUGAAGGUGUCUUUGUUUCAAAUGGCACACACUGGUUUGUAACACAAAGGAAUUUUUAUGAACCACAAAUCAUUACUACAGACAACACAUUUGUGUCUGGUAACUGUGAUGUUGUAAUAGGAAUUGUCAACAACACAGUUUAUGAUCCUUUGCAACCUGAAUUAGACUCAUUCAAGGAGGAGUUAGAUAAAUAUUUUAAGAAUCAUACAUCACCAGAUGUUGAUUUAGGUGACAUCUCUGGCAUUAAUGCUUCAGUUGUAAACAUUCAAAAAGAAAUUGACCGCCUCAAUGAGGUUGCCAAGAAUUUAAAUGAAUCUCUCAUCGAUCUCCAAGAACUUGGAAAGUAUGAGCAGUAUAUAAAAUGGCCAUGGUACAUUUGGCUAGGUUUUAUAGCUGGCUUGAUUGCCAUAGUAAUGGUGACAAUUAUGCUUUGCUGUAUGACCAGUUGCUGUAGUUGUCUCAAGGGCUGUUGUUCUUGUGGAUCCUGCUGCAAAUUUGAUGAAGACGACUCUGAGCCAGUGCUCAAAGGAGUCAAAUUACAUUACACAUAA\n"
          ]
        }
      ]
    },
    {
      "cell_type": "markdown",
      "source": [
        "10. Report the GC content of the Spike region of the Wuhan strain and compare it to the GC\n",
        "content of the Spike region of the Pfizer vaccine."
      ],
      "metadata": {
        "id": "yooU16Ieojmr"
      }
    },
    {
      "cell_type": "code",
      "source": [
        "wuhan_dictionary['GC Content of Spike Region'] = GC(wuhan_dictionary['Spike Region RNA Sequence'])\n",
        "print(f\"The GC content of the spike region of the Wuhan strain is {wuhan_dictionary['GC Content of Spike Region']}%\")\n",
        "print(f\"The GC content of the spike region of the Pfizer vaccine is {GC(mRNA_sequence_dictionary[pfizer]['Nucleotide Sequence'])}%\")"
      ],
      "metadata": {
        "id": "R3jUeqlgRjRP",
        "colab": {
          "base_uri": "https://localhost:8080/"
        },
        "outputId": "fd921623-84e4-4d4a-f55f-941dc7c077c5"
      },
      "execution_count": null,
      "outputs": [
        {
          "output_type": "stream",
          "name": "stdout",
          "text": [
            "The GC content of the spike region of the Wuhan strain is 37.31030873888017%\n",
            "The GC content of the spike region of the Pfizer vaccine is 56.967320261437905%\n"
          ]
        }
      ]
    },
    {
      "cell_type": "markdown",
      "source": [
        "11. Translate the sequence into amino acids and report the sequence of the protein"
      ],
      "metadata": {
        "id": "dpJ8vI2zok_O"
      }
    },
    {
      "cell_type": "code",
      "source": [
        "wuhan_dictionary['Spike Region Amino Acid Sequence'] = wuhan_dictionary['Spike Region RNA Sequence'].translate(stop_symbol=\"@\", to_stop=True, cds=False)\n",
        "print('Wuhan Spike Region Amino Acid Sequence:')\n",
        "print(wuhan_dictionary['Spike Region Amino Acid Sequence'])"
      ],
      "metadata": {
        "id": "dbbUZ6haTuJZ",
        "colab": {
          "base_uri": "https://localhost:8080/"
        },
        "outputId": "718070f3-80f4-42f9-c8a8-563c9e29795b"
      },
      "execution_count": null,
      "outputs": [
        {
          "output_type": "stream",
          "name": "stdout",
          "text": [
            "Wuhan Spike Region Amino Acid Sequence:\n",
            "MFVFLVLLPLVSSQCVNLTTRTQLPPAYTNSFTRGVYYPDKVFRSSVLHSTQDLFLPFFSNVTWFHAIHVSGTNGTKRFDNPVLPFNDGVYFASTEKSNIIRGWIFGTTLDSKTQSLLIVNNATNVVIKVCEFQFCNDPFLGVYYHKNNKSWMESEFRVYSSANNCTFEYVSQPFLMDLEGKQGNFKNLREFVFKNIDGYFKIYSKHTPINLVRDLPQGFSALEPLVDLPIGINITRFQTLLALHRSYLTPGDSSSGWTAGAAAYYVGYLQPRTFLLKYNENGTITDAVDCALDPLSETKCTLKSFTVEKGIYQTSNFRVQPTESIVRFPNITNLCPFGEVFNATRFASVYAWNRKRISNCVADYSVLYNSASFSTFKCYGVSPTKLNDLCFTNVYADSFVIRGDEVRQIAPGQTGKIADYNYKLPDDFTGCVIAWNSNNLDSKVGGNYNYLYRLFRKSNLKPFERDISTEIYQAGSTPCNGVEGFNCYFPLQSYGFQPTNGVGYQPYRVVVLSFELLHAPATVCGPKKSTNLVKNKCVNFNFNGLTGTGVLTESNKKFLPFQQFGRDIADTTDAVRDPQTLEILDITPCSFGGVSVITPGTNTSNQVAVLYQDVNCTEVPVAIHADQLTPTWRVYSTGSNVFQTRAGCLIGAEHVNNSYECDIPIGAGICASYQTQTNSPRRARSVASQSIIAYTMSLGAENSVAYSNNSIAIPTNFTISVTTEILPVSMTKTSVDCTMYICGDSTECSNLLLQYGSFCTQLNRALTGIAVEQDKNTQEVFAQVKQIYKTPPIKDFGGFNFSQILPDPSKPSKRSFIEDLLFNKVTLADAGFIKQYGDCLGDIAARDLICAQKFNGLTVLPPLLTDEMIAQYTSALLAGTITSGWTFGAGAALQIPFAMQMAYRFNGIGVTQNVLYENQKLIANQFNSAIGKIQDSLSSTASALGKLQDVVNQNAQALNTLVKQLSSNFGAISSVLNDILSRLDKVEAEVQIDRLITGRLQSLQTYVTQQLIRAAEIRASANLAATKMSECVLGQSKRVDFCGKGYHLMSFPQSAPHGVVFLHVTYVPAQEKNFTTAPAICHDGKAHFPREGVFVSNGTHWFVTQRNFYEPQIITTDNTFVSGNCDVVIGIVNNTVYDPLQPELDSFKEELDKYFKNHTSPDVDLGDISGINASVVNIQKEIDRLNEVAKNLNESLIDLQELGKYEQYIKWPWYIWLGFIAGLIAIVMVTIMLCCMTSCCSCLKGCCSCGSCCKFDEDDSEPVLKGVKLHYT\n"
          ]
        }
      ]
    },
    {
      "cell_type": "markdown",
      "source": [
        "12. Compare between the Spike region of the Pfizer vaccine to the Spike of the Wuhan\n",
        "strain in the protein level. Are there any differences and where?\n",
        "a. Bonus: explain the differences!"
      ],
      "metadata": {
        "id": "8rqFPQoRomT3"
      }
    },
    {
      "cell_type": "code",
      "source": [
        "def compare_regions(region_a_name, region_a, region_b_name, region_b, to_subtract=0):\n",
        "  print(region_a_name)\n",
        "  print(region_a)\n",
        "  print(region_b_name)\n",
        "  print(region_b)\n",
        "\n",
        "  if len(region_a) < len(region_b):\n",
        "    shortest = region_a\n",
        "  else: \n",
        "    shortest = region_b\n",
        "  tmp = \"\"\n",
        "  position_of_differences = []\n",
        "  for i in range(len(shortest)):\n",
        "    if region_a[i] == region_b[i]:\n",
        "      tmp = tmp + \" \"\n",
        "    else:\n",
        "      tmp = tmp + \"*\"\n",
        "      position_of_differences.append(i)\n",
        "\n",
        "  print(\"Scroll to the right to spot differences\")\n",
        "  print(tmp)\n",
        "  print(f\"There are {len(position_of_differences)-to_subtract} differences at positions: {position_of_differences}\")\n",
        "  return position_of_differences, len(position_of_differences)"
      ],
      "metadata": {
        "id": "6tvzGs1rkoKF"
      },
      "execution_count": null,
      "outputs": []
    },
    {
      "cell_type": "code",
      "source": [
        "pfizer_spike = mRNA_sequence_dictionary[pfizer]['Amino Acid Sequence']\n",
        "wuhan_spike = wuhan_dictionary['Spike Region Amino Acid Sequence']\n",
        "\n",
        "pos, count_diff = compare_regions('Pfizer', pfizer_spike, 'Wuhan Spike', wuhan_spike)"
      ],
      "metadata": {
        "id": "yPG84B1YVA-Z",
        "colab": {
          "base_uri": "https://localhost:8080/"
        },
        "outputId": "a02ea5fa-f80d-4690-afba-a85ce0e7d021"
      },
      "execution_count": null,
      "outputs": [
        {
          "output_type": "stream",
          "name": "stdout",
          "text": [
            "Pfizer\n",
            "MFVFLVLLPLVSSQCVNLTTRTQLPPAYTNSFTRGVYYPDKVFRSSVLHSTQDLFLPFFSNVTWFHAIHVSGTNGTKRFDNPVLPFNDGVYFASTEKSNIIRGWIFGTTLDSKTQSLLIVNNATNVVIKVCEFQFCNDPFLGVYYHKNNKSWMESEFRVYSSANNCTFEYVSQPFLMDLEGKQGNFKNLREFVFKNIDGYFKIYSKHTPINLVRDLPQGFSALEPLVDLPIGINITRFQTLLALHRSYLTPGDSSSGWTAGAAAYYVGYLQPRTFLLKYNENGTITDAVDCALDPLSETKCTLKSFTVEKGIYQTSNFRVQPTESIVRFPNITNLCPFGEVFNATRFASVYAWNRKRISNCVADYSVLYNSASFSTFKCYGVSPTKLNDLCFTNVYADSFVIRGDEVRQIAPGQTGKIADYNYKLPDDFTGCVIAWNSNNLDSKVGGNYNYLYRLFRKSNLKPFERDISTEIYQAGSTPCNGVEGFNCYFPLQSYGFQPTNGVGYQPYRVVVLSFELLHAPATVCGPKKSTNLVKNKCVNFNFNGLTGTGVLTESNKKFLPFQQFGRDIADTTDAVRDPQTLEILDITPCSFGGVSVITPGTNTSNQVAVLYQDVNCTEVPVAIHADQLTPTWRVYSTGSNVFQTRAGCLIGAEHVNNSYECDIPIGAGICASYQTQTNSPRRARSVASQSIIAYTMSLGAENSVAYSNNSIAIPTNFTISVTTEILPVSMTKTSVDCTMYICGDSTECSNLLLQYGSFCTQLNRALTGIAVEQDKNTQEVFAQVKQIYKTPPIKDFGGFNFSQILPDPSKPSKRSFIEDLLFNKVTLADAGFIKQYGDCLGDIAARDLICAQKFNGLTVLPPLLTDEMIAQYTSALLAGTITSGWTFGAGAALQIPFAMQMAYRFNGIGVTQNVLYENQKLIANQFNSAIGKIQDSLSSTASALGKLQDVVNQNAQALNTLVKQLSSNFGAISSVLNDILSRLDPPEAEVQIDRLITGRLQSLQTYVTQQLIRAAEIRASANLAATKMSECVLGQSKRVDFCGKGYHLMSFPQSAPHGVVFLHVTYVPAQEKNFTTAPAICHDGKAHFPREGVFVSNGTHWFVTQRNFYEPQIITTDNTFVSGNCDVVIGIVNNTVYDPLQPELDSFKEELDKYFKNHTSPDVDLGDISGINASVVNIQKEIDRLNEVAKNLNESLIDLQELGKYEQYIKWPWYIWLGFIAGLIAIVMVTIMLCCMTSCCSCLKGCCSCGSCCKFDEDDSEPVLKGVKLHYT\n",
            "Wuhan Spike\n",
            "MFVFLVLLPLVSSQCVNLTTRTQLPPAYTNSFTRGVYYPDKVFRSSVLHSTQDLFLPFFSNVTWFHAIHVSGTNGTKRFDNPVLPFNDGVYFASTEKSNIIRGWIFGTTLDSKTQSLLIVNNATNVVIKVCEFQFCNDPFLGVYYHKNNKSWMESEFRVYSSANNCTFEYVSQPFLMDLEGKQGNFKNLREFVFKNIDGYFKIYSKHTPINLVRDLPQGFSALEPLVDLPIGINITRFQTLLALHRSYLTPGDSSSGWTAGAAAYYVGYLQPRTFLLKYNENGTITDAVDCALDPLSETKCTLKSFTVEKGIYQTSNFRVQPTESIVRFPNITNLCPFGEVFNATRFASVYAWNRKRISNCVADYSVLYNSASFSTFKCYGVSPTKLNDLCFTNVYADSFVIRGDEVRQIAPGQTGKIADYNYKLPDDFTGCVIAWNSNNLDSKVGGNYNYLYRLFRKSNLKPFERDISTEIYQAGSTPCNGVEGFNCYFPLQSYGFQPTNGVGYQPYRVVVLSFELLHAPATVCGPKKSTNLVKNKCVNFNFNGLTGTGVLTESNKKFLPFQQFGRDIADTTDAVRDPQTLEILDITPCSFGGVSVITPGTNTSNQVAVLYQDVNCTEVPVAIHADQLTPTWRVYSTGSNVFQTRAGCLIGAEHVNNSYECDIPIGAGICASYQTQTNSPRRARSVASQSIIAYTMSLGAENSVAYSNNSIAIPTNFTISVTTEILPVSMTKTSVDCTMYICGDSTECSNLLLQYGSFCTQLNRALTGIAVEQDKNTQEVFAQVKQIYKTPPIKDFGGFNFSQILPDPSKPSKRSFIEDLLFNKVTLADAGFIKQYGDCLGDIAARDLICAQKFNGLTVLPPLLTDEMIAQYTSALLAGTITSGWTFGAGAALQIPFAMQMAYRFNGIGVTQNVLYENQKLIANQFNSAIGKIQDSLSSTASALGKLQDVVNQNAQALNTLVKQLSSNFGAISSVLNDILSRLDKVEAEVQIDRLITGRLQSLQTYVTQQLIRAAEIRASANLAATKMSECVLGQSKRVDFCGKGYHLMSFPQSAPHGVVFLHVTYVPAQEKNFTTAPAICHDGKAHFPREGVFVSNGTHWFVTQRNFYEPQIITTDNTFVSGNCDVVIGIVNNTVYDPLQPELDSFKEELDKYFKNHTSPDVDLGDISGINASVVNIQKEIDRLNEVAKNLNESLIDLQELGKYEQYIKWPWYIWLGFIAGLIAIVMVTIMLCCMTSCCSCLKGCCSCGSCCKFDEDDSEPVLKGVKLHYT\n",
            "Scroll to the right to spot differences\n",
            "                                                                                                                                                                                                                                                                                                                                                                                                                                                                                                                                                                                                                                                                                                                                                                                                                                                                                                                                                                                                                         **                                                                                                                                                                                                                                                                                              \n",
            "There are 2 differences at positions: [985, 986]\n"
          ]
        }
      ]
    },
    {
      "cell_type": "markdown",
      "source": [
        "Yes, there are two amino acid differences between the Wuhan spike region and the Pfizer vaccine at positions 985 and 986."
      ],
      "metadata": {
        "id": "6rQjt-G1WV31"
      }
    },
    {
      "cell_type": "markdown",
      "source": [
        "13. For the amino acids that appear in the vaccine and the Wuhan strain, create a look-up\n",
        "table that maps between the Wuhan strain codon to the Pfizer codon"
      ],
      "metadata": {
        "id": "BRBpIyqEooDS"
      }
    },
    {
      "cell_type": "code",
      "source": [
        "# pfizer amino acid M is 10x made by AUG and 14x made from AUC\n",
        "# virus to vaccine lookup = {'AUG': {'AUG': 10, 'AUC': 14}}\n",
        "virus_vaccine_lookup = {}\n",
        "for i in range(0, len(wuhan_dictionary['Spike Region RNA Sequence']), 3): \n",
        "  virus_codon = str(wuhan_dictionary['Spike Region RNA Sequence'][i:i+3])\n",
        "\n",
        "  if not virus_codon in virus_vaccine_lookup.keys():\n",
        "    virus_vaccine_lookup[virus_codon] = {}\n",
        "  \n",
        "  vaccine_codon = str(mRNA_sequence_dictionary[pfizer]['Nucleotide Sequence'][i:i+3])\n",
        "\n",
        "  if vaccine_codon in virus_vaccine_lookup[virus_codon].keys():\n",
        "    virus_vaccine_lookup[virus_codon][vaccine_codon] += 1\n",
        "  else:\n",
        "    virus_vaccine_lookup[virus_codon][vaccine_codon] = 1\n",
        "  \n",
        "# for every codon in the wuhan spike region, which codon does pfzer choose for the same amino acid\n",
        "for key in virus_vaccine_lookup.keys():\n",
        "  translated_key = Seq(key).translate()\n",
        "  inner_translated_keys = [Seq(inner_key).translate() for inner_key in virus_vaccine_lookup[key].keys()]\n",
        "  #print(f\"Amino acid ({translated_key}) for virus correlates to amino acid ({inner_translated_keys}) for vaccine\")"
      ],
      "metadata": {
        "id": "PLMNdvd2WUOy"
      },
      "execution_count": null,
      "outputs": []
    },
    {
      "cell_type": "markdown",
      "source": [
        "14. Can you deduce any rule about the look-up table that Pfizer uses internally?\n",
        "a. Bonus: explain the differences!"
      ],
      "metadata": {
        "id": "RLDB1hJsopjl"
      }
    },
    {
      "cell_type": "code",
      "source": [
        "virus_vaccine_lookup"
      ],
      "metadata": {
        "id": "NVxyfq-ZWf0B",
        "colab": {
          "base_uri": "https://localhost:8080/"
        },
        "outputId": "203fb6b8-f6be-4760-f262-bf15a76cf79d"
      },
      "execution_count": null,
      "outputs": [
        {
          "output_type": "execute_result",
          "data": {
            "text/plain": [
              "{'AAA': {'AAA': 6, 'AAG': 31, 'CCU': 1},\n",
              " 'AAC': {'AAC': 26, 'AAU': 8},\n",
              " 'AAG': {'AAA': 3, 'AAG': 20},\n",
              " 'AAU': {'AAC': 41, 'AAU': 13},\n",
              " 'ACA': {'ACA': 13, 'ACC': 27},\n",
              " 'ACC': {'ACA': 1, 'ACC': 9},\n",
              " 'ACG': {'ACC': 3},\n",
              " 'ACU': {'ACA': 20, 'ACC': 24},\n",
              " 'AGA': {'AGA': 10, 'AGG': 1, 'CGG': 9},\n",
              " 'AGC': {'AGC': 3, 'UCC': 2},\n",
              " 'AGG': {'AGA': 3, 'CGC': 1, 'CGG': 6},\n",
              " 'AGU': {'AGC': 15, 'UCU': 2},\n",
              " 'AUA': {'AUC': 16, 'AUU': 2},\n",
              " 'AUC': {'AUC': 12, 'AUU': 2},\n",
              " 'AUG': {'AUG': 14},\n",
              " 'AUU': {'AUC': 38, 'AUU': 6},\n",
              " 'CAA': {'CAA': 4, 'CAG': 42},\n",
              " 'CAC': {'CAC': 3, 'CAU': 1},\n",
              " 'CAG': {'CAG': 16},\n",
              " 'CAU': {'CAC': 12, 'CAU': 1},\n",
              " 'CCA': {'CCC': 15, 'CCU': 10},\n",
              " 'CCC': {'CCC': 3, 'CCU': 1},\n",
              " 'CCU': {'CCA': 4, 'CCC': 8, 'CCU': 17},\n",
              " 'CGC': {'CGG': 1},\n",
              " 'CGG': {'AGA': 1, 'CGG': 1},\n",
              " 'CGU': {'AGA': 7, 'CGG': 2},\n",
              " 'CUA': {'CUG': 9},\n",
              " 'CUC': {'CUG': 12},\n",
              " 'CUG': {'CUG': 3},\n",
              " 'CUU': {'CUG': 36},\n",
              " 'GAA': {'GAA': 12, 'GAG': 22},\n",
              " 'GAC': {'GAC': 12, 'GAU': 7},\n",
              " 'GAG': {'GAA': 2, 'GAG': 12},\n",
              " 'GAU': {'GAC': 32, 'GAU': 11},\n",
              " 'GCA': {'GCA': 2, 'GCC': 21, 'GCU': 4},\n",
              " 'GCC': {'GCC': 7, 'GCU': 1},\n",
              " 'GCG': {'GCC': 2},\n",
              " 'GCU': {'GCA': 2, 'GCC': 35, 'GCU': 5},\n",
              " 'GGA': {'GGA': 2, 'GGC': 13, 'GGG': 2},\n",
              " 'GGC': {'GGA': 3, 'GGC': 12},\n",
              " 'GGG': {'GGA': 2, 'GGC': 1},\n",
              " 'GGU': {'GGA': 5, 'GGC': 40, 'GGG': 1, 'GGU': 1},\n",
              " 'GUA': {'GUG': 15},\n",
              " 'GUC': {'GUC': 1, 'GUG': 19, 'GUU': 1},\n",
              " 'GUG': {'GUC': 1, 'GUG': 12},\n",
              " 'GUU': {'CCU': 1, 'GUC': 6, 'GUG': 41},\n",
              " 'UAA': {'UGA': 1},\n",
              " 'UAC': {'UAC': 13, 'UAU': 1},\n",
              " 'UAU': {'UAC': 36, 'UAU': 4},\n",
              " 'UCA': {'AGC': 18, 'UCC': 4, 'UCU': 4},\n",
              " 'UCC': {'AGC': 8, 'UCC': 4},\n",
              " 'UCG': {'AGC': 1, 'UCU': 1},\n",
              " 'UCU': {'AGC': 19, 'UCC': 12, 'UCU': 6},\n",
              " 'UGC': {'UGC': 8, 'UGU': 4},\n",
              " 'UGG': {'UGG': 12},\n",
              " 'UGU': {'UGC': 19, 'UGU': 9},\n",
              " 'UUA': {'CUC': 1, 'CUG': 27},\n",
              " 'UUC': {'UUC': 15, 'UUU': 3},\n",
              " 'UUG': {'CUC': 2, 'CUG': 18},\n",
              " 'UUU': {'UUC': 47, 'UUU': 12}}"
            ]
          },
          "metadata": {},
          "execution_count": 93
        }
      ]
    },
    {
      "cell_type": "markdown",
      "source": [
        "It seems that most of the codons in the virus were replaced in the vaccine with similar codons, but that are G and C 'heavy'. This would make sense of the higher GC content found in the Pfizer vaccine, than in the Wuhan spike region. \n",
        "\n",
        "For example:\n",
        "*  AGG was mapped to CGG more than it was mapped to AGA: {'AGA': 3, 'CGC': 1, 'CGG': 6}\n",
        "*  UUG was apped to CUG more than it was mapped to CUC: {'CUC': 2, 'CUG': 18}\n",
        "\n",
        "A molecule with more GC content has more hydrogen bonds (compared to AT content), which makes it more stable and have a greater resistance to dentaturation. Given that DNA with more GC content has higher stability, the molecule would be more durable to withstand environmental changes (like temperature during transport)."
      ],
      "metadata": {
        "id": "5ba95PaVV5hx"
      }
    },
    {
      "cell_type": "markdown",
      "source": [
        "### The Variants"
      ],
      "metadata": {
        "id": "9ctcdy7Qoqt1"
      }
    },
    {
      "cell_type": "markdown",
      "source": [
        "15. The BA.2 genomes that you have are NOT aligned to the Wuhan strain.\n",
        "Notice that a nucleotide 13th in the genome Wuhan strain corresponds to nucleotide 14th in the genome in your collection. So you cannot simply use positions from the Wuhan strain to find positions in your collection.\n",
        "Unfortunately, the only information that you have about the BA.2 variant is based on the Wuhan coordinates. There are multiple strategies to identify the Spike region but using the same coordinates of Wuhan is the wrong strategy."
      ],
      "metadata": {
        "id": "vEPSbs8_ot7F"
      }
    },
    {
      "cell_type": "code",
      "source": [
        "# method to align records \n",
        "def align_records(variant_samples):\n",
        "  variant_spike_records = {}\n",
        "  for record in variant_samples:\n",
        "\n",
        "    potential_variant = record.seq.transcribe()\n",
        "    start_alignment = pairwise2.align.localms(potential_variant, wuhan_spike[0:20], 2, -1, -1, -1)\n",
        "    start_index = start_alignment[0].start\n",
        "\n",
        "    end_alignment = pairwise2.align.localms(potential_variant, wuhan_spike[-20:], 2, -1, -1, -1)\n",
        "    end_index = end_alignment[0].end\n",
        "\n",
        "    spike_sequence = potential_variant[start_index:end_index]\n",
        "    variant_spike_records[record.id] = {'Start': start_index, 'End': end_index, 'Spike Sequence': spike_sequence}\n",
        "\n",
        "  return variant_spike_records"
      ],
      "metadata": {
        "id": "xpJyd_nbljV3"
      },
      "execution_count": null,
      "outputs": []
    },
    {
      "cell_type": "code",
      "source": [
        "wuhan_spike = wuhan_dictionary['Spike Region RNA Sequence']\n",
        "\n",
        "# random list of 20 samples from ba2 variant\n",
        "random_ba2_samples = random.sample(list(SeqIO.parse('ba2_sequences.fasta', 'fasta')), 20)\n",
        "ba2_spike_records = align_records(random_ba2_samples)\n",
        "print(ba2_spike_records)"
      ],
      "metadata": {
        "id": "iu8aoiskX-kU",
        "colab": {
          "base_uri": "https://localhost:8080/"
        },
        "outputId": "b8759ea5-631e-44a7-d043-6ab2b05bc894"
      },
      "execution_count": null,
      "outputs": [
        {
          "output_type": "stream",
          "name": "stdout",
          "text": [
            "{'ON067002.1': {'Start': 21507, 'End': 25320, 'Spike Sequence': Seq('AUGUUUGUUUUUCUUGUUUUAUUGCCACUAGUCUCUAGUCAGUGUGUUAAUCUU...UAA')}, 'OM927130.1': {'Start': 21528, 'End': 25341, 'Spike Sequence': Seq('AUGUUUGUUUUUCUUGUUUUAUUGCCACUAGUCUCUAGUCAGUGUGUUAAUCUU...UAA')}, 'OM879613.1': {'Start': 21549, 'End': 25362, 'Spike Sequence': Seq('AUGUUUGUUUUUCUUGUUUUAUUGCCACUAGUCUCUAGUCAGUGUGUUAAUCUU...UAA')}, 'OM936482.2': {'Start': 21553, 'End': 25366, 'Spike Sequence': Seq('AUGUUUGUUUUUCUUGUUUUAUUGCCACUAGUCUCUAGUCAGUGUGUUAAUCUU...UAA')}, 'ON091078.1': {'Start': 21418, 'End': 25231, 'Spike Sequence': Seq('AUGUUUGUUUUUCUUGUUUUAUUGCCACUAGUCUCUAGUCAGUGUGUUAAUCUU...UAA')}, 'ON034478.1': {'Start': 21503, 'End': 25316, 'Spike Sequence': Seq('AUGUUUGUUUUUCUUGUUUUAUUGCCACUAGUCUCUAGUCAGUGUGUUAAUCUU...UAA')}, 'OM873836.1': {'Start': 21514, 'End': 25327, 'Spike Sequence': Seq('AUGUUUGUUUUUCUUGUUUUAUUGCCACUAGUCUCUAGUCAGUGUGUUAAUCUU...UAA')}, 'ON105655.1': {'Start': 21551, 'End': 25364, 'Spike Sequence': Seq('AUGUUUGUUUUUCUUGUUUUAUUGCCACUAGUCUCUAGUCAGUGUGUUAAUCUU...UAA')}, 'ON052628.1': {'Start': 21503, 'End': 25316, 'Spike Sequence': Seq('AUGUUUGUUUUUCUUGUUUUAUUGCCACUAGUCUCUAGUCAGUGUGUUAAUCUU...UAA')}, 'OM970716.1': {'Start': 21541, 'End': 25354, 'Spike Sequence': Seq('AUGUUUGUUUUUCUUGUUUUAUUGCCACUAGUCUCUAGUCAGUGUGUUAAUCUU...UAA')}, 'OM877916.1': {'Start': 21545, 'End': 25358, 'Spike Sequence': Seq('AUGUUUGUUUUUCUUGUUUUAUUGCCACUAGUCUCUAGUCAGUGUGUUAAUCUU...UAA')}, 'OM785900.1': {'Start': 21481, 'End': 25294, 'Spike Sequence': Seq('AUGUUUGUUUUUCUUGUUUUAUUGCCACUAGUCUCUAGUCAGUGUGUUAAUCUU...UAA')}, 'OM877095.2': {'Start': 21553, 'End': 25366, 'Spike Sequence': Seq('AUGUUUGUUUUUCUUGUUUUAUUGCCACUAGUCUCUAGUCAGUGUGUUAAUCUU...UAA')}, 'ON077196.1': {'Start': 21483, 'End': 25296, 'Spike Sequence': Seq('AUGUUUGUUUUUCUUGUUUUAUUGCCACUAGUCUCUAGUCAGUGUGUUAAUCUU...UAA')}, 'OM988664.1': {'Start': 21511, 'End': 25324, 'Spike Sequence': Seq('AUGUUUGUUUUUCUUGUUUUAUUGCCACUAGUCUCUAGUCAGUGUGUUAAUCUU...UAA')}, 'OM949480.1': {'Start': 21503, 'End': 25316, 'Spike Sequence': Seq('AUGUUUGUUUUUCUUGUUUUAUUGCCACUAGUCUCUAGUCAGUGUGUUAAUCUU...UAA')}, 'ON078748.1': {'Start': 21502, 'End': 25315, 'Spike Sequence': Seq('AUGUUUGUUUUUCUUGUUUUAUUGCCACUAGUCUCUAGUCAGUGUGUUAAUCUU...UAA')}, 'ON083989.1': {'Start': 21503, 'End': 25316, 'Spike Sequence': Seq('AUGUUUGUUUUUCUUGUUUUAUUGCCACUAGUCUCUAGUCAGUGUGUUAAUCUU...UAA')}, 'OM762967.1': {'Start': 21516, 'End': 25329, 'Spike Sequence': Seq('AUGUUUGUUUUUCUUGUUUUAUUGCCACUAGUYUCUAGUCAGUGUGUUAAUCUU...UAA')}, 'OM995268.1': {'Start': 21528, 'End': 25341, 'Spike Sequence': Seq('AUGUUUGUUUUUCUUGUUUUAUUGCCACUAGUCUCUAGUCAGUGUGUUAAUCUU...UAA')}}\n"
          ]
        }
      ]
    },
    {
      "cell_type": "code",
      "source": [
        "# method to find the length of all the sample variants\n",
        "def find_spike_lengths(variant_name, variant_spike_records):\n",
        "  print(f\"For {variant_name} variant, here are the lengths of the spike regions:\")\n",
        "  spike_lengths = []\n",
        "  for key in variant_spike_records.keys():\n",
        "    record = variant_spike_records[key]\n",
        "    spike_lengths.append(record['End'] - record['Start'])\n",
        "  return spike_lengths\n",
        "\n",
        "# method to extract a variant sample \n",
        "def extract_variant_sample(variant_spike_records, file_name, record=0):\n",
        "  print()\n",
        "  variant_full_sample = None\n",
        "  random_record_id = list(variant_spike_records.keys())[record]\n",
        "  for rec in list(SeqIO.parse(file_name, 'fasta')):\n",
        "    if rec.name == random_record_id:\n",
        "      variant_full_sample = rec\n",
        "      break\n",
        "  print('Here is the full record for the variant:')\n",
        "  return variant_full_sample"
      ],
      "metadata": {
        "id": "JZ4mTvtVl8we"
      },
      "execution_count": null,
      "outputs": []
    },
    {
      "cell_type": "code",
      "source": [
        "# find length of ba2 spike\n",
        "spike_lengths = find_spike_lengths('ba2', ba2_spike_records)\n",
        "print(spike_lengths)\n",
        "\n",
        "# extract the full sample from original file\n",
        "ba2_full_sample = extract_variant_sample(ba2_spike_records, 'ba2_sequences.fasta')\n",
        "print(ba2_full_sample)"
      ],
      "metadata": {
        "id": "sFhuNoVcZoZu",
        "colab": {
          "base_uri": "https://localhost:8080/"
        },
        "outputId": "41820618-7364-4561-8317-ce8f2adea833"
      },
      "execution_count": null,
      "outputs": [
        {
          "output_type": "stream",
          "name": "stdout",
          "text": [
            "For ba2 variant, here are the lengths of the spike regions:\n",
            "[3813, 3813, 3813, 3813, 3813, 3813, 3813, 3813, 3813, 3813, 3813, 3813, 3813, 3813, 3813, 3813, 3813, 3813, 3813, 3813]\n",
            "\n",
            "Here is the full record for the variant:\n",
            "ID: ON067002.1\n",
            "Name: ON067002.1\n",
            "Description: ON067002.1 |Severe acute respiratory syndrome coronavirus 2 isolate SARS-CoV-2/human/USA/MA-Broad-CRSP_P433OG4WZ563OYTX/2022, complete genome\n",
            "Number of features: 0\n",
            "Seq('TCTCTTGTAGATCTGTTCTCTAAACGAACTTTAAAATCTGTGTGGCTGTCACTC...AAA')\n"
          ]
        }
      ]
    },
    {
      "cell_type": "markdown",
      "source": [
        "From the NCBI database, there exists over 9000 complete sequences for the BA.2 variant. In order to identify the spike region for the variant, we decided that it would be more time efficient if we select only one of the entries and work with that.\n",
        "\n",
        "The length of each of the randomly sampled variants are the same. "
      ],
      "metadata": {
        "id": "4vAYYIfvHbwZ"
      }
    },
    {
      "cell_type": "markdown",
      "source": [
        "16. Report all entries in your collection that you think match the BA.2 variant. Where were\n",
        "they collected? Does it make sense?"
      ],
      "metadata": {
        "id": "lyrcKHYloyf-"
      }
    },
    {
      "cell_type": "code",
      "source": [
        "# method to find the location of variants\n",
        "def find_collection_location(variant_name, file_name):\n",
        "  print(f\"For {variant_name} variant, here are the collection locations:\")\n",
        "  locations = []\n",
        "  for record in SeqIO.parse(file_name, 'fasta'):\n",
        "    try:\n",
        "      location = record.description.split('/')[2]\n",
        "      locations.append(location)\n",
        "    except:\n",
        "      continue\n",
        "  print(Counter(locations))"
      ],
      "metadata": {
        "id": "rIWG8UZQnmhE"
      },
      "execution_count": null,
      "outputs": []
    },
    {
      "cell_type": "code",
      "source": [
        "find_collection_location('ba2', 'ba2_sequences.fasta')"
      ],
      "metadata": {
        "id": "GMt2s_EkYut4",
        "colab": {
          "base_uri": "https://localhost:8080/"
        },
        "outputId": "07e99a98-72de-430c-fcd7-7cb028416623"
      },
      "execution_count": null,
      "outputs": [
        {
          "output_type": "stream",
          "name": "stdout",
          "text": [
            "For ba2 variant, here are the collection locations:\n",
            "Counter({'USA': 7657, 'BHR': 949, 'BGD': 43, 'SouthAfrica': 5, 'CHN': 5, 'IND': 4, 'AUT': 3, 'MMR': 2, 'MWI': 2, 'FRA': 2, 'DJI': 1, 'SZ-NIG-4-C67': 1, 'SZ-NIG-4-C117': 1, 'SZ-NIG-4-C118': 1, 'HKG': 1, 'DNK': 1})\n"
          ]
        }
      ]
    },
    {
      "cell_type": "markdown",
      "source": [
        "Out of the 9000 entries in the collection of BA.2 variants, most of them were collected from the USA and then followed by Bahrain. It would have made more sense if South Africa had collected more entries, since that it where the variant was originally from. \n",
        "\n",
        "According to the WHOs weekly [Epidemiological Update from February 13th 2022](https://reliefweb.int/sites/reliefweb.int/files/resources/20220215_Weekly_Epi_Update_79.pdf), Bahrain and the US were a few of the countries where all variants were found. Perhaps given their national resources and abilties, this makes them more able to sequence the variants compared to other countries. "
      ],
      "metadata": {
        "id": "ODulNGkBGzBo"
      }
    },
    {
      "cell_type": "markdown",
      "source": [
        "17. Develop a method to extract the Spike sequence of one of the entries, translate, and\n",
        "report the protein sequence (hint: the BA.2 spike is not very different than the Wuhan\n",
        "strain and must start with AUG)."
      ],
      "metadata": {
        "id": "9iVFo0Yuoz-j"
      }
    },
    {
      "cell_type": "code",
      "source": [
        "def report_protein_sequence_ba(variant_full_sample, variant_spike_records):\n",
        "  variant_dictionary = {}\n",
        "\n",
        "  print(f\"For entry {variant_full_sample.id}..\")\n",
        "  variant_dictionary['Entry ID'] = variant_full_sample.id\n",
        "  variant_dictionary['DNA Sequence'] = variant_full_sample.seq\n",
        "  \n",
        "  variant_dictionary['Spike Region Start Index'] = variant_spike_records.get(variant_full_sample.id)['Start']\n",
        "  variant_dictionary['Spike Region End Index'] = variant_spike_records.get(variant_full_sample.id)['End']\n",
        "  spike_rna_seq = variant_spike_records.get(variant_full_sample.id)['Spike Sequence']\n",
        "  variant_dictionary['Spike Region RNA Sequence'] =spike_rna_seq\n",
        "  spike_protein_seq = spike_rna_seq.translate()\n",
        "  variant_dictionary['Spike Region Amino Acid Sequence'] = spike_protein_seq\n",
        "\n",
        "  print(f\"The protein sequence for the spike region is: \")\n",
        "  print(spike_protein_seq)\n",
        "\n",
        "  return variant_dictionary"
      ],
      "metadata": {
        "id": "OT17QvY5YvFo"
      },
      "execution_count": null,
      "outputs": []
    },
    {
      "cell_type": "code",
      "source": [
        "# pass in randomly select spike records and full sample of one of those records\n",
        "ba2_dictionary = report_protein_sequence_ba(ba2_full_sample, ba2_spike_records)\n",
        "print()\n",
        "print(ba2_dictionary)"
      ],
      "metadata": {
        "colab": {
          "base_uri": "https://localhost:8080/"
        },
        "id": "PV0vax7toWSx",
        "outputId": "6cb3f274-da42-4dc0-a34e-4f1efecf6966"
      },
      "execution_count": null,
      "outputs": [
        {
          "output_type": "stream",
          "name": "stdout",
          "text": [
            "For entry ON067002.1..\n",
            "The protein sequence for the spike region is: \n",
            "MFVFLVLLPLVSSQCVNLITRTQSYTNSFTRGVYYPDKVFRSSVLHSTQDLFLPFFSNVTWFHAIHVSGTNGTKRFDNPVLPFNDGVYFASTEKSNIIRGWIFGTTLDSKTQSLLIVNNATNVVIKVCEFQFCNDPFLDVYYHKNNKSWMESEFRVYSSANNCTFEYVSQPFLMDLEGKQGNFKNLREFVFKNIDGYFKIYSKHTPINLGRDLPQGFSALEPLVDLPIGINITRFQTLLALHRSYLTPGDSSSGWTAGAAAYYVGYLQPRTFLLKYNENGTITDAVDCALDPLSETKCTLKSFTVEKGIYQTSNFRVQPTESIVRFPNITNLCPFDEVFNATRFASVYAWNRKRISNCVADYSVLYNFAPFFAFKCYGVSPTKLNDLCFTNVYADSFVIRGNEVSQIAPGQTGNIADYNYKLPDDFTGCVIAWNSNKLDSKVGGNYNYLYRLFRKSNLKPFERDISTEIYQAGNKPCNGVAGFNCYFPLRSYGFRPTYGVGHQPYRVVVLSFELLHAPATVCGPKKSTNLVKNKCVNFNFNGLTGTGVLTESNKKFLPFQQFGRDIADTTDAVRDPQTLEILDITPCSFGGVSVITPGTNTSNQVAVLYQGVNCTEVPVAIHADQLTPTWRVYSTGSNVFQTRAGCLIGAEYVNNSYECDIPIGAGICASYQTQTKSHRRARSVASQSIIAYTMSLGAENSVAYSNNSIAIPTNFTISVTTEILPVSMTKTSVDCTMYICGDSTECSNLLLQYGSFCTQLKRALTGIAVEQDKNTQEVFAQVKQIYKTPPIKYFGGFNFSQILPDPSKPSKRSFIEDLLFNKVTLADAGFIKQYGDCLGDIAARDLICAQKFNGLTVLPPLLTDEMIAQYTSALLAGTITSGWTFGAGAALQIPFAMQMAYRFNGIGVTQNVLYENQKLIANQFNSAIGKIQDSLSSTASALGKLQDVVNHNAQALNTLVKQLSSKFGAISSVLNDILSRLDKVEAEVQIDRLITGRLQSLQTYVTQQLIRAAEIRASANLAATKMSECVLGQSKRVDFCGKGYHLMSFPQSAPHGVVFLHVTYVPAQEKNFTTAPAICHDGKAHFPREGVFVSNGTHWFVTQRNFYEPQIITTDNTFVSGNCDVVIGIVNNTVYDPLQPELDSFKEELDKYFKNHTSPDVDLGDISGINASVVNIQKEIDRLNEVAKNLNESLIDLQELGKYEQYIKWPWYIWLGFIAGLIAIVMVTIMLCCMTSCCSCLKGCCSCGSCCKFDEDDSEPVLKGVKLHYT*\n",
            "\n",
            "{'Entry ID': 'ON067002.1', 'DNA Sequence': Seq('TCTCTTGTAGATCTGTTCTCTAAACGAACTTTAAAATCTGTGTGGCTGTCACTC...AAA'), 'Spike Region Start Index': 21507, 'Spike Region End Index': 25320, 'Spike Region RNA Sequence': Seq('AUGUUUGUUUUUCUUGUUUUAUUGCCACUAGUCUCUAGUCAGUGUGUUAAUCUU...UAA'), 'Spike Region Amino Acid Sequence': Seq('MFVFLVLLPLVSSQCVNLITRTQSYTNSFTRGVYYPDKVFRSSVLHSTQDLFLP...YT*')}\n"
          ]
        }
      ]
    },
    {
      "cell_type": "code",
      "source": [
        "ba2_spike_protein = ba2_dictionary['Spike Region Amino Acid Sequence']\n",
        "if ba2_spike_protein.find('X') == -1:\n",
        "  print(\"There are no unknown aminoacids in the BA.2 Spike Sample\")"
      ],
      "metadata": {
        "colab": {
          "base_uri": "https://localhost:8080/"
        },
        "id": "7uf-7NIPhdiF",
        "outputId": "c5b3304b-bcf6-4838-9f52-215f57c7a920"
      },
      "execution_count": null,
      "outputs": [
        {
          "output_type": "stream",
          "name": "stdout",
          "text": [
            "There are no unknown aminoacids in the BA.2 Spike Sample\n"
          ]
        }
      ]
    },
    {
      "cell_type": "markdown",
      "source": [
        "18. Use everything you learned so far, including the look up table of Pfizer and the addition\n",
        "of special nucleotides to design a South African mRNA vaccine. Don’t forget the add the\n",
        "5’UTR and 3’UTR. Report the vaccine sequence."
      ],
      "metadata": {
        "id": "JB7_d6YJo1LF"
      }
    },
    {
      "cell_type": "code",
      "source": [
        "# Present both Wuhan and BA2 Spike region\n",
        "wuhan_spike_protein = wuhan_dictionary['Spike Region Amino Acid Sequence']\n",
        "ba2_spike_protein = ba2_dictionary['Spike Region Amino Acid Sequence']\n",
        "\n",
        "pos, count_diff = compare_regions('BA.2 Spike', ba2_spike_protein, 'Wuhan Spike', wuhan_spike_protein)"
      ],
      "metadata": {
        "id": "5IvG_zi6DZtc",
        "colab": {
          "base_uri": "https://localhost:8080/"
        },
        "outputId": "700b504e-d38e-4d41-c392-1a664a016d24"
      },
      "execution_count": null,
      "outputs": [
        {
          "output_type": "stream",
          "name": "stdout",
          "text": [
            "BA.2 Spike\n",
            "MFVFLVLLPLVSSQCVNLITRTQSYTNSFTRGVYYPDKVFRSSVLHSTQDLFLPFFSNVTWFHAIHVSGTNGTKRFDNPVLPFNDGVYFASTEKSNIIRGWIFGTTLDSKTQSLLIVNNATNVVIKVCEFQFCNDPFLDVYYHKNNKSWMESEFRVYSSANNCTFEYVSQPFLMDLEGKQGNFKNLREFVFKNIDGYFKIYSKHTPINLGRDLPQGFSALEPLVDLPIGINITRFQTLLALHRSYLTPGDSSSGWTAGAAAYYVGYLQPRTFLLKYNENGTITDAVDCALDPLSETKCTLKSFTVEKGIYQTSNFRVQPTESIVRFPNITNLCPFDEVFNATRFASVYAWNRKRISNCVADYSVLYNFAPFFAFKCYGVSPTKLNDLCFTNVYADSFVIRGNEVSQIAPGQTGNIADYNYKLPDDFTGCVIAWNSNKLDSKVGGNYNYLYRLFRKSNLKPFERDISTEIYQAGNKPCNGVAGFNCYFPLRSYGFRPTYGVGHQPYRVVVLSFELLHAPATVCGPKKSTNLVKNKCVNFNFNGLTGTGVLTESNKKFLPFQQFGRDIADTTDAVRDPQTLEILDITPCSFGGVSVITPGTNTSNQVAVLYQGVNCTEVPVAIHADQLTPTWRVYSTGSNVFQTRAGCLIGAEYVNNSYECDIPIGAGICASYQTQTKSHRRARSVASQSIIAYTMSLGAENSVAYSNNSIAIPTNFTISVTTEILPVSMTKTSVDCTMYICGDSTECSNLLLQYGSFCTQLKRALTGIAVEQDKNTQEVFAQVKQIYKTPPIKYFGGFNFSQILPDPSKPSKRSFIEDLLFNKVTLADAGFIKQYGDCLGDIAARDLICAQKFNGLTVLPPLLTDEMIAQYTSALLAGTITSGWTFGAGAALQIPFAMQMAYRFNGIGVTQNVLYENQKLIANQFNSAIGKIQDSLSSTASALGKLQDVVNHNAQALNTLVKQLSSKFGAISSVLNDILSRLDKVEAEVQIDRLITGRLQSLQTYVTQQLIRAAEIRASANLAATKMSECVLGQSKRVDFCGKGYHLMSFPQSAPHGVVFLHVTYVPAQEKNFTTAPAICHDGKAHFPREGVFVSNGTHWFVTQRNFYEPQIITTDNTFVSGNCDVVIGIVNNTVYDPLQPELDSFKEELDKYFKNHTSPDVDLGDISGINASVVNIQKEIDRLNEVAKNLNESLIDLQELGKYEQYIKWPWYIWLGFIAGLIAIVMVTIMLCCMTSCCSCLKGCCSCGSCCKFDEDDSEPVLKGVKLHYT*\n",
            "Wuhan Spike\n",
            "MFVFLVLLPLVSSQCVNLTTRTQLPPAYTNSFTRGVYYPDKVFRSSVLHSTQDLFLPFFSNVTWFHAIHVSGTNGTKRFDNPVLPFNDGVYFASTEKSNIIRGWIFGTTLDSKTQSLLIVNNATNVVIKVCEFQFCNDPFLGVYYHKNNKSWMESEFRVYSSANNCTFEYVSQPFLMDLEGKQGNFKNLREFVFKNIDGYFKIYSKHTPINLVRDLPQGFSALEPLVDLPIGINITRFQTLLALHRSYLTPGDSSSGWTAGAAAYYVGYLQPRTFLLKYNENGTITDAVDCALDPLSETKCTLKSFTVEKGIYQTSNFRVQPTESIVRFPNITNLCPFGEVFNATRFASVYAWNRKRISNCVADYSVLYNSASFSTFKCYGVSPTKLNDLCFTNVYADSFVIRGDEVRQIAPGQTGKIADYNYKLPDDFTGCVIAWNSNNLDSKVGGNYNYLYRLFRKSNLKPFERDISTEIYQAGSTPCNGVEGFNCYFPLQSYGFQPTNGVGYQPYRVVVLSFELLHAPATVCGPKKSTNLVKNKCVNFNFNGLTGTGVLTESNKKFLPFQQFGRDIADTTDAVRDPQTLEILDITPCSFGGVSVITPGTNTSNQVAVLYQDVNCTEVPVAIHADQLTPTWRVYSTGSNVFQTRAGCLIGAEHVNNSYECDIPIGAGICASYQTQTNSPRRARSVASQSIIAYTMSLGAENSVAYSNNSIAIPTNFTISVTTEILPVSMTKTSVDCTMYICGDSTECSNLLLQYGSFCTQLNRALTGIAVEQDKNTQEVFAQVKQIYKTPPIKDFGGFNFSQILPDPSKPSKRSFIEDLLFNKVTLADAGFIKQYGDCLGDIAARDLICAQKFNGLTVLPPLLTDEMIAQYTSALLAGTITSGWTFGAGAALQIPFAMQMAYRFNGIGVTQNVLYENQKLIANQFNSAIGKIQDSLSSTASALGKLQDVVNQNAQALNTLVKQLSSNFGAISSVLNDILSRLDKVEAEVQIDRLITGRLQSLQTYVTQQLIRAAEIRASANLAATKMSECVLGQSKRVDFCGKGYHLMSFPQSAPHGVVFLHVTYVPAQEKNFTTAPAICHDGKAHFPREGVFVSNGTHWFVTQRNFYEPQIITTDNTFVSGNCDVVIGIVNNTVYDPLQPELDSFKEELDKYFKNHTSPDVDLGDISGINASVVNIQKEIDRLNEVAKNLNESLIDLQELGKYEQYIKWPWYIWLGFIAGLIAIVMVTIMLCCMTSCCSCLKGCCSCGSCCKFDEDDSEPVLKGVKLHYT\n",
            "Scroll to the right to spot differences\n",
            "                  *    ******************************* ********** *****  ******** *************************************** **** ******************* **************************** **** *** ************************************* ** ************** ****************** ***** ******************** ***** ***** ******************************* ****************************************** ************ ************************* ************************************** * *************************** ********************** *************************************** ************* ** ***** ** ********** * ************** *** ******************* ************* ******************************************** *** ********************* ******* ******************************************************************* ************ ***********   * ******************************************** ** ************** ************* ********************************** ***** ***** ** **** ******** **** ********************* *******************  *** *************** ****************************************** *************************************************** ********************** ************* ********** *** *************************** ** ***** ******* ************************  ****** *  ****** ******** *****\n",
            "There are 1168 differences at positions: [18, 23, 24, 25, 26, 27, 28, 29, 30, 31, 32, 33, 34, 35, 36, 37, 38, 39, 40, 41, 42, 43, 44, 45, 46, 47, 48, 49, 50, 51, 52, 53, 55, 56, 57, 58, 59, 60, 61, 62, 63, 64, 66, 67, 68, 69, 70, 73, 74, 75, 76, 77, 78, 79, 80, 82, 83, 84, 85, 86, 87, 88, 89, 90, 91, 92, 93, 94, 95, 96, 97, 98, 99, 100, 101, 102, 103, 104, 105, 106, 107, 108, 109, 110, 111, 112, 113, 114, 115, 116, 117, 118, 119, 120, 122, 123, 124, 125, 127, 128, 129, 130, 131, 132, 133, 134, 135, 136, 137, 138, 139, 140, 141, 142, 143, 144, 145, 147, 148, 149, 150, 151, 152, 153, 154, 155, 156, 157, 158, 159, 160, 161, 162, 163, 164, 165, 166, 167, 168, 169, 170, 171, 172, 173, 174, 176, 177, 178, 179, 181, 182, 183, 185, 186, 187, 188, 189, 190, 191, 192, 193, 194, 195, 196, 197, 198, 199, 200, 201, 202, 203, 204, 205, 206, 207, 208, 209, 210, 211, 212, 213, 214, 215, 216, 217, 218, 219, 220, 221, 223, 224, 226, 227, 228, 229, 230, 231, 232, 233, 234, 235, 236, 237, 238, 239, 241, 242, 243, 244, 245, 246, 247, 248, 249, 250, 251, 252, 253, 254, 255, 256, 257, 258, 260, 261, 262, 263, 264, 266, 267, 268, 269, 270, 271, 272, 273, 274, 275, 276, 277, 278, 279, 280, 281, 282, 283, 284, 285, 287, 288, 289, 290, 291, 293, 294, 295, 296, 297, 299, 300, 301, 302, 303, 304, 305, 306, 307, 308, 309, 310, 311, 312, 313, 314, 315, 316, 317, 318, 319, 320, 321, 322, 323, 324, 325, 326, 327, 328, 329, 331, 332, 333, 334, 335, 336, 337, 338, 339, 340, 341, 342, 343, 344, 345, 346, 347, 348, 349, 350, 351, 352, 353, 354, 355, 356, 357, 358, 359, 360, 361, 362, 363, 364, 365, 366, 367, 368, 369, 370, 371, 372, 374, 375, 376, 377, 378, 379, 380, 381, 382, 383, 384, 385, 387, 388, 389, 390, 391, 392, 393, 394, 395, 396, 397, 398, 399, 400, 401, 402, 403, 404, 405, 406, 407, 408, 409, 410, 411, 413, 414, 415, 416, 417, 418, 419, 420, 421, 422, 423, 424, 425, 426, 427, 428, 429, 430, 431, 432, 433, 434, 435, 436, 437, 438, 439, 440, 441, 442, 443, 444, 445, 446, 447, 448, 449, 450, 452, 454, 455, 456, 457, 458, 459, 460, 461, 462, 463, 464, 465, 466, 467, 468, 469, 470, 471, 472, 473, 474, 475, 476, 477, 478, 479, 480, 482, 483, 484, 485, 486, 487, 488, 489, 490, 491, 492, 493, 494, 495, 496, 497, 498, 499, 500, 501, 502, 503, 505, 506, 507, 508, 509, 510, 511, 512, 513, 514, 515, 516, 517, 518, 519, 520, 521, 522, 523, 524, 525, 526, 527, 528, 529, 530, 531, 532, 533, 534, 535, 536, 537, 538, 539, 540, 541, 542, 543, 545, 546, 547, 548, 549, 550, 551, 552, 553, 554, 555, 556, 557, 559, 560, 562, 563, 564, 565, 566, 568, 569, 571, 572, 573, 574, 575, 576, 577, 578, 579, 580, 582, 584, 585, 586, 587, 588, 589, 590, 591, 592, 593, 594, 595, 596, 597, 599, 600, 601, 603, 604, 605, 606, 607, 608, 609, 610, 611, 612, 613, 614, 615, 616, 617, 618, 619, 620, 621, 623, 624, 625, 626, 627, 628, 629, 630, 631, 632, 633, 634, 635, 637, 638, 639, 640, 641, 642, 643, 644, 645, 646, 647, 648, 649, 650, 651, 652, 653, 654, 655, 656, 657, 658, 659, 660, 661, 662, 663, 664, 665, 666, 667, 668, 669, 670, 671, 672, 673, 674, 675, 676, 677, 678, 679, 680, 682, 683, 684, 686, 687, 688, 689, 690, 691, 692, 693, 694, 695, 696, 697, 698, 699, 700, 701, 702, 703, 704, 705, 706, 708, 709, 710, 711, 712, 713, 714, 716, 717, 718, 719, 720, 721, 722, 723, 724, 725, 726, 727, 728, 729, 730, 731, 732, 733, 734, 735, 736, 737, 738, 739, 740, 741, 742, 743, 744, 745, 746, 747, 748, 749, 750, 751, 752, 753, 754, 755, 756, 757, 758, 759, 760, 761, 762, 763, 764, 765, 766, 767, 768, 769, 770, 771, 772, 773, 774, 775, 776, 777, 778, 779, 780, 781, 782, 784, 785, 786, 787, 788, 789, 790, 791, 792, 793, 794, 795, 797, 798, 799, 800, 801, 802, 803, 804, 805, 806, 807, 811, 813, 814, 815, 816, 817, 818, 819, 820, 821, 822, 823, 824, 825, 826, 827, 828, 829, 830, 831, 832, 833, 834, 835, 836, 837, 838, 839, 840, 841, 842, 843, 844, 845, 846, 847, 848, 849, 850, 851, 852, 853, 854, 855, 856, 858, 859, 861, 862, 863, 864, 865, 866, 867, 868, 869, 870, 871, 872, 873, 874, 876, 877, 878, 879, 880, 881, 882, 883, 884, 885, 886, 887, 888, 890, 891, 892, 893, 894, 895, 896, 897, 898, 899, 900, 901, 902, 903, 904, 905, 906, 907, 908, 909, 910, 911, 912, 913, 914, 915, 916, 917, 918, 919, 920, 921, 922, 923, 925, 926, 927, 928, 929, 931, 932, 933, 934, 935, 937, 938, 940, 941, 942, 943, 945, 946, 947, 948, 949, 950, 951, 952, 954, 955, 956, 957, 959, 960, 961, 962, 963, 964, 965, 966, 967, 968, 969, 970, 971, 972, 973, 974, 975, 976, 977, 978, 979, 981, 982, 983, 984, 985, 986, 987, 988, 989, 990, 991, 992, 993, 994, 995, 996, 997, 998, 999, 1002, 1003, 1004, 1006, 1007, 1008, 1009, 1010, 1011, 1012, 1013, 1014, 1015, 1016, 1017, 1018, 1019, 1020, 1022, 1023, 1024, 1025, 1026, 1027, 1028, 1029, 1030, 1031, 1032, 1033, 1034, 1035, 1036, 1037, 1038, 1039, 1040, 1041, 1042, 1043, 1044, 1045, 1046, 1047, 1048, 1049, 1050, 1051, 1052, 1053, 1054, 1055, 1056, 1057, 1058, 1059, 1060, 1061, 1062, 1063, 1065, 1066, 1067, 1068, 1069, 1070, 1071, 1072, 1073, 1074, 1075, 1076, 1077, 1078, 1079, 1080, 1081, 1082, 1083, 1084, 1085, 1086, 1087, 1088, 1089, 1090, 1091, 1092, 1093, 1094, 1095, 1096, 1097, 1098, 1099, 1100, 1101, 1102, 1103, 1104, 1105, 1106, 1107, 1108, 1109, 1110, 1111, 1112, 1113, 1114, 1115, 1117, 1118, 1119, 1120, 1121, 1122, 1123, 1124, 1125, 1126, 1127, 1128, 1129, 1130, 1131, 1132, 1133, 1134, 1135, 1136, 1137, 1138, 1140, 1141, 1142, 1143, 1144, 1145, 1146, 1147, 1148, 1149, 1150, 1151, 1152, 1154, 1155, 1156, 1157, 1158, 1159, 1160, 1161, 1162, 1163, 1165, 1166, 1167, 1169, 1170, 1171, 1172, 1173, 1174, 1175, 1176, 1177, 1178, 1179, 1180, 1181, 1182, 1183, 1184, 1185, 1186, 1187, 1188, 1189, 1190, 1191, 1192, 1193, 1194, 1195, 1197, 1198, 1200, 1201, 1202, 1203, 1204, 1206, 1207, 1208, 1209, 1210, 1211, 1212, 1214, 1215, 1216, 1217, 1218, 1219, 1220, 1221, 1222, 1223, 1224, 1225, 1226, 1227, 1228, 1229, 1230, 1231, 1232, 1233, 1234, 1235, 1236, 1237, 1240, 1241, 1242, 1243, 1244, 1245, 1247, 1250, 1251, 1252, 1253, 1254, 1255, 1257, 1258, 1259, 1260, 1261, 1262, 1263, 1264, 1266, 1267, 1268, 1269, 1270]\n"
          ]
        }
      ]
    },
    {
      "cell_type": "markdown",
      "source": [
        "When comparing the Wuhan and BA.2 spike region, we noticed around 1168 differences between the corresponding amino acids. However, after close observation around amino acid number 23 (where the word spot begins), we noticed that there are 3 missing amino acids when compared to the Wuhan spike. As a result, this causes a shift in the BA.2 spike that characterizes the new variant. "
      ],
      "metadata": {
        "id": "TbvEgWboDhyc"
      }
    },
    {
      "cell_type": "code",
      "source": [
        "# Present Wuhan and new BA2 Spike region without those three missing amino acids\n",
        "wuhan_spike_protein = wuhan_dictionary['Spike Region Amino Acid Sequence']\n",
        "ba2_spike_protein = ba2_dictionary['Spike Region Amino Acid Sequence']\n",
        "copy_ba2_protein = str(ba2_spike_protein)\n",
        "copy_ba2_protein = copy_ba2_protein[0:23]+'---'+copy_ba2_protein[23:]\n",
        "\n",
        "# compare regions for both spike regions\n",
        "pos, count_diff = compare_regions('Wuhan Spike', wuhan_spike_protein, 'BA.2 Spike', copy_ba2_protein, to_subtract=3)"
      ],
      "metadata": {
        "id": "63O6pBsuYvn3",
        "colab": {
          "base_uri": "https://localhost:8080/"
        },
        "outputId": "c8552bcf-d240-4c0e-c010-5e11032e2e9e"
      },
      "execution_count": null,
      "outputs": [
        {
          "output_type": "stream",
          "name": "stdout",
          "text": [
            "Wuhan Spike\n",
            "MFVFLVLLPLVSSQCVNLTTRTQLPPAYTNSFTRGVYYPDKVFRSSVLHSTQDLFLPFFSNVTWFHAIHVSGTNGTKRFDNPVLPFNDGVYFASTEKSNIIRGWIFGTTLDSKTQSLLIVNNATNVVIKVCEFQFCNDPFLGVYYHKNNKSWMESEFRVYSSANNCTFEYVSQPFLMDLEGKQGNFKNLREFVFKNIDGYFKIYSKHTPINLVRDLPQGFSALEPLVDLPIGINITRFQTLLALHRSYLTPGDSSSGWTAGAAAYYVGYLQPRTFLLKYNENGTITDAVDCALDPLSETKCTLKSFTVEKGIYQTSNFRVQPTESIVRFPNITNLCPFGEVFNATRFASVYAWNRKRISNCVADYSVLYNSASFSTFKCYGVSPTKLNDLCFTNVYADSFVIRGDEVRQIAPGQTGKIADYNYKLPDDFTGCVIAWNSNNLDSKVGGNYNYLYRLFRKSNLKPFERDISTEIYQAGSTPCNGVEGFNCYFPLQSYGFQPTNGVGYQPYRVVVLSFELLHAPATVCGPKKSTNLVKNKCVNFNFNGLTGTGVLTESNKKFLPFQQFGRDIADTTDAVRDPQTLEILDITPCSFGGVSVITPGTNTSNQVAVLYQDVNCTEVPVAIHADQLTPTWRVYSTGSNVFQTRAGCLIGAEHVNNSYECDIPIGAGICASYQTQTNSPRRARSVASQSIIAYTMSLGAENSVAYSNNSIAIPTNFTISVTTEILPVSMTKTSVDCTMYICGDSTECSNLLLQYGSFCTQLNRALTGIAVEQDKNTQEVFAQVKQIYKTPPIKDFGGFNFSQILPDPSKPSKRSFIEDLLFNKVTLADAGFIKQYGDCLGDIAARDLICAQKFNGLTVLPPLLTDEMIAQYTSALLAGTITSGWTFGAGAALQIPFAMQMAYRFNGIGVTQNVLYENQKLIANQFNSAIGKIQDSLSSTASALGKLQDVVNQNAQALNTLVKQLSSNFGAISSVLNDILSRLDKVEAEVQIDRLITGRLQSLQTYVTQQLIRAAEIRASANLAATKMSECVLGQSKRVDFCGKGYHLMSFPQSAPHGVVFLHVTYVPAQEKNFTTAPAICHDGKAHFPREGVFVSNGTHWFVTQRNFYEPQIITTDNTFVSGNCDVVIGIVNNTVYDPLQPELDSFKEELDKYFKNHTSPDVDLGDISGINASVVNIQKEIDRLNEVAKNLNESLIDLQELGKYEQYIKWPWYIWLGFIAGLIAIVMVTIMLCCMTSCCSCLKGCCSCGSCCKFDEDDSEPVLKGVKLHYT\n",
            "BA.2 Spike\n",
            "MFVFLVLLPLVSSQCVNLITRTQ---SYTNSFTRGVYYPDKVFRSSVLHSTQDLFLPFFSNVTWFHAIHVSGTNGTKRFDNPVLPFNDGVYFASTEKSNIIRGWIFGTTLDSKTQSLLIVNNATNVVIKVCEFQFCNDPFLDVYYHKNNKSWMESEFRVYSSANNCTFEYVSQPFLMDLEGKQGNFKNLREFVFKNIDGYFKIYSKHTPINLGRDLPQGFSALEPLVDLPIGINITRFQTLLALHRSYLTPGDSSSGWTAGAAAYYVGYLQPRTFLLKYNENGTITDAVDCALDPLSETKCTLKSFTVEKGIYQTSNFRVQPTESIVRFPNITNLCPFDEVFNATRFASVYAWNRKRISNCVADYSVLYNFAPFFAFKCYGVSPTKLNDLCFTNVYADSFVIRGNEVSQIAPGQTGNIADYNYKLPDDFTGCVIAWNSNKLDSKVGGNYNYLYRLFRKSNLKPFERDISTEIYQAGNKPCNGVAGFNCYFPLRSYGFRPTYGVGHQPYRVVVLSFELLHAPATVCGPKKSTNLVKNKCVNFNFNGLTGTGVLTESNKKFLPFQQFGRDIADTTDAVRDPQTLEILDITPCSFGGVSVITPGTNTSNQVAVLYQGVNCTEVPVAIHADQLTPTWRVYSTGSNVFQTRAGCLIGAEYVNNSYECDIPIGAGICASYQTQTKSHRRARSVASQSIIAYTMSLGAENSVAYSNNSIAIPTNFTISVTTEILPVSMTKTSVDCTMYICGDSTECSNLLLQYGSFCTQLKRALTGIAVEQDKNTQEVFAQVKQIYKTPPIKYFGGFNFSQILPDPSKPSKRSFIEDLLFNKVTLADAGFIKQYGDCLGDIAARDLICAQKFNGLTVLPPLLTDEMIAQYTSALLAGTITSGWTFGAGAALQIPFAMQMAYRFNGIGVTQNVLYENQKLIANQFNSAIGKIQDSLSSTASALGKLQDVVNHNAQALNTLVKQLSSKFGAISSVLNDILSRLDKVEAEVQIDRLITGRLQSLQTYVTQQLIRAAEIRASANLAATKMSECVLGQSKRVDFCGKGYHLMSFPQSAPHGVVFLHVTYVPAQEKNFTTAPAICHDGKAHFPREGVFVSNGTHWFVTQRNFYEPQIITTDNTFVSGNCDVVIGIVNNTVYDPLQPELDSFKEELDKYFKNHTSPDVDLGDISGINASVVNIQKEIDRLNEVAKNLNESLIDLQELGKYEQYIKWPWYIWLGFIAGLIAIVMVTIMLCCMTSCCSCLKGCCSCGSCCKFDEDDSEPVLKGVKLHYT*\n",
            "Scroll to the right to spot differences\n",
            "                  *    ****                                                                                                                  *                                                                      *                                                                                                                             *                               * * **                            *  *        *                      *                                    **     *        *    *  *   *                                                                                                            *                                        *                       * *                                                                                  *                               *                                                                                                                                                             *              *                                                                                                                                                                                                                                                                                                                \n",
            "There are 28 differences at positions: [18, 23, 24, 25, 26, 141, 212, 338, 370, 372, 374, 375, 404, 407, 416, 439, 476, 477, 483, 492, 497, 500, 504, 613, 654, 678, 680, 763, 795, 953, 968]\n"
          ]
        }
      ]
    },
    {
      "cell_type": "markdown",
      "source": [
        "After manually inserting the placer amino acids into the BA.2 spike region, we see that there are much fewer differences with the Wuhan spike region (28 differences). "
      ],
      "metadata": {
        "id": "QF6O7lWYNJMq"
      }
    },
    {
      "cell_type": "code",
      "source": [
        "wuhan_rna_spike = wuhan_dictionary['Spike Region RNA Sequence']\n",
        "\n",
        "pfizer_rna_spike = mRNA_sequence_dictionary[pfizer]['RNA Sequence']\n",
        "pfizer_start_index =mRNA_sequence_dictionary[pfizer]['Start Index']\n",
        "pfizer_end_index =mRNA_sequence_dictionary[pfizer]['End Index']\n",
        "\n",
        "ba2_rna_spike = ba2_dictionary['Spike Region RNA Sequence']\n",
        "\n",
        "ba2_vaccine = \"\"\n",
        "# -9 because wuhan is longer than ba2 by 9 nucleotides\n",
        "for i in range(0, len(wuhan_rna_spike)-9, 3):\n",
        "  \n",
        "  # the three amino acids --- that don't exist in wuhan spike\n",
        "  if i in [69, 72, 75]:\n",
        "    continue\n",
        "\n",
        "  # compare wuhan and ba2 codons\n",
        "  else:\n",
        "    wuhan_codon = wuhan_rna_spike[i:i+3]\n",
        "    ba2_codon = ba2_rna_spike[i:i+3]\n",
        "\n",
        "    # if they are the same, copy the vaccine nucleotides\n",
        "    if wuhan_codon == ba2_codon: \n",
        "      # taking the pfizer start index into account\n",
        "      pfizer_codon = pfizer_rna_spike[i+pfizer_start_index:i+pfizer_start_index+3]\n",
        "      ba2_vaccine = ba2_vaccine + pfizer_codon\n",
        "\n",
        "    else:\n",
        "      # use virus vaccine lookup table to determine the best vac nucleotide\n",
        "      if ba2_codon in virus_vaccine_lookup.keys():\n",
        "        best_codon = max(virus_vaccine_lookup[ba2_codon], key=virus_vaccine_lookup[ba2_codon].get)\n",
        "        ba2_vaccine = ba2_vaccine + best_codon\n",
        "      else:\n",
        "        #print(f\"EXCEPTION: {ba2_codon}\")\n",
        "        # codon not in virus vaccine lookup\n",
        "        if ba2_codon == 'CGA':\n",
        "          best_codon = 'CGC'\n",
        "          ba2_vaccine = ba2_vaccine + best_codon\n",
        "\n",
        "# add nucleotides before starting index (initial sequence) 3’UTR\n",
        "ba2_vaccine = pfizer_rna_spike[0:pfizer_start_index] + ba2_vaccine\n",
        "\n",
        "# add nucleotides after end index (concluding sequence) 5’UTR\n",
        "ba2_vaccine = ba2_vaccine + pfizer_rna_spike[pfizer_end_index:]\n",
        "\n",
        "print('Our BA.2 vaccine is:')\n",
        "print(ba2_vaccine)\n"
      ],
      "metadata": {
        "id": "7L1kKmd0FGy3",
        "colab": {
          "base_uri": "https://localhost:8080/"
        },
        "outputId": "edbd3587-4e3a-4b1b-90ac-7932a7dad569"
      },
      "execution_count": null,
      "outputs": [
        {
          "output_type": "stream",
          "name": "stdout",
          "text": [
            "Our BA.2 vaccine is:\n",
            "GAGAAUAAACUAGUAUUCUUCUGGUCCCCACAGACUCAGAGAGAACCCGCCACCAUGUUCGUGUUCCUGGUGCUGCUGCCUCUGGUGUCCAGCCAGUGUGUGAACCUGAUCACCAGAACACAGAACAGCUUCACCAGAGGCGUGUACUACCCUGACAAGGUGUUCAGAAGCAGCGUGCUGCACAGCACCCAGGACCUGUUCCUGCCUUUCUUCAGCAACGUGACCUGGUUCCACGCCAUCCACGUGAGCGGAACCAACGGCACCAAGCGGUUCGACAACCCUGUGCUGCCCUUCAACGACGGCGUGUACUUCGCCAGCACCGAGAAGAGCAACAUCAUCAGAGGCUGGAUCUUCGGCACCACCCUGGACAGCAAGACCCAGAGCCUGCUGAUCGUGAACAACGCCACCAACGUGGUGAUCAAGGUGUGCGAGUUCCAGUUCUGCAACGACCCCUUCCUGGACGUGUACUACCACAAGAACAACAAGAGCUGGAUGGAGAGCGAGUUCAGAGUGUACAGCAGCGCCAACAACUGCACCUUCGAGUACGUGAGCCAGCCUUUCCUGAUGGACCUGGAGGGCAAGCAGGGCAACUUCAAGAACCUGCGGGAGUUCGUGUUCAAGAACAUCGACGGCUACUUCAAGAUCUACAGCAAGCACACCCCUAUCAACCUGGGAAGAGACCUGCCUCAGGGCUUCAGCGCCCUGGAGCCCCUGGUGGACCUGCCCAUCGGCAUCAACAUCACCCGGUUCCAGACCCUGCUGGCCCUGCACAGAAGCUACCUGACCCCUGGCGACAGCAGCAGCGGCUGGACCGCCGGCGCCGCCGCCUACUACGUGGGCUAUCUGCAGCCUCGGACCUUCCUGCUGAAGUACAACGAGAACGGCACCAUCACCGACGCCGUGGACUGCGCCCUGGACCCUCUGAGCGAGACCAAGUGCACCCUGAAGAGCUUCACCGUGGAGAAGGGCAUCUACCAGACCAGCAACUUCAGAGUGCAGCCCACCGAGAGCAUCGUGAGAUUCCCUAACAUCACCAACCUGUGCCCUUUCGACGAGGUGUUCAACGCCACCAGAUUCGCCAGCGUGUACGCCUGGAACCGGAAGAGAAUCAGCAACUGCGUGGCCGACUACAGCGUGCUGUACAACUUCGCCCCCUUCUUCGCCUUCAAGUGCUACGGCGUGAGCCCUACCAAGCUGAACGACCUGUGCUUCACCAACGUGUACGCCGACAGCUUCGUGAUCAGAGGCAACGAGGUGAGCCAGAUCGCCCCCGGACAGACCGGCAACAUCGCCGACUACAACUACAAGCUGCCCGACGACUUCACCGGCUGCGUGAUCGCCUGGAACAGCAACAAGCUGGACAGCAAGGUGGGCGGCAACUACAACUACCUGUACAGACUGUUCCGGAAGAGCAACCUGAAGCCUUUCGAGAGAGACAUCAGCACCGAGAUCUACCAGGCCGGCAACAAGCCUUGCAACGGCGUGGCCGGCUUCAACUGCUACUUCCCUCUGCGCAGCUACGGCUUCCGCCCCACCUACGGCGUGGGCCACCAGCCCUAUAGAGUGGUGGUGCUGAGCUUCGAGCUGCUGCACGCCCCCGCCACCGUGUGCGGCCCUAAGAAGAGCACCAACCUGGUGAAGAACAAGUGCGUGAACUUCAACUUCAACGGCCUGACCGGCACCGGCGUGCUGACCGAGAGCAACAAGAAGUUCCUGCCUUUCCAGCAGUUCGGCAGAGACAUCGCCGAUACCACCGACGCCGUGAGAGACCCCCAGACCCUGGAGAUCCUGGACAUCACCCCCUGCAGCUUCGGCGGCGUGAGCGUGAUCACCCCCGGCACCAACACCAGCAACCAGGUGGCCGUGCUGUACCAGGGCGUGAACUGCACCGAGGUGCCUGUGGCCAUCCACGCCGACCAGCUGACCCCUACCUGGAGAGUGUACAGCACCGGCUCCAACGUGUUCCAGACCAGAGCCGGCUGCCUGAUCGGAGCCGAGUACGUGAACAACAGCUACGAGUGCGACAUCCCCAUCGGCGCCGGCAUCUGCGCCAGCUACCAGACCCAGACCAAGAGCCACCGGCGGGCCAGAAGCGUGGCCAGCCAGAGCAUCAUCGCCUACACCAUGAGCCUGGGCGCCGAGAACAGCGUGGCCUACAGCAACAACUCCAUCGCCAUCCCCACCAACUUCACCAUCAGCGUGACCACCGAGAUCCUGCCCGUGAGCAUGACCAAGACCAGCGUGGACUGCACCAUGUACAUCUGCGGCGACAGCACCGAGUGCAGCAACCUGCUGCUGCAGUACGGCAGCUUCUGCACCCAGCUGAAGAGAGCCCUGACCGGCAUCGCCGUGGAGCAGGACAAGAACACCCAGGAGGUGUUCGCCCAGGUGAAGCAAAUCUACAAGACCCCCCCCAUCAAGUACUUCGGCGGCUUCAACUUCAGCCAGAUCCUGCCCGACCCCAGCAAGCCUAGCAAGCGGAGCUUCAUCGAGGACCUGCUGUUCAACAAGGUGACCCUGGCCGACGCCGGCUUCAUCAAGCAGUACGGCGACUGCCUGGGCGACAUCGCCGCCAGAGACCUGAUCUGCGCCCAGAAGUUCAACGGCCUGACCGUGCUGCCCCCUCUGCUGACCGACGAGAUGAUCGCCCAGUACACCAGCGCCCUGCUGGCCGGCACCAUCACCAGCGGCUGGACCUUCGGCGCCGGCGCCGCACUGCAGAUCCCCUUCGCCAUGCAGAUGGCCUACCGGUUCAACGGCAUCGGCGUGACCCAGAACGUGCUGUACGAGAACCAGAAGCUGAUCGCCAACCAGUUCAACAGCGCCAUCGGCAAGAUCCAGGACAGCCUGAGCAGCACCGCCAGCGCCCUGGGCAAGCUGCAGGACGUGGUGAACCACAACGCCCAGGCCCUGAACACCCUGGUGAAGCAGCUGAGCAGCAAGUUCGGCGCCAUCAGCAGCGUGCUGAACGACAUCCUGAGCAGACUGGACAAGGUGGAGGCCGAGGUGCAGAUCGACCGGCUGAUCACCGGCAGACUGCAGAGCCUGCAGACCUACGUGACCCAGCAGCUGAUCAGAGCCGCCGAGAUCAGAGCCAGCGCCAACCUGGCCGCCACCAAGAUGAGCGAGUGCGUGCUGGGCCAGAGCAAGAGAGUGGACUUCUGCGGCAAGGGCUACCACCUGAUGAGCUUCCCUCAGAGCGCCCCUCACGGCGUGGUGUUCCUGCACGUGACCUACGUGCCUGCCCAGGAGAAGAACUUCACCACCGCCCCUGCCAUCUGCCACGACGGCAAGGCCCACUUCCCUAGAGAGGGCGUGUUCGUGAGCAACGGCACCCACUGGUUCGUGACCCAGCGGAACUUCUACGAGCCCCAGAUCAUCACCACCGACAACACCUUCGUGAGCGGCAACUGCGACGUGGUGAUCGGCAUCGUGAACAACACCGUGUACGACCCUCUGCAGCCUGAGCUGGACAGCUUCAAGGAGGAGCUGGACAAGUACUUCAAGAACCACACCAGCCCCGACGUGGACCUGGGCGACAUCAGCGGCAUCAACGCCAGCGUGGUGAACAUCCAGAAGGAGAUCGACCGGCUGAACGAGGUGGCCAAGAACCUGAACGAGAGCCUGAUCGACCUGCAGGAGCUGGGCAAGUACGAGCAGUACAUCAAGUGGCCCUGGUACAUCUGGCUGGGCUUCAUCGCCGGCCUGAUCGCCAUCGUGAUGGUGACCAUCAUGCUGUGCUGCAUGACCAGCUGCUGCAGCUGCCUGAAGGGCUGCUGCAGCUGUGGCAGCUGCUGCAAGUUCGACGAGGACGACAGCGAGCCCGUGCUGAAGGGCGUGAAGCUGCACUACACCUGAUGACUCGAGCUGGUACUGCAUGCACGCAAUGCUAGCUGCCCCUUUCCCGUCCUGGGUACCCCGAGUCUCCCCCGACCUCGGGUCCCAGGUAUGCUCCCACCUCCACCUGCCCCACUCACCACCUCUGCUAGUUCCAGACACCUCCCAAGCACGCAGCAAUGCAGCUCAAAACGCUUAGCCUAGCCACACCCCCACGGGAAACAGCAGUGAUUAACCUUUAGCAAUAAACGAAAGUUUAACUAAGCUAUACUAACCCCAGGGUUGGUCAAUUUCGUGCCAGCCACACCCUGGAGCUAGCA\n"
          ]
        }
      ]
    },
    {
      "cell_type": "code",
      "source": [
        "print(f\"The GC content of the spike region of the Pfizer vaccine is {GC(mRNA_sequence_dictionary[pfizer]['Nucleotide Sequence'])}%\")\n",
        "print(f\"The GC content of the spike region of our BA.2 variant vaccine is {GC(ba2_vaccine)}%\")"
      ],
      "metadata": {
        "id": "e7SlH8LoNRRN",
        "colab": {
          "base_uri": "https://localhost:8080/"
        },
        "outputId": "fc242b48-675c-4405-c072-178775e2836b"
      },
      "execution_count": null,
      "outputs": [
        {
          "output_type": "stream",
          "name": "stdout",
          "text": [
            "The GC content of the spike region of the Pfizer vaccine is 56.967320261437905%\n",
            "The GC content of the spike region of our BA.2 variant vaccine is 60.57252826557614%\n"
          ]
        }
      ]
    },
    {
      "cell_type": "markdown",
      "source": [
        "To create the vaccine for the BA.2 variant, we compared each codon in the Wuhan RNA sequence (skipping over the ones we filled in) and if the codon in Wuhan matched with the codon in BA.2 then we take the corresponding codon in the Pfizer vaccine. If the codon does not match, we choose the most common replaced codon in the virus-vaccine lookup table we created. "
      ],
      "metadata": {
        "id": "PiYjuIsBNJ7e"
      }
    },
    {
      "cell_type": "markdown",
      "source": [
        "19. Repeat the same process for the BA.1 genomes. How many amino-acid differences are\n",
        "there between the genomes of BA.1 and BA.2?"
      ],
      "metadata": {
        "id": "DsmBbBBro2cp"
      }
    },
    {
      "cell_type": "markdown",
      "source": [
        "The BA.1 variant has over 88,000 entires samplied in the collection found in NCBI. Due to the large size of the file and limited space in google drive, we decided to only download 200 of the most recent entries. "
      ],
      "metadata": {
        "id": "Y-UJYhnJPNkJ"
      }
    },
    {
      "cell_type": "code",
      "source": [
        "wuhan_spike = wuhan_dictionary['Spike Region RNA Sequence']\n",
        "\n",
        "# random list of variants\n",
        "random_ba1_samples = random.sample(list(SeqIO.parse('ba1_sequences.fasta', 'fasta')), 30)\n",
        "ba1_spike_records = align_records(random_ba1_samples)\n",
        "print(ba1_spike_records)"
      ],
      "metadata": {
        "id": "SCazTrdQYwhD",
        "colab": {
          "base_uri": "https://localhost:8080/"
        },
        "outputId": "7e0081d1-74b9-4ba5-9eee-725abd59d4cf"
      },
      "execution_count": null,
      "outputs": [
        {
          "output_type": "stream",
          "name": "stdout",
          "text": [
            "{'ON105019.1': {'Start': 21496, 'End': 25309, 'Spike Sequence': Seq('AUGUUUGUUUUUCUUGUUUUAUUGCCACUAGUCUCUAGUCAGUGUGUUAAUCUU...UAA')}, 'ON102651.1': {'Start': 21538, 'End': 25351, 'Spike Sequence': Seq('AUGUUUGUUUUUCUUGUUUUAUUGCCACUAGUCUCUAGUCAGUGUGUUAAUCUU...UAA')}, 'ON104793.1': {'Start': 21496, 'End': 25303, 'Spike Sequence': Seq('AUGUUUGUUUUUCUUGUUUUAUUGCCACUAGUCUCUAGUCAGUGUGUUAAUCUU...UAA')}, 'ON104812.1': {'Start': 21529, 'End': 25342, 'Spike Sequence': Seq('AUGUUUGUUUUUCUUGUUUUAUUGCCACUAGUCUCUAGUCAGUGUGUUAAUCUU...UAA')}, 'ON103114.1': {'Start': 21496, 'End': 25303, 'Spike Sequence': Seq('AUGUUUGUUUUUCUUGUUUUAUUGCCACUAGUCUCUAGUCAGUGUGUUAAUCUU...UAA')}, 'ON105378.1': {'Start': 21530, 'End': 25343, 'Spike Sequence': Seq('AUGUUUGUUUUUCUUGUUUUAUUGCCACUAGUCUCUAGUCAGUGUGUUAAUCUU...UAA')}, 'ON102421.1': {'Start': 21496, 'End': 25309, 'Spike Sequence': Seq('AUGUUUGUUUUUCUUGUUUUAUUGCCACUAGUCUCUAGUCAGUGUGUUAAUCUU...UAA')}, 'ON102182.1': {'Start': 21529, 'End': 25342, 'Spike Sequence': Seq('AUGUUUGUUUUUCUUGUUUUAUUGCCACUAGUCUCUAGUCAGUGUGUUAAUCUU...UAA')}, 'ON102602.1': {'Start': 21496, 'End': 25303, 'Spike Sequence': Seq('AUGUUUGUUUUUCUUGUUUUAUUGCCACUAGUCUCUAGUCAGUGUGUUAAUCUU...UAA')}, 'ON102670.1': {'Start': 21538, 'End': 25351, 'Spike Sequence': Seq('AUGUUUGUUUUUCUUGUUUUAUUGCCACUAGUCUCUAGUCAGUGUGUUAAUCUU...UAA')}, 'ON104969.1': {'Start': 21496, 'End': 25300, 'Spike Sequence': Seq('AUGUUUGUUUUUCUUGUUUUAUUGCCACUAGUCUCUAGUCAGUGUGUUAAUCUU...UAA')}, 'ON104226.1': {'Start': 21496, 'End': 25309, 'Spike Sequence': Seq('AUGUUUGUUUUUCUUGUUUUAUUGCCACUAGUCUCUAGUCAGUGUGUUAAUCUU...UAA')}, 'ON102416.1': {'Start': 21496, 'End': 25309, 'Spike Sequence': Seq('AUGUUUGUUUUUCUUGUUUUAUUGCCACUAGUCUCUAGUCAGUGUGUUAAUCUU...UAA')}, 'ON102695.1': {'Start': 21496, 'End': 25303, 'Spike Sequence': Seq('AUGUUUGUUUUUCUUGUUUUAUUGCCACUAGUCUCUAGUCAGUGUGUUAAUCUU...UAA')}, 'ON104834.1': {'Start': 21496, 'End': 25309, 'Spike Sequence': Seq('AUGUUUGUUUUUCUUGUUUUAUUGCCACUAGUCUCUAGUCAGUGUGUUAAUCUU...UAA')}, 'ON102738.1': {'Start': 21496, 'End': 25309, 'Spike Sequence': Seq('AUGUUUGUUUUUCUUGUUUUAUUGCCACUAGUCUCUAGUCAGUGUGUUAAUCUU...UAA')}, 'ON105465.1': {'Start': 21496, 'End': 25309, 'Spike Sequence': Seq('AUGUUUGUUUUUCUUGUUUUAUUGCCACUAGUCUCUAGUCAGUGUGUUAAUCUU...UAA')}, 'ON102315.1': {'Start': 21496, 'End': 25300, 'Spike Sequence': Seq('AUGUUUGUUUUUCUUGUUUUAUUGCCACUAGUCUCUAGUCAGUGUGUUAAUCUU...UAA')}, 'ON103890.1': {'Start': 21515, 'End': 25328, 'Spike Sequence': Seq('AUGUUUGUUUUUCUUGUUUUAUUGCCACUAGUCUCUAGUCAGUGUGUUAAUCUU...UAA')}, 'ON104074.1': {'Start': 21496, 'End': 25309, 'Spike Sequence': Seq('AUGUUUGUUUUUCUUGUUUUAUUGCCACUAGUCUCUAGUCAGUGUGUUAAUCUU...UAA')}, 'ON104008.1': {'Start': 21495, 'End': 25302, 'Spike Sequence': Seq('AUGUUUGUUUUUCUUGUUUUAUUGCCACUAGUCUCUAGUCAGUGUGUUAAUCUU...UAA')}, 'ON105361.1': {'Start': 21487, 'End': 25300, 'Spike Sequence': Seq('AUGUUUGUUUUUCUUGUUUUAUUGCCACUAGUCUCUAGUCAGUGUGUUAAUCUU...UAA')}, 'ON102068.1': {'Start': 21496, 'End': 25309, 'Spike Sequence': Seq('AUGUUUGUUUUUCUUGUUUUAUUGCCACUAGUCUCUAGUCAGUGUGUUAAUCUU...UAA')}, 'ON105300.1': {'Start': 21496, 'End': 25309, 'Spike Sequence': Seq('AUGUUUGUUUUUCUUGUUUUAUUGCCACUAGUCUCUAGUCAGUGUGUUAAUCUU...UAA')}, 'ON105385.1': {'Start': 21529, 'End': 25342, 'Spike Sequence': Seq('AUGUUUGUUUUUCUUGUUUUAUUGCCACUAGUCUCUAGUCAGUGUGUUAAUCUU...UAA')}, 'ON105082.1': {'Start': 21539, 'End': 25352, 'Spike Sequence': Seq('AUGUUUGUUUUUCUUGUUUUAUUGCCACUAGUCUCUAGUCAGUGUGUUAAUCUU...UAA')}, 'ON105441.1': {'Start': 21535, 'End': 25348, 'Spike Sequence': Seq('AUGUUUGUUUUUCUUGUUUUAUUGCCACUAGUCUCUAGUCAGUGUGUUAAUCUU...UAA')}, 'ON105428.1': {'Start': 21529, 'End': 25342, 'Spike Sequence': Seq('AUGUUUGUUUUUCUUGUUUUAUUGCCACUAGUCUCUAGUCAGUGUGUUAAUCUU...UAA')}, 'ON105470.1': {'Start': 21495, 'End': 25308, 'Spike Sequence': Seq('AUGUUUGUUUUUCUUGUUUUAUUGCCACUAGUCUCUAGUCAGUGUGUUAAUCUU...UAA')}, 'ON105711.1': {'Start': 21548, 'End': 25361, 'Spike Sequence': Seq('AUGUUUGUUUUUCUUGUUUUAUUGCCACUAGUCUCUAGUCAGUGUGUUAAUCUU...UAA')}}\n"
          ]
        }
      ]
    },
    {
      "cell_type": "code",
      "source": [
        "# find length of ba2 spike\n",
        "spike_lengths = find_spike_lengths('ba1', ba1_spike_records)\n",
        "print(\"spike lengths\", spike_lengths)\n",
        "\n",
        "most_frequent_length = max(spike_lengths, key=spike_lengths.count)\n",
        "print(f\"The most frequent spike length is: {most_frequent_length}\\n\")\n",
        "\n",
        "# extract the full sample from original file\n",
        "# ba1_full_sample = extract_variant_sample(ba1_spike_records, 'ba1_sequences.fasta')\n",
        "# print(ba1_full_sample)"
      ],
      "metadata": {
        "id": "Y-piqaVoP0BG",
        "colab": {
          "base_uri": "https://localhost:8080/"
        },
        "outputId": "ace17d98-da41-49e9-d730-7a29b96a98cb"
      },
      "execution_count": null,
      "outputs": [
        {
          "output_type": "stream",
          "name": "stdout",
          "text": [
            "For ba1 variant, here are the lengths of the spike regions:\n",
            "spike lengths [3813, 3813, 3807, 3813, 3807, 3813, 3813, 3813, 3807, 3813, 3804, 3813, 3813, 3807, 3813, 3813, 3813, 3804, 3813, 3813, 3807, 3813, 3813, 3813, 3813, 3813, 3813, 3813, 3813, 3813]\n",
            "The most frequent spike length is: 3813\n",
            "\n"
          ]
        }
      ]
    },
    {
      "cell_type": "code",
      "source": [
        "# Find and extract complete sample with no unknown aminoacids\n",
        "for i in range(len(spike_lengths)):\n",
        "  if spike_lengths[i] == most_frequent_length:\n",
        "    ba1_full_sample = extract_variant_sample(ba1_spike_records, 'ba1_sequences.fasta', i)\n",
        "    amino_sequence = ba1_full_sample.translate()\n",
        "    if str(amino_sequence).find('X') == -1:\n",
        "      print(\"Record \", i, \":\", str(amino_sequence))\n",
        "      print(\"There are no unknown (X) aminoacids in the BA.1 Spike Sample\")\n",
        "      break\n",
        "\n",
        "print()\n",
        "print()\n",
        "print(\"Chosen sample sequence:\")\n",
        "print(ba1_full_sample)"
      ],
      "metadata": {
        "colab": {
          "base_uri": "https://localhost:8080/"
        },
        "id": "2QvjdZQPi9FQ",
        "outputId": "bc2fe4b9-e88a-45f8-d8ad-6a7c70adee21"
      },
      "execution_count": null,
      "outputs": [
        {
          "output_type": "stream",
          "name": "stdout",
          "text": [
            "\n",
            "Here is the full record for the variant:\n",
            "Record  0 : ID: <unknown id>\n",
            "Name: <unknown name>\n",
            "Description: <unknown description>\n",
            "Number of features: 0\n",
            "/molecule_type=protein\n",
            "Seq('RSVL*TNFKICVAVTRLHA*CTHAV*LITNYCR*QDTSNSSIFCRLLTVSSVLQ...SAI')\n",
            "There are no unknown (X) aminoacids in the BA.1 Spike Sample\n",
            "\n",
            "\n",
            "Chosen sample sequence:\n",
            "ID: ON105019.1\n",
            "Name: ON105019.1\n",
            "Description: ON105019.1 |Severe acute respiratory syndrome coronavirus 2 isolate SARS-CoV-2/human/USA/CO-CDPHE-2103041685/2022, complete genome\n",
            "Number of features: 0\n",
            "Seq('AGATCTGTTCTCTAAACGAACTTTAAAATCTGTGTGGCTGTCACTCGGCTGCAT...TCC')\n"
          ]
        },
        {
          "output_type": "stream",
          "name": "stderr",
          "text": [
            "/usr/local/lib/python3.7/dist-packages/Bio/Seq.py:2983: BiopythonWarning:\n",
            "\n",
            "Partial codon, len(sequence) not a multiple of three. Explicitly trim the sequence or add trailing N before translation. This may become an error in future.\n",
            "\n"
          ]
        }
      ]
    },
    {
      "cell_type": "code",
      "source": [
        "find_collection_location('ba1', 'ba1_sequences.fasta')"
      ],
      "metadata": {
        "id": "EPJEudprP0kQ",
        "colab": {
          "base_uri": "https://localhost:8080/"
        },
        "outputId": "0698c715-2368-4bc5-ce14-de02298bbce4"
      },
      "execution_count": null,
      "outputs": [
        {
          "output_type": "stream",
          "name": "stdout",
          "text": [
            "For ba1 variant, here are the collection locations:\n",
            "Counter({'USA': 191, 'BHR': 9})\n"
          ]
        }
      ]
    },
    {
      "cell_type": "code",
      "source": [
        "# pass in randomly select spike records and full sample of one of those records\n",
        "ba1_dictionary = report_protein_sequence_ba(ba1_full_sample, ba1_spike_records)\n",
        "print()\n",
        "print(ba1_dictionary)"
      ],
      "metadata": {
        "id": "l8c0d8BxQAWx",
        "colab": {
          "base_uri": "https://localhost:8080/"
        },
        "outputId": "eb272efa-6856-4dd7-d9a9-3aeb28580764"
      },
      "execution_count": null,
      "outputs": [
        {
          "output_type": "stream",
          "name": "stdout",
          "text": [
            "For entry ON105019.1..\n",
            "The protein sequence for the spike region is: \n",
            "MFVFLVLLPLVSSQCVNLTTRTQLPPAYTNSFTRGVYYPDKVFRSSVLHSTQDLFLPFFSNVTWFHVISGTNGTKRFDNPVLPFNDGVYFASIEKSNIIRGWIFGTTLDSKTQSLLIVNNATNVVIKVCEFQFCNDPFLDHKNNKSWMESEFRVYSSANNCTFEYVSQPFLMDLEGKQGNFKNLREFVFKNIDGYFKIYSKHTPIIVREPEDLPQGFSALEPLVDLPIGINITRFQTLLALHRSYLTPGDSSSGWTAGAAAYYVGYLQPRTFLLKYNENGTITDAVDCALDPLSETKCTLKSFTVEKGIYQTSNFRVQPTESIVRFPNITNLCPFDEVFNATRFASVYAWNRKRISNCVADYSVLYNLAPFFTFKCYGVSPTKLNDLCFTNVYADSFVIRGDEVRQIAPGQTGNIADYNYKLPDDFTGCVIAWNSNKLDSKVSGNYNYLYRLFRKSNLKPFERDISTEIYQAGNKPCNGVAGFNCYFPLRSYSFRPTYGVGHQPYRVVVLSFELLHAPATVCGPKKSTNLVKNKCVNFNFNGLKGTGVLTESNKKFLPFQQFGRDIADTTDAVRDPQTLEILDITPCSFGGVSVITPGTNTSNQVAVLYQGVNCTEVPVAIHADQLTPTWRVYSTGSNVFQTRAGCLIGAEYVNNSYECDIPIGAGICASYQTQTKSHRRARSVASQSIIAYTMSLGAENSVAYSNNSIAIPTNFTISVTTEILPVSMTKTSVDCTMYICGDSTECSNLLLQYGSFCTQLKRALTGIAVEQDKNTQEVFAQVKQIYKTPPIKYFGGFNFSQILPDPSKPSKRSFIEDLLFNKVTLADAGFIKQYGDCLGDIAARDLICAQKFKGLTVLPPLLTDEMIAQYTSALLAGTITSGWTFGAGAALQIPFAMQMAYRFNGIGVTQNVLYENQKLIANQFNSAIGKIQDSLSSTASALGKLQDVVNHNAQALNTLVKQLSSKFGAISSVLNDIFSRLDKVEAEVQIDRLITGRLQSLQTYVTQQLIRAAEIRASANLAATKMSECVLGQSKRVDFCGKGYHLMSFPQSAPHGVVFLHVTYVPAQEKNFTTAPAICHDGKAHFPREGVFVSNGTHWFVTQRNFYEPQIITTDNTFVSGNCDVVIGIVNNTVYDPLQPELDSFKEELDKYFKNHTSPDVDLGDISGINASVVNIQKEIDRLNEVAKNLNESLIDLQELGKYEQYIKWPWYIWLGFIAGLIAIVMVTIMLCCMTSCCSCLKGCCSCGSCCKFDEDDSEPVLKGVKLHYT*\n",
            "\n",
            "{'Entry ID': 'ON105019.1', 'DNA Sequence': Seq('AGATCTGTTCTCTAAACGAACTTTAAAATCTGTGTGGCTGTCACTCGGCTGCAT...TCC'), 'Spike Region Start Index': 21496, 'Spike Region End Index': 25309, 'Spike Region RNA Sequence': Seq('AUGUUUGUUUUUCUUGUUUUAUUGCCACUAGUCUCUAGUCAGUGUGUUAAUCUU...UAA'), 'Spike Region Amino Acid Sequence': Seq('MFVFLVLLPLVSSQCVNLTTRTQLPPAYTNSFTRGVYYPDKVFRSSVLHSTQDL...YT*')}\n"
          ]
        }
      ]
    },
    {
      "cell_type": "code",
      "source": [
        "# Present both Wuhan and BA1 Spike region\n",
        "wuhan_spike_protein = wuhan_dictionary['Spike Region Amino Acid Sequence']\n",
        "ba1_spike_protein = ba1_dictionary['Spike Region Amino Acid Sequence']\n",
        "\n",
        "# compare regions for both spike regions\n",
        "pos, count_diff = compare_regions('BA.1 Spike', ba1_spike_protein, 'Wuhan Spike', wuhan_spike_protein)"
      ],
      "metadata": {
        "id": "xh7nMDE2QDgh",
        "colab": {
          "base_uri": "https://localhost:8080/"
        },
        "outputId": "4a9e45db-257f-4be8-8ec9-13b23b716c25"
      },
      "execution_count": null,
      "outputs": [
        {
          "output_type": "stream",
          "name": "stdout",
          "text": [
            "BA.1 Spike\n",
            "MFVFLVLLPLVSSQCVNLTTRTQLPPAYTNSFTRGVYYPDKVFRSSVLHSTQDLFLPFFSNVTWFHVISGTNGTKRFDNPVLPFNDGVYFASIEKSNIIRGWIFGTTLDSKTQSLLIVNNATNVVIKVCEFQFCNDPFLDHKNNKSWMESEFRVYSSANNCTFEYVSQPFLMDLEGKQGNFKNLREFVFKNIDGYFKIYSKHTPIIVREPEDLPQGFSALEPLVDLPIGINITRFQTLLALHRSYLTPGDSSSGWTAGAAAYYVGYLQPRTFLLKYNENGTITDAVDCALDPLSETKCTLKSFTVEKGIYQTSNFRVQPTESIVRFPNITNLCPFDEVFNATRFASVYAWNRKRISNCVADYSVLYNLAPFFTFKCYGVSPTKLNDLCFTNVYADSFVIRGDEVRQIAPGQTGNIADYNYKLPDDFTGCVIAWNSNKLDSKVSGNYNYLYRLFRKSNLKPFERDISTEIYQAGNKPCNGVAGFNCYFPLRSYSFRPTYGVGHQPYRVVVLSFELLHAPATVCGPKKSTNLVKNKCVNFNFNGLKGTGVLTESNKKFLPFQQFGRDIADTTDAVRDPQTLEILDITPCSFGGVSVITPGTNTSNQVAVLYQGVNCTEVPVAIHADQLTPTWRVYSTGSNVFQTRAGCLIGAEYVNNSYECDIPIGAGICASYQTQTKSHRRARSVASQSIIAYTMSLGAENSVAYSNNSIAIPTNFTISVTTEILPVSMTKTSVDCTMYICGDSTECSNLLLQYGSFCTQLKRALTGIAVEQDKNTQEVFAQVKQIYKTPPIKYFGGFNFSQILPDPSKPSKRSFIEDLLFNKVTLADAGFIKQYGDCLGDIAARDLICAQKFKGLTVLPPLLTDEMIAQYTSALLAGTITSGWTFGAGAALQIPFAMQMAYRFNGIGVTQNVLYENQKLIANQFNSAIGKIQDSLSSTASALGKLQDVVNHNAQALNTLVKQLSSKFGAISSVLNDIFSRLDKVEAEVQIDRLITGRLQSLQTYVTQQLIRAAEIRASANLAATKMSECVLGQSKRVDFCGKGYHLMSFPQSAPHGVVFLHVTYVPAQEKNFTTAPAICHDGKAHFPREGVFVSNGTHWFVTQRNFYEPQIITTDNTFVSGNCDVVIGIVNNTVYDPLQPELDSFKEELDKYFKNHTSPDVDLGDISGINASVVNIQKEIDRLNEVAKNLNESLIDLQELGKYEQYIKWPWYIWLGFIAGLIAIVMVTIMLCCMTSCCSCLKGCCSCGSCCKFDEDDSEPVLKGVKLHYT*\n",
            "Wuhan Spike\n",
            "MFVFLVLLPLVSSQCVNLTTRTQLPPAYTNSFTRGVYYPDKVFRSSVLHSTQDLFLPFFSNVTWFHAIHVSGTNGTKRFDNPVLPFNDGVYFASTEKSNIIRGWIFGTTLDSKTQSLLIVNNATNVVIKVCEFQFCNDPFLGVYYHKNNKSWMESEFRVYSSANNCTFEYVSQPFLMDLEGKQGNFKNLREFVFKNIDGYFKIYSKHTPINLVRDLPQGFSALEPLVDLPIGINITRFQTLLALHRSYLTPGDSSSGWTAGAAAYYVGYLQPRTFLLKYNENGTITDAVDCALDPLSETKCTLKSFTVEKGIYQTSNFRVQPTESIVRFPNITNLCPFGEVFNATRFASVYAWNRKRISNCVADYSVLYNSASFSTFKCYGVSPTKLNDLCFTNVYADSFVIRGDEVRQIAPGQTGKIADYNYKLPDDFTGCVIAWNSNNLDSKVGGNYNYLYRLFRKSNLKPFERDISTEIYQAGSTPCNGVEGFNCYFPLQSYGFQPTNGVGYQPYRVVVLSFELLHAPATVCGPKKSTNLVKNKCVNFNFNGLTGTGVLTESNKKFLPFQQFGRDIADTTDAVRDPQTLEILDITPCSFGGVSVITPGTNTSNQVAVLYQDVNCTEVPVAIHADQLTPTWRVYSTGSNVFQTRAGCLIGAEHVNNSYECDIPIGAGICASYQTQTNSPRRARSVASQSIIAYTMSLGAENSVAYSNNSIAIPTNFTISVTTEILPVSMTKTSVDCTMYICGDSTECSNLLLQYGSFCTQLNRALTGIAVEQDKNTQEVFAQVKQIYKTPPIKDFGGFNFSQILPDPSKPSKRSFIEDLLFNKVTLADAGFIKQYGDCLGDIAARDLICAQKFNGLTVLPPLLTDEMIAQYTSALLAGTITSGWTFGAGAALQIPFAMQMAYRFNGIGVTQNVLYENQKLIANQFNSAIGKIQDSLSSTASALGKLQDVVNQNAQALNTLVKQLSSNFGAISSVLNDILSRLDKVEAEVQIDRLITGRLQSLQTYVTQQLIRAAEIRASANLAATKMSECVLGQSKRVDFCGKGYHLMSFPQSAPHGVVFLHVTYVPAQEKNFTTAPAICHDGKAHFPREGVFVSNGTHWFVTQRNFYEPQIITTDNTFVSGNCDVVIGIVNNTVYDPLQPELDSFKEELDKYFKNHTSPDVDLGDISGINASVVNIQKEIDRLNEVAKNLNESLIDLQELGKYEQYIKWPWYIWLGFIAGLIAIVMVTIMLCCMTSCCSCLKGCCSCGSCCKFDEDDSEPVLKGVKLHYT\n",
            "Scroll to the right to spot differences\n",
            "                                                                  * **************************************************************** ************************************************ **************************************** ** ************** ****************** ***** ******************** ***** ***** ******************************* ************************************ ***** ************ ************************* ***************************** ******** * *************************** ********************** *************************************** ************* ** ***** ** ********** * ************** *** ******************* ************* ******************************************** *** ********************* ******* ******************************************************************* ************ ***********   * ******************************************** ** ************** ************* ********************************** ***** ***** ** **** ******** **** ********************* *******************  *** *************** ****************************************** *************************************************** ********************** ************* ********** *** *************************** ** ***** ******* ************************  ****** *  ****** ******** *****\n",
            "There are 1130 differences at positions: [66, 68, 69, 70, 71, 72, 73, 74, 75, 76, 77, 78, 79, 80, 81, 82, 83, 84, 85, 86, 87, 88, 89, 90, 91, 92, 93, 94, 95, 96, 97, 98, 99, 100, 101, 102, 103, 104, 105, 106, 107, 108, 109, 110, 111, 112, 113, 114, 115, 116, 117, 118, 119, 120, 121, 122, 123, 124, 125, 126, 127, 128, 129, 130, 131, 133, 134, 135, 136, 137, 138, 139, 140, 141, 142, 143, 144, 145, 146, 147, 148, 149, 150, 151, 152, 153, 154, 155, 156, 157, 158, 159, 160, 161, 162, 163, 164, 165, 166, 167, 168, 169, 170, 171, 172, 173, 174, 175, 176, 177, 178, 179, 180, 182, 183, 184, 185, 186, 187, 188, 189, 190, 191, 192, 193, 194, 195, 196, 197, 198, 199, 200, 201, 202, 203, 204, 205, 206, 207, 208, 209, 210, 211, 212, 213, 214, 215, 216, 217, 218, 219, 220, 221, 223, 224, 226, 227, 228, 229, 230, 231, 232, 233, 234, 235, 236, 237, 238, 239, 241, 242, 243, 244, 245, 246, 247, 248, 249, 250, 251, 252, 253, 254, 255, 256, 257, 258, 260, 261, 262, 263, 264, 266, 267, 268, 269, 270, 271, 272, 273, 274, 275, 276, 277, 278, 279, 280, 281, 282, 283, 284, 285, 287, 288, 289, 290, 291, 293, 294, 295, 296, 297, 299, 300, 301, 302, 303, 304, 305, 306, 307, 308, 309, 310, 311, 312, 313, 314, 315, 316, 317, 318, 319, 320, 321, 322, 323, 324, 325, 326, 327, 328, 329, 331, 332, 333, 334, 335, 336, 337, 338, 339, 340, 341, 342, 343, 344, 345, 346, 347, 348, 349, 350, 351, 352, 353, 354, 355, 356, 357, 358, 359, 360, 361, 362, 363, 364, 365, 366, 368, 369, 370, 371, 372, 374, 375, 376, 377, 378, 379, 380, 381, 382, 383, 384, 385, 387, 388, 389, 390, 391, 392, 393, 394, 395, 396, 397, 398, 399, 400, 401, 402, 403, 404, 405, 406, 407, 408, 409, 410, 411, 413, 414, 415, 416, 417, 418, 419, 420, 421, 422, 423, 424, 425, 426, 427, 428, 429, 430, 431, 432, 433, 434, 435, 436, 437, 438, 439, 440, 441, 443, 444, 445, 446, 447, 448, 449, 450, 452, 454, 455, 456, 457, 458, 459, 460, 461, 462, 463, 464, 465, 466, 467, 468, 469, 470, 471, 472, 473, 474, 475, 476, 477, 478, 479, 480, 482, 483, 484, 485, 486, 487, 488, 489, 490, 491, 492, 493, 494, 495, 496, 497, 498, 499, 500, 501, 502, 503, 505, 506, 507, 508, 509, 510, 511, 512, 513, 514, 515, 516, 517, 518, 519, 520, 521, 522, 523, 524, 525, 526, 527, 528, 529, 530, 531, 532, 533, 534, 535, 536, 537, 538, 539, 540, 541, 542, 543, 545, 546, 547, 548, 549, 550, 551, 552, 553, 554, 555, 556, 557, 559, 560, 562, 563, 564, 565, 566, 568, 569, 571, 572, 573, 574, 575, 576, 577, 578, 579, 580, 582, 584, 585, 586, 587, 588, 589, 590, 591, 592, 593, 594, 595, 596, 597, 599, 600, 601, 603, 604, 605, 606, 607, 608, 609, 610, 611, 612, 613, 614, 615, 616, 617, 618, 619, 620, 621, 623, 624, 625, 626, 627, 628, 629, 630, 631, 632, 633, 634, 635, 637, 638, 639, 640, 641, 642, 643, 644, 645, 646, 647, 648, 649, 650, 651, 652, 653, 654, 655, 656, 657, 658, 659, 660, 661, 662, 663, 664, 665, 666, 667, 668, 669, 670, 671, 672, 673, 674, 675, 676, 677, 678, 679, 680, 682, 683, 684, 686, 687, 688, 689, 690, 691, 692, 693, 694, 695, 696, 697, 698, 699, 700, 701, 702, 703, 704, 705, 706, 708, 709, 710, 711, 712, 713, 714, 716, 717, 718, 719, 720, 721, 722, 723, 724, 725, 726, 727, 728, 729, 730, 731, 732, 733, 734, 735, 736, 737, 738, 739, 740, 741, 742, 743, 744, 745, 746, 747, 748, 749, 750, 751, 752, 753, 754, 755, 756, 757, 758, 759, 760, 761, 762, 763, 764, 765, 766, 767, 768, 769, 770, 771, 772, 773, 774, 775, 776, 777, 778, 779, 780, 781, 782, 784, 785, 786, 787, 788, 789, 790, 791, 792, 793, 794, 795, 797, 798, 799, 800, 801, 802, 803, 804, 805, 806, 807, 811, 813, 814, 815, 816, 817, 818, 819, 820, 821, 822, 823, 824, 825, 826, 827, 828, 829, 830, 831, 832, 833, 834, 835, 836, 837, 838, 839, 840, 841, 842, 843, 844, 845, 846, 847, 848, 849, 850, 851, 852, 853, 854, 855, 856, 858, 859, 861, 862, 863, 864, 865, 866, 867, 868, 869, 870, 871, 872, 873, 874, 876, 877, 878, 879, 880, 881, 882, 883, 884, 885, 886, 887, 888, 890, 891, 892, 893, 894, 895, 896, 897, 898, 899, 900, 901, 902, 903, 904, 905, 906, 907, 908, 909, 910, 911, 912, 913, 914, 915, 916, 917, 918, 919, 920, 921, 922, 923, 925, 926, 927, 928, 929, 931, 932, 933, 934, 935, 937, 938, 940, 941, 942, 943, 945, 946, 947, 948, 949, 950, 951, 952, 954, 955, 956, 957, 959, 960, 961, 962, 963, 964, 965, 966, 967, 968, 969, 970, 971, 972, 973, 974, 975, 976, 977, 978, 979, 981, 982, 983, 984, 985, 986, 987, 988, 989, 990, 991, 992, 993, 994, 995, 996, 997, 998, 999, 1002, 1003, 1004, 1006, 1007, 1008, 1009, 1010, 1011, 1012, 1013, 1014, 1015, 1016, 1017, 1018, 1019, 1020, 1022, 1023, 1024, 1025, 1026, 1027, 1028, 1029, 1030, 1031, 1032, 1033, 1034, 1035, 1036, 1037, 1038, 1039, 1040, 1041, 1042, 1043, 1044, 1045, 1046, 1047, 1048, 1049, 1050, 1051, 1052, 1053, 1054, 1055, 1056, 1057, 1058, 1059, 1060, 1061, 1062, 1063, 1065, 1066, 1067, 1068, 1069, 1070, 1071, 1072, 1073, 1074, 1075, 1076, 1077, 1078, 1079, 1080, 1081, 1082, 1083, 1084, 1085, 1086, 1087, 1088, 1089, 1090, 1091, 1092, 1093, 1094, 1095, 1096, 1097, 1098, 1099, 1100, 1101, 1102, 1103, 1104, 1105, 1106, 1107, 1108, 1109, 1110, 1111, 1112, 1113, 1114, 1115, 1117, 1118, 1119, 1120, 1121, 1122, 1123, 1124, 1125, 1126, 1127, 1128, 1129, 1130, 1131, 1132, 1133, 1134, 1135, 1136, 1137, 1138, 1140, 1141, 1142, 1143, 1144, 1145, 1146, 1147, 1148, 1149, 1150, 1151, 1152, 1154, 1155, 1156, 1157, 1158, 1159, 1160, 1161, 1162, 1163, 1165, 1166, 1167, 1169, 1170, 1171, 1172, 1173, 1174, 1175, 1176, 1177, 1178, 1179, 1180, 1181, 1182, 1183, 1184, 1185, 1186, 1187, 1188, 1189, 1190, 1191, 1192, 1193, 1194, 1195, 1197, 1198, 1200, 1201, 1202, 1203, 1204, 1206, 1207, 1208, 1209, 1210, 1211, 1212, 1214, 1215, 1216, 1217, 1218, 1219, 1220, 1221, 1222, 1223, 1224, 1225, 1226, 1227, 1228, 1229, 1230, 1231, 1232, 1233, 1234, 1235, 1236, 1237, 1240, 1241, 1242, 1243, 1244, 1245, 1247, 1250, 1251, 1252, 1253, 1254, 1255, 1257, 1258, 1259, 1260, 1261, 1262, 1263, 1264, 1266, 1267, 1268, 1269, 1270]\n"
          ]
        }
      ]
    },
    {
      "cell_type": "code",
      "source": [
        "ba1_spike_protein = ba1_dictionary['Spike Region Amino Acid Sequence']\n",
        "copy_ba1_protein = str(ba1_spike_protein)\n",
        "copy_ba1_protein = copy_ba1_protein[0:68]+'--'+copy_ba1_protein[68:]\n",
        "copy_ba1_protein = copy_ba1_protein[0:142]+'---'+copy_ba1_protein[142:]\n",
        "\n",
        "copy_wuhan__protein = str(wuhan_spike_protein)\n",
        "copy_wuhan__protein = copy_wuhan__protein[0:211]+'--'+copy_wuhan__protein[211:]\n",
        "\n",
        "pos, count_diff = compare_regions('Wuhan Spike', copy_wuhan__protein,'BA.1 Spike', copy_ba1_protein, to_subtract=5)"
      ],
      "metadata": {
        "id": "S7xvY1LxQUKh",
        "colab": {
          "base_uri": "https://localhost:8080/"
        },
        "outputId": "05f889e8-c644-4e4d-9c03-186ca13d7365"
      },
      "execution_count": null,
      "outputs": [
        {
          "output_type": "stream",
          "name": "stdout",
          "text": [
            "Wuhan Spike\n",
            "MFVFLVLLPLVSSQCVNLTTRTQLPPAYTNSFTRGVYYPDKVFRSSVLHSTQDLFLPFFSNVTWFHAIHVSGTNGTKRFDNPVLPFNDGVYFASTEKSNIIRGWIFGTTLDSKTQSLLIVNNATNVVIKVCEFQFCNDPFLGVYYHKNNKSWMESEFRVYSSANNCTFEYVSQPFLMDLEGKQGNFKNLREFVFKNIDGYFKIYSKHTPIN--LVRDLPQGFSALEPLVDLPIGINITRFQTLLALHRSYLTPGDSSSGWTAGAAAYYVGYLQPRTFLLKYNENGTITDAVDCALDPLSETKCTLKSFTVEKGIYQTSNFRVQPTESIVRFPNITNLCPFGEVFNATRFASVYAWNRKRISNCVADYSVLYNSASFSTFKCYGVSPTKLNDLCFTNVYADSFVIRGDEVRQIAPGQTGKIADYNYKLPDDFTGCVIAWNSNNLDSKVGGNYNYLYRLFRKSNLKPFERDISTEIYQAGSTPCNGVEGFNCYFPLQSYGFQPTNGVGYQPYRVVVLSFELLHAPATVCGPKKSTNLVKNKCVNFNFNGLTGTGVLTESNKKFLPFQQFGRDIADTTDAVRDPQTLEILDITPCSFGGVSVITPGTNTSNQVAVLYQDVNCTEVPVAIHADQLTPTWRVYSTGSNVFQTRAGCLIGAEHVNNSYECDIPIGAGICASYQTQTNSPRRARSVASQSIIAYTMSLGAENSVAYSNNSIAIPTNFTISVTTEILPVSMTKTSVDCTMYICGDSTECSNLLLQYGSFCTQLNRALTGIAVEQDKNTQEVFAQVKQIYKTPPIKDFGGFNFSQILPDPSKPSKRSFIEDLLFNKVTLADAGFIKQYGDCLGDIAARDLICAQKFNGLTVLPPLLTDEMIAQYTSALLAGTITSGWTFGAGAALQIPFAMQMAYRFNGIGVTQNVLYENQKLIANQFNSAIGKIQDSLSSTASALGKLQDVVNQNAQALNTLVKQLSSNFGAISSVLNDILSRLDKVEAEVQIDRLITGRLQSLQTYVTQQLIRAAEIRASANLAATKMSECVLGQSKRVDFCGKGYHLMSFPQSAPHGVVFLHVTYVPAQEKNFTTAPAICHDGKAHFPREGVFVSNGTHWFVTQRNFYEPQIITTDNTFVSGNCDVVIGIVNNTVYDPLQPELDSFKEELDKYFKNHTSPDVDLGDISGINASVVNIQKEIDRLNEVAKNLNESLIDLQELGKYEQYIKWPWYIWLGFIAGLIAIVMVTIMLCCMTSCCSCLKGCCSCGSCCKFDEDDSEPVLKGVKLHYT\n",
            "BA.1 Spike\n",
            "MFVFLVLLPLVSSQCVNLTTRTQLPPAYTNSFTRGVYYPDKVFRSSVLHSTQDLFLPFFSNVTWFHVI--SGTNGTKRFDNPVLPFNDGVYFASIEKSNIIRGWIFGTTLDSKTQSLLIVNNATNVVIKVCEFQFCNDPFLD---HKNNKSWMESEFRVYSSANNCTFEYVSQPFLMDLEGKQGNFKNLREFVFKNIDGYFKIYSKHTPIIVREPEDLPQGFSALEPLVDLPIGINITRFQTLLALHRSYLTPGDSSSGWTAGAAAYYVGYLQPRTFLLKYNENGTITDAVDCALDPLSETKCTLKSFTVEKGIYQTSNFRVQPTESIVRFPNITNLCPFDEVFNATRFASVYAWNRKRISNCVADYSVLYNLAPFFTFKCYGVSPTKLNDLCFTNVYADSFVIRGDEVRQIAPGQTGNIADYNYKLPDDFTGCVIAWNSNKLDSKVSGNYNYLYRLFRKSNLKPFERDISTEIYQAGNKPCNGVAGFNCYFPLRSYSFRPTYGVGHQPYRVVVLSFELLHAPATVCGPKKSTNLVKNKCVNFNFNGLKGTGVLTESNKKFLPFQQFGRDIADTTDAVRDPQTLEILDITPCSFGGVSVITPGTNTSNQVAVLYQGVNCTEVPVAIHADQLTPTWRVYSTGSNVFQTRAGCLIGAEYVNNSYECDIPIGAGICASYQTQTKSHRRARSVASQSIIAYTMSLGAENSVAYSNNSIAIPTNFTISVTTEILPVSMTKTSVDCTMYICGDSTECSNLLLQYGSFCTQLKRALTGIAVEQDKNTQEVFAQVKQIYKTPPIKYFGGFNFSQILPDPSKPSKRSFIEDLLFNKVTLADAGFIKQYGDCLGDIAARDLICAQKFKGLTVLPPLLTDEMIAQYTSALLAGTITSGWTFGAGAALQIPFAMQMAYRFNGIGVTQNVLYENQKLIANQFNSAIGKIQDSLSSTASALGKLQDVVNHNAQALNTLVKQLSSKFGAISSVLNDIFSRLDKVEAEVQIDRLITGRLQSLQTYVTQQLIRAAEIRASANLAATKMSECVLGQSKRVDFCGKGYHLMSFPQSAPHGVVFLHVTYVPAQEKNFTTAPAICHDGKAHFPREGVFVSNGTHWFVTQRNFYEPQIITTDNTFVSGNCDVVIGIVNNTVYDPLQPELDSFKEELDKYFKNHTSPDVDLGDISGINASVVNIQKEIDRLNEVAKNLNESLIDLQELGKYEQYIKWPWYIWLGFIAGLIAIVMVTIMLCCMTSCCSCLKGCCSCGSCCKFDEDDSEPVLKGVKLHYT*\n",
            "Scroll to the right to spot differences\n",
            "                                                                  * **                        *                                              ****                                                                 ******                                                                                                                            *                               * * *                                         *                      *     *                              **     *        *  * *  *   *                                         *                                                                  *                                        *                       * *                                                                                  *                               *                                                           *                                                                                                 *              *           *                                                                                                                                                                                                                                                                                                    \n",
            "There are 35 differences at positions: [66, 68, 69, 94, 141, 142, 143, 144, 210, 211, 212, 213, 214, 215, 340, 372, 374, 376, 418, 441, 447, 478, 479, 485, 494, 497, 499, 502, 506, 548, 615, 656, 680, 682, 765, 797, 857, 955, 970, 982]\n"
          ]
        }
      ]
    },
    {
      "cell_type": "markdown",
      "source": [
        "When comparing the original Wuhan spike region with the BA.1 region, there are 1130 differences. However, adding 5 amino acid fillers to two sections of the BA.1 spike sequence shows that there are actually much less differences than that."
      ],
      "metadata": {
        "id": "F9FzP31PS5QC"
      }
    },
    {
      "cell_type": "code",
      "source": [
        "wuhan_rna_spike = wuhan_dictionary['Spike Region RNA Sequence']\n",
        "\n",
        "pfizer_rna_spike = mRNA_sequence_dictionary[pfizer]['RNA Sequence']\n",
        "pfizer_start_index =mRNA_sequence_dictionary[pfizer]['Start Index']\n",
        "pfizer_end_index =mRNA_sequence_dictionary[pfizer]['End Index']\n",
        "\n",
        "ba1_rna_spike = ba1_dictionary['Spike Region RNA Sequence']\n",
        "\n",
        "ba1_vaccine = \"\"\n",
        "# -9 because wuhan is longer than ba2 by 9 nucleotides\n",
        "for i in range(0, len(wuhan_rna_spike), 3):\n",
        "  \n",
        "  # the amino acids --- that don't exist in wuhan spike\n",
        "  if i in [68*3, 69*3, 142*3, 143*3, 144*3, 212*3]:\n",
        "    continue\n",
        "\n",
        "  # compare wuhan and ba1 codons\n",
        "  else:\n",
        "    wuhan_codon = wuhan_rna_spike[i:i+3]\n",
        "    ba1_codon = ba1_rna_spike[i:i+3]\n",
        "\n",
        "    # if they are the same, copy the vaccine nucleotides\n",
        "    if wuhan_codon == ba1_codon: \n",
        "      # taking the pfizer start index into account\n",
        "      pfizer_codon = pfizer_rna_spike[i+pfizer_start_index:i+pfizer_start_index+3]\n",
        "      ba1_vaccine = ba1_vaccine + pfizer_codon\n",
        "\n",
        "    else:\n",
        "      # use virus vaccine lookup table to determine the best vac nucleotide\n",
        "      if ba1_codon in virus_vaccine_lookup.keys():\n",
        "        best_codon = max(virus_vaccine_lookup[ba1_codon], key=virus_vaccine_lookup[ba1_codon].get)\n",
        "        ba1_vaccine = ba1_vaccine + best_codon\n",
        "      else:\n",
        "        #print(f\"EXCEPTION: {ba1_codon}\")\n",
        "        # codon not in virus vaccine lookup\n",
        "        if ba1_codon == 'CGA':\n",
        "          best_codon = 'CGC'\n",
        "          ba1_vaccine = ba1_vaccine + best_codon\n",
        "\n",
        "# add nucleotides before starting index (initial sequence)\n",
        "ba1_vaccine = pfizer_rna_spike[0:pfizer_start_index] + ba1_vaccine\n",
        "\n",
        "# add nucleotides after end index (concluding sequence)\n",
        "ba1_vaccine = ba1_vaccine + pfizer_rna_spike[pfizer_end_index:]\n",
        "\n",
        "print('Our BA.1 vaccine is:')\n",
        "print(ba1_vaccine)"
      ],
      "metadata": {
        "id": "9t6jZYPAQ1Pc",
        "colab": {
          "base_uri": "https://localhost:8080/"
        },
        "outputId": "1c570777-a205-4bbd-d9dc-09b9a7c8e7d7"
      },
      "execution_count": null,
      "outputs": [
        {
          "output_type": "stream",
          "name": "stdout",
          "text": [
            "Our BA.1 vaccine is:\n",
            "GAGAAUAAACUAGUAUUCUUCUGGUCCCCACAGACUCAGAGAGAACCCGCCACCAUGUUCGUGUUCCUGGUGCUGCUGCCUCUGGUGUCCAGCCAGUGUGUGAACCUGACCACCAGAACACAGCUGCCUCCAGCCUACACCAACAGCUUUACCAGAGGCGUGUACUACCCCGACAAGGUGUUCAGAUCCAGCGUGCUGCACUCUACCCAGGACCUGUUCCUGCCUUUCUUCAGCAACGUGACCUGGUUCCACGUGAUCACCAACGGCACCAAGCGGUUCGACAACCCUGUGCUGCCCUUCAACGACGGCGUGUACUUCGCCAGCAUCGAGAAGAGCAACAUCAUCAGAGGCUGGAUCUUCGGCACCACCCUGGACAGCAAGACCCAGAGCCUGCUGAUCGUGAACAACGCCACCAACGUGGUGAUCAAGGUGUGCGAGUUCCAGUUCUGCAACGACCCCUUCCUGGACCACAAGAGCUGGAUGGAGAGCGAGUUCAGAGUGUACAGCAGCGCCAACAACUGCACCUUCGAGUACGUGAGCCAGCCUUUCCUGAUGGACCUGGAGGGCAAGCAGGGCAACUUCAAGAACCUGCGGGAGUUCGUGUUCAAGAACAUCGACGGCUACUUCAAGAUCUACAGCAAGCACACCCCUAUCAUCGUGAGAGAGCCCGAGGACCCUCAGGGCUUCAGCGCCCUGGAGCCCCUGGUGGACCUGCCCAUCGGCAUCAACAUCACCCGGUUCCAGACCCUGCUGGCCCUGCACAGAAGCUACCUGACCCCUGGCGACAGCAGCAGCGGCUGGACCGCCGGCGCCGCCGCCUACUACGUGGGCUAUCUGCAGCCUCGGACCUUCCUGCUGAAGUACAACGAGAACGGCACCAUCACCGACGCCGUGGACUGCGCCCUGGACCCUCUGAGCGAGACCAAGUGCACCCUGAAGAGCUUCACCGUGGAGAAGGGCAUCUACCAGACCAGCAACUUCAGAGUGCAGCCCACCGAGAGCAUCGUGAGAUUCCCUAACAUCACCAACCUGUGCCCUUUCGACGAGGUGUUCAACGCCACCAGAUUCGCCAGCGUGUACGCCUGGAACCGGAAGAGAAUCAGCAACUGCGUGGCCGACUACAGCGUGCUGUACAACCUGGCCCCCUUCUUCACCUUCAAGUGCUACGGCGUGAGCCCUACCAAGCUGAACGACCUGUGCUUCACCAACGUGUACGCCGACAGCUUCGUGAUCAGAGGCGACGAGGUGAGACAGAUCGCCCCCGGACAGACCGGCAACAUCGCCGACUACAACUACAAGCUGCCCGACGACUUCACCGGCUGCGUGAUCGCCUGGAACAGCAACAAGCUGGACAGCAAGGUGAGCGGCAACUACAACUACCUGUACAGACUGUUCCGGAAGAGCAACCUGAAGCCUUUCGAGAGAGACAUCAGCACCGAGAUCUACCAGGCCGGCAACAAGCCUUGCAACGGCGUGGCCGGCUUCAACUGCUACUUCCCUCUGCGCAGCUACAGCUUCCGCCCCACCUACGGCGUGGGCCACCAGCCCUAUAGAGUGGUGGUGCUGAGCUUCGAGCUGCUGCACGCCCCCGCCACCGUGUGCGGCCCUAAGAAGAGCACCAACCUGGUGAAGAACAAGUGCGUGAACUUCAACUUCAACGGCCUGAAGGGCACCGGCGUGCUGACCGAGAGCAACAAGAAGUUCCUGCCUUUCCAGCAGUUCGGCAGAGACAUCGCCGAUACCACCGACGCCGUGAGAGACCCCCAGACCCUGGAGAUCCUGGACAUCACCCCCUGCAGCUUCGGCGGCGUGAGCGUGAUCACCCCCGGCACCAACACCAGCAACCAGGUGGCCGUGCUGUACCAGGGCGUGAACUGCACCGAGGUGCCUGUGGCCAUCCACGCCGACCAGCUGACCCCUACCUGGAGAGUGUACAGCACCGGCUCCAACGUGUUCCAGACCAGAGCCGGCUGCCUGAUCGGAGCCGAGUACGUGAACAACAGCUACGAGUGCGACAUCCCCAUCGGCGCCGGCAUCUGCGCCAGCUACCAGACCCAGACCAAGAGCCACCGGCGGGCCAGAAGCGUGGCCAGCCAGAGCAUCAUCGCCUACACCAUGAGCCUGGGCGCCGAGAACAGCGUGGCCUACAGCAACAACUCCAUCGCCAUCCCCACCAACUUCACCAUCAGCGUGACCACCGAGAUCCUGCCCGUGAGCAUGACCAAGACCAGCGUGGACUGCACCAUGUACAUCUGCGGCGACAGCACCGAGUGCAGCAACCUGCUGCUGCAGUACGGCAGCUUCUGCACCCAGCUGAAGAGAGCCCUGACCGGCAUCGCCGUGGAGCAGGACAAGAACACCCAGGAGGUGUUCGCCCAGGUGAAGCAAAUCUACAAGACCCCCCCCAUCAAGUACUUCGGCGGCUUCAACUUCAGCCAGAUCCUGCCCGACCCCAGCAAGCCUAGCAAGCGGAGCUUCAUCGAGGACCUGCUGUUCAACAAGGUGACCCUGGCCGACGCCGGCUUCAUCAAGCAGUACGGCGACUGCCUGGGCGACAUCGCCGCCAGAGACCUGAUCUGCGCCCAGAAGUUCAAGGGCCUGACCGUGCUGCCCCCUCUGCUGACCGACGAGAUGAUCGCCCAGUACACCAGCGCCCUGCUGGCCGGCACCAUCACCAGCGGCUGGACCUUCGGCGCCGGCGCCGCACUGCAGAUCCCCUUCGCCAUGCAGAUGGCCUACCGGUUCAACGGCAUCGGCGUGACCCAGAACGUGCUGUACGAGAACCAGAAGCUGAUCGCCAACCAGUUCAACAGCGCCAUCGGCAAGAUCCAGGACAGCCUGAGCAGCACCGCCAGCGCCCUGGGCAAGCUGCAGGACGUGGUGAACCACAACGCCCAGGCCCUGAACACCCUGGUGAAGCAGCUGAGCAGCAAGUUCGGCGCCAUCAGCAGCGUGCUGAACGACAUCUUCAGCAGACUGGACAAGGUGGAGGCCGAGGUGCAGAUCGACCGGCUGAUCACCGGCAGACUGCAGAGCCUGCAGACCUACGUGACCCAGCAGCUGAUCAGAGCCGCCGAGAUCAGAGCCAGCGCCAACCUGGCCGCCACCAAGAUGAGCGAGUGCGUGCUGGGCCAGAGCAAGAGAGUGGACUUCUGCGGCAAGGGCUACCACCUGAUGAGCUUCCCUCAGAGCGCCCCUCACGGCGUGGUGUUCCUGCACGUGACCUACGUGCCUGCCCAGGAGAAGAACUUCACCACCGCCCCUGCCAUCUGCCACGACGGCAAGGCCCACUUCCCUAGAGAGGGCGUGUUCGUGAGCAACGGCACCCACUGGUUCGUGACCCAGCGGAACUUCUACGAGCCCCAGAUCAUCACCACCGACAACACCUUCGUGAGCGGCAACUGCGACGUGGUGAUCGGCAUCGUGAACAACACCGUGUACGACCCUCUGCAGCCUGAGCUGGACAGCUUCAAGGAGGAGCUGGACAAGUACUUCAAGAACCACACCAGCCCCGACGUGGACCUGGGCGACAUCAGCGGCAUCAACGCCAGCGUGGUGAACAUCCAGAAGGAGAUCGACCGGCUGAACGAGGUGGCCAAGAACCUGAACGAGAGCCUGAUCGACCUGCAGGAGCUGGGCAAGUACGAGCAGUACAUCAAGUGGCCCUGGUACAUCUGGCUGGGCUUCAUCGCCGGCCUGAUCGCCAUCGUGAUGGUGACCAUCAUGCUGUGCUGCAUGACCAGCUGCUGCAGCUGCCUGAAGGGCUGCUGCAGCUGUGGCAGCUGCUGCAAGUUCGACGAGGACGACAGCGAGCCCGUGCUGAAGGGCGUGAAGCUGCACUACACCUGAUGACUCGAGCUGGUACUGCAUGCACGCAAUGCUAGCUGCCCCUUUCCCGUCCUGGGUACCCCGAGUCUCCCCCGACCUCGGGUCCCAGGUAUGCUCCCACCUCCACCUGCCCCACUCACCACCUCUGCUAGUUCCAGACACCUCCCAAGCACGCAGCAAUGCAGCUCAAAACGCUUAGCCUAGCCACACCCCCACGGGAAACAGCAGUGAUUAACCUUUAGCAAUAAACGAAAGUUUAACUAAGCUAUACUAACCCCAGGGUUGGUCAAUUUCGUGCCAGCCACACCCUGGAGCUAGCA\n"
          ]
        }
      ]
    },
    {
      "cell_type": "markdown",
      "source": [
        "To create the BA.1 vaccine, we used the same strategy as the BA.2."
      ],
      "metadata": {
        "id": "2BvPh9u5uB8a"
      }
    },
    {
      "cell_type": "markdown",
      "source": [
        "Finally, we will analyze the difference between the genomes of BA.1 and BA.2 spikes"
      ],
      "metadata": {
        "id": "Iz8bixiFo4nR"
      }
    },
    {
      "cell_type": "code",
      "source": [
        "# compare how many amino-acid differences are there between the genomes of BA.1 and BA.2?\n",
        "ba1_amino_seq = ba1_dictionary['Spike Region Amino Acid Sequence']\n",
        "ba2_amino_seq = ba2_dictionary['Spike Region Amino Acid Sequence']\n",
        "\n",
        "compare_regions('BA.1 Variant', ba1_amino_seq, 'BA.2 Variant', ba2_amino_seq)\n",
        "print()"
      ],
      "metadata": {
        "id": "CMNdJxZeS9Ra",
        "colab": {
          "base_uri": "https://localhost:8080/"
        },
        "outputId": "240db708-95d5-4879-d135-82e4a947cee7"
      },
      "execution_count": null,
      "outputs": [
        {
          "output_type": "stream",
          "name": "stdout",
          "text": [
            "BA.1 Variant\n",
            "MFVFLVLLPLVSSQCVNLTTRTQLPPAYTNSFTRGVYYPDKVFRSSVLHSTQDLFLPFFSNVTWFHVISGTNGTKRFDNPVLPFNDGVYFASIEKSNIIRGWIFGTTLDSKTQSLLIVNNATNVVIKVCEFQFCNDPFLDHKNNKSWMESEFRVYSSANNCTFEYVSQPFLMDLEGKQGNFKNLREFVFKNIDGYFKIYSKHTPIIVREPEDLPQGFSALEPLVDLPIGINITRFQTLLALHRSYLTPGDSSSGWTAGAAAYYVGYLQPRTFLLKYNENGTITDAVDCALDPLSETKCTLKSFTVEKGIYQTSNFRVQPTESIVRFPNITNLCPFDEVFNATRFASVYAWNRKRISNCVADYSVLYNLAPFFTFKCYGVSPTKLNDLCFTNVYADSFVIRGDEVRQIAPGQTGNIADYNYKLPDDFTGCVIAWNSNKLDSKVSGNYNYLYRLFRKSNLKPFERDISTEIYQAGNKPCNGVAGFNCYFPLRSYSFRPTYGVGHQPYRVVVLSFELLHAPATVCGPKKSTNLVKNKCVNFNFNGLKGTGVLTESNKKFLPFQQFGRDIADTTDAVRDPQTLEILDITPCSFGGVSVITPGTNTSNQVAVLYQGVNCTEVPVAIHADQLTPTWRVYSTGSNVFQTRAGCLIGAEYVNNSYECDIPIGAGICASYQTQTKSHRRARSVASQSIIAYTMSLGAENSVAYSNNSIAIPTNFTISVTTEILPVSMTKTSVDCTMYICGDSTECSNLLLQYGSFCTQLKRALTGIAVEQDKNTQEVFAQVKQIYKTPPIKYFGGFNFSQILPDPSKPSKRSFIEDLLFNKVTLADAGFIKQYGDCLGDIAARDLICAQKFKGLTVLPPLLTDEMIAQYTSALLAGTITSGWTFGAGAALQIPFAMQMAYRFNGIGVTQNVLYENQKLIANQFNSAIGKIQDSLSSTASALGKLQDVVNHNAQALNTLVKQLSSKFGAISSVLNDIFSRLDKVEAEVQIDRLITGRLQSLQTYVTQQLIRAAEIRASANLAATKMSECVLGQSKRVDFCGKGYHLMSFPQSAPHGVVFLHVTYVPAQEKNFTTAPAICHDGKAHFPREGVFVSNGTHWFVTQRNFYEPQIITTDNTFVSGNCDVVIGIVNNTVYDPLQPELDSFKEELDKYFKNHTSPDVDLGDISGINASVVNIQKEIDRLNEVAKNLNESLIDLQELGKYEQYIKWPWYIWLGFIAGLIAIVMVTIMLCCMTSCCSCLKGCCSCGSCCKFDEDDSEPVLKGVKLHYT*\n",
            "BA.2 Variant\n",
            "MFVFLVLLPLVSSQCVNLITRTQSYTNSFTRGVYYPDKVFRSSVLHSTQDLFLPFFSNVTWFHAIHVSGTNGTKRFDNPVLPFNDGVYFASTEKSNIIRGWIFGTTLDSKTQSLLIVNNATNVVIKVCEFQFCNDPFLDVYYHKNNKSWMESEFRVYSSANNCTFEYVSQPFLMDLEGKQGNFKNLREFVFKNIDGYFKIYSKHTPINLGRDLPQGFSALEPLVDLPIGINITRFQTLLALHRSYLTPGDSSSGWTAGAAAYYVGYLQPRTFLLKYNENGTITDAVDCALDPLSETKCTLKSFTVEKGIYQTSNFRVQPTESIVRFPNITNLCPFDEVFNATRFASVYAWNRKRISNCVADYSVLYNFAPFFAFKCYGVSPTKLNDLCFTNVYADSFVIRGNEVSQIAPGQTGNIADYNYKLPDDFTGCVIAWNSNKLDSKVGGNYNYLYRLFRKSNLKPFERDISTEIYQAGNKPCNGVAGFNCYFPLRSYGFRPTYGVGHQPYRVVVLSFELLHAPATVCGPKKSTNLVKNKCVNFNFNGLTGTGVLTESNKKFLPFQQFGRDIADTTDAVRDPQTLEILDITPCSFGGVSVITPGTNTSNQVAVLYQGVNCTEVPVAIHADQLTPTWRVYSTGSNVFQTRAGCLIGAEYVNNSYECDIPIGAGICASYQTQTKSHRRARSVASQSIIAYTMSLGAENSVAYSNNSIAIPTNFTISVTTEILPVSMTKTSVDCTMYICGDSTECSNLLLQYGSFCTQLKRALTGIAVEQDKNTQEVFAQVKQIYKTPPIKYFGGFNFSQILPDPSKPSKRSFIEDLLFNKVTLADAGFIKQYGDCLGDIAARDLICAQKFNGLTVLPPLLTDEMIAQYTSALLAGTITSGWTFGAGAALQIPFAMQMAYRFNGIGVTQNVLYENQKLIANQFNSAIGKIQDSLSSTASALGKLQDVVNHNAQALNTLVKQLSSKFGAISSVLNDILSRLDKVEAEVQIDRLITGRLQSLQTYVTQQLIRAAEIRASANLAATKMSECVLGQSKRVDFCGKGYHLMSFPQSAPHGVVFLHVTYVPAQEKNFTTAPAICHDGKAHFPREGVFVSNGTHWFVTQRNFYEPQIITTDNTFVSGNCDVVIGIVNNTVYDPLQPELDSFKEELDKYFKNHTSPDVDLGDISGINASVVNIQKEIDRLNEVAKNLNESLIDLQELGKYEQYIKWPWYIWLGFIAGLIAIVMVTIMLCCMTSCCSCLKGCCSCGSCCKFDEDDSEPVLKGVKLHYT*\n",
            "Scroll to the right to spot differences\n",
            "                  *    ******************************* **********  ****************************** ******* ******** *** **** ************************** ************************************* **********************                                                                                                                                                            *    *                            *  *                                     *                                                 *                                                  *                                                                                                                                                                                                                                                                                                                    *                                                                                                                            *                                                                                                                                                                                                                                                                                                     \n",
            "There are 188 differences at positions: [18, 23, 24, 25, 26, 27, 28, 29, 30, 31, 32, 33, 34, 35, 36, 37, 38, 39, 40, 41, 42, 43, 44, 45, 46, 47, 48, 49, 50, 51, 52, 53, 55, 56, 57, 58, 59, 60, 61, 62, 63, 64, 67, 68, 69, 70, 71, 72, 73, 74, 75, 76, 77, 78, 79, 80, 81, 82, 83, 84, 85, 86, 87, 88, 89, 90, 91, 92, 93, 94, 95, 96, 98, 99, 100, 101, 102, 103, 104, 106, 107, 108, 109, 110, 111, 112, 113, 115, 116, 117, 119, 120, 121, 122, 124, 125, 126, 127, 128, 129, 130, 131, 132, 133, 134, 135, 136, 137, 138, 139, 140, 141, 142, 143, 144, 145, 146, 147, 148, 149, 151, 152, 153, 154, 155, 156, 157, 158, 159, 160, 161, 162, 163, 164, 165, 166, 167, 168, 169, 170, 171, 172, 173, 174, 175, 176, 177, 178, 179, 180, 181, 182, 183, 184, 185, 186, 187, 189, 190, 191, 192, 193, 194, 195, 196, 197, 198, 199, 200, 201, 202, 203, 204, 205, 206, 207, 208, 209, 210, 367, 372, 401, 404, 442, 492, 543, 852, 977]\n",
            "\n"
          ]
        }
      ]
    },
    {
      "cell_type": "code",
      "source": [
        "copy_ba1_protein = str(ba1_amino_seq)\n",
        "copy_ba2_protein = str(ba2_amino_seq)\n",
        "\n",
        "copy_ba2_protein = copy_ba2_protein[0:23]+'///'+copy_ba2_protein[23:]\n",
        "\n",
        "copy_ba1_protein = copy_ba1_protein[0:68]+'--'+copy_ba1_protein[68:]\n",
        "copy_ba1_protein = copy_ba1_protein[0:142]+'---'+copy_ba1_protein[142:]\n",
        "\n",
        "copy_ba2_protein = copy_ba2_protein[0:214]+'//'+copy_ba2_protein[214:]\n",
        "\n",
        "pos, count_dif = compare_regions('BA.1 Variant', copy_ba1_protein, 'BA.2 Variant', copy_ba2_protein)"
      ],
      "metadata": {
        "id": "ZK6KBPKqK_sC",
        "colab": {
          "base_uri": "https://localhost:8080/"
        },
        "outputId": "16c0d40d-392b-4a2d-ae1e-57238bc70197"
      },
      "execution_count": null,
      "outputs": [
        {
          "output_type": "stream",
          "name": "stdout",
          "text": [
            "BA.1 Variant\n",
            "MFVFLVLLPLVSSQCVNLTTRTQLPPAYTNSFTRGVYYPDKVFRSSVLHSTQDLFLPFFSNVTWFHVI--SGTNGTKRFDNPVLPFNDGVYFASIEKSNIIRGWIFGTTLDSKTQSLLIVNNATNVVIKVCEFQFCNDPFLD---HKNNKSWMESEFRVYSSANNCTFEYVSQPFLMDLEGKQGNFKNLREFVFKNIDGYFKIYSKHTPIIVREPEDLPQGFSALEPLVDLPIGINITRFQTLLALHRSYLTPGDSSSGWTAGAAAYYVGYLQPRTFLLKYNENGTITDAVDCALDPLSETKCTLKSFTVEKGIYQTSNFRVQPTESIVRFPNITNLCPFDEVFNATRFASVYAWNRKRISNCVADYSVLYNLAPFFTFKCYGVSPTKLNDLCFTNVYADSFVIRGDEVRQIAPGQTGNIADYNYKLPDDFTGCVIAWNSNKLDSKVSGNYNYLYRLFRKSNLKPFERDISTEIYQAGNKPCNGVAGFNCYFPLRSYSFRPTYGVGHQPYRVVVLSFELLHAPATVCGPKKSTNLVKNKCVNFNFNGLKGTGVLTESNKKFLPFQQFGRDIADTTDAVRDPQTLEILDITPCSFGGVSVITPGTNTSNQVAVLYQGVNCTEVPVAIHADQLTPTWRVYSTGSNVFQTRAGCLIGAEYVNNSYECDIPIGAGICASYQTQTKSHRRARSVASQSIIAYTMSLGAENSVAYSNNSIAIPTNFTISVTTEILPVSMTKTSVDCTMYICGDSTECSNLLLQYGSFCTQLKRALTGIAVEQDKNTQEVFAQVKQIYKTPPIKYFGGFNFSQILPDPSKPSKRSFIEDLLFNKVTLADAGFIKQYGDCLGDIAARDLICAQKFKGLTVLPPLLTDEMIAQYTSALLAGTITSGWTFGAGAALQIPFAMQMAYRFNGIGVTQNVLYENQKLIANQFNSAIGKIQDSLSSTASALGKLQDVVNHNAQALNTLVKQLSSKFGAISSVLNDIFSRLDKVEAEVQIDRLITGRLQSLQTYVTQQLIRAAEIRASANLAATKMSECVLGQSKRVDFCGKGYHLMSFPQSAPHGVVFLHVTYVPAQEKNFTTAPAICHDGKAHFPREGVFVSNGTHWFVTQRNFYEPQIITTDNTFVSGNCDVVIGIVNNTVYDPLQPELDSFKEELDKYFKNHTSPDVDLGDISGINASVVNIQKEIDRLNEVAKNLNESLIDLQELGKYEQYIKWPWYIWLGFIAGLIAIVMVTIMLCCMTSCCSCLKGCCSCGSCCKFDEDDSEPVLKGVKLHYT*\n",
            "BA.2 Variant\n",
            "MFVFLVLLPLVSSQCVNLITRTQ///SYTNSFTRGVYYPDKVFRSSVLHSTQDLFLPFFSNVTWFHAIHVSGTNGTKRFDNPVLPFNDGVYFASTEKSNIIRGWIFGTTLDSKTQSLLIVNNATNVVIKVCEFQFCNDPFLDVYYHKNNKSWMESEFRVYSSANNCTFEYVSQPFLMDLEGKQGNFKNLREFVFKNIDGYFKIYSKHTPINLGR//DLPQGFSALEPLVDLPIGINITRFQTLLALHRSYLTPGDSSSGWTAGAAAYYVGYLQPRTFLLKYNENGTITDAVDCALDPLSETKCTLKSFTVEKGIYQTSNFRVQPTESIVRFPNITNLCPFDEVFNATRFASVYAWNRKRISNCVADYSVLYNFAPFFAFKCYGVSPTKLNDLCFTNVYADSFVIRGNEVSQIAPGQTGNIADYNYKLPDDFTGCVIAWNSNKLDSKVGGNYNYLYRLFRKSNLKPFERDISTEIYQAGNKPCNGVAGFNCYFPLRSYGFRPTYGVGHQPYRVVVLSFELLHAPATVCGPKKSTNLVKNKCVNFNFNGLTGTGVLTESNKKFLPFQQFGRDIADTTDAVRDPQTLEILDITPCSFGGVSVITPGTNTSNQVAVLYQGVNCTEVPVAIHADQLTPTWRVYSTGSNVFQTRAGCLIGAEYVNNSYECDIPIGAGICASYQTQTKSHRRARSVASQSIIAYTMSLGAENSVAYSNNSIAIPTNFTISVTTEILPVSMTKTSVDCTMYICGDSTECSNLLLQYGSFCTQLKRALTGIAVEQDKNTQEVFAQVKQIYKTPPIKYFGGFNFSQILPDPSKPSKRSFIEDLLFNKVTLADAGFIKQYGDCLGDIAARDLICAQKFNGLTVLPPLLTDEMIAQYTSALLAGTITSGWTFGAGAALQIPFAMQMAYRFNGIGVTQNVLYENQKLIANQFNSAIGKIQDSLSSTASALGKLQDVVNHNAQALNTLVKQLSSKFGAISSVLNDILSRLDKVEAEVQIDRLITGRLQSLQTYVTQQLIRAAEIRASANLAATKMSECVLGQSKRVDFCGKGYHLMSFPQSAPHGVVFLHVTYVPAQEKNFTTAPAICHDGKAHFPREGVFVSNGTHWFVTQRNFYEPQIITTDNTFVSGNCDVVIGIVNNTVYDPLQPELDSFKEELDKYFKNHTSPDVDLGDISGINASVVNIQKEIDRLNEVAKNLNESLIDLQELGKYEQYIKWPWYIWLGFIAGLIAIVMVTIMLCCMTSCCSCLKGCCSCGSCCKFDEDDSEPVLKGVKLHYT*\n",
            "Scroll to the right to spot differences\n",
            "                  *    ****                                       * **                        *                                               ***                                                                 ******                                                                                                                                                            *    *                            *  *                                     *                                                 *                                                  *                                                                                                                                                                                                                                                                                                                    *                                                                                                                            *                                                                                                                                                                                                                                                                                                     \n",
            "There are 27 differences at positions: [18, 23, 24, 25, 26, 66, 68, 69, 94, 142, 143, 144, 210, 211, 212, 213, 214, 215, 372, 377, 406, 409, 447, 497, 548, 857, 982]\n"
          ]
        }
      ]
    }
  ]
}